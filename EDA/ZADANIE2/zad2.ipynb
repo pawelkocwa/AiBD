{
 "cells": [
  {
   "cell_type": "code",
   "execution_count": 1,
   "metadata": {},
   "outputs": [],
   "source": [
    "# (N mod 3) +1"
   ]
  },
  {
   "cell_type": "code",
   "execution_count": 2,
   "metadata": {},
   "outputs": [
    {
     "data": {
      "text/plain": [
       "3"
      ]
     },
     "execution_count": 2,
     "metadata": {},
     "output_type": "execute_result"
    }
   ],
   "source": [
    "5%3+1"
   ]
  },
  {
   "cell_type": "code",
   "execution_count": 8,
   "metadata": {},
   "outputs": [],
   "source": [
    "import pandas as pd \n",
    "import plotly.express as px"
   ]
  },
  {
   "cell_type": "code",
   "execution_count": 9,
   "metadata": {},
   "outputs": [],
   "source": [
    "data = pd.read_csv(\"dem_score_.csv\", delimiter=';')"
   ]
  },
  {
   "cell_type": "code",
   "execution_count": 10,
   "metadata": {},
   "outputs": [
    {
     "data": {
      "text/html": [
       "<div>\n",
       "<style scoped>\n",
       "    .dataframe tbody tr th:only-of-type {\n",
       "        vertical-align: middle;\n",
       "    }\n",
       "\n",
       "    .dataframe tbody tr th {\n",
       "        vertical-align: top;\n",
       "    }\n",
       "\n",
       "    .dataframe thead th {\n",
       "        text-align: right;\n",
       "    }\n",
       "</style>\n",
       "<table border=\"1\" class=\"dataframe\">\n",
       "  <thead>\n",
       "    <tr style=\"text-align: right;\">\n",
       "      <th></th>\n",
       "      <th>Unnamed: 0</th>\n",
       "      <th>country</th>\n",
       "      <th>year</th>\n",
       "      <th>lvl_of_democracy</th>\n",
       "    </tr>\n",
       "  </thead>\n",
       "  <tbody>\n",
       "    <tr>\n",
       "      <th>0</th>\n",
       "      <td>0</td>\n",
       "      <td>Albania</td>\n",
       "      <td>1952</td>\n",
       "      <td>-9</td>\n",
       "    </tr>\n",
       "    <tr>\n",
       "      <th>1</th>\n",
       "      <td>1</td>\n",
       "      <td>Argentina</td>\n",
       "      <td>1952</td>\n",
       "      <td>-9</td>\n",
       "    </tr>\n",
       "    <tr>\n",
       "      <th>2</th>\n",
       "      <td>2</td>\n",
       "      <td>Armenia</td>\n",
       "      <td>1952</td>\n",
       "      <td>-9</td>\n",
       "    </tr>\n",
       "    <tr>\n",
       "      <th>3</th>\n",
       "      <td>3</td>\n",
       "      <td>Australia</td>\n",
       "      <td>1952</td>\n",
       "      <td>10</td>\n",
       "    </tr>\n",
       "    <tr>\n",
       "      <th>4</th>\n",
       "      <td>4</td>\n",
       "      <td>Austria</td>\n",
       "      <td>1952</td>\n",
       "      <td>10</td>\n",
       "    </tr>\n",
       "  </tbody>\n",
       "</table>\n",
       "</div>"
      ],
      "text/plain": [
       "   Unnamed: 0    country  year  lvl_of_democracy\n",
       "0           0    Albania  1952                -9\n",
       "1           1  Argentina  1952                -9\n",
       "2           2    Armenia  1952                -9\n",
       "3           3  Australia  1952                10\n",
       "4           4    Austria  1952                10"
      ]
     },
     "execution_count": 10,
     "metadata": {},
     "output_type": "execute_result"
    }
   ],
   "source": [
    "data.head()"
   ]
  },
  {
   "cell_type": "code",
   "execution_count": 31,
   "metadata": {},
   "outputs": [
    {
     "data": {
      "application/vnd.plotly.v1+json": {
       "config": {
        "plotlyServerURL": "https://plot.ly"
       },
       "data": [
        {
         "alignmentgroup": "True",
         "hoverlabel": {
          "namelength": 0
         },
         "hovertemplate": "country=%{x}<br>lvl_of_democracy=%{y}",
         "legendgroup": "",
         "marker": {
          "color": "#636efa"
         },
         "name": "",
         "notched": false,
         "offsetgroup": "",
         "orientation": "v",
         "showlegend": false,
         "type": "box",
         "x": [
          "Albania",
          "Argentina",
          "Armenia",
          "Australia",
          "Austria",
          "Azerbaijan",
          "Belarus",
          "Belgium",
          "Bhutan",
          "Bolivia",
          "Brazil",
          "Bulgaria",
          "Canada",
          "Chile",
          "China",
          "Colombia",
          "Costa Rica",
          "Croatia",
          "Cuba",
          "Czech Rep.",
          "Denmark",
          "Dominican Rep.",
          "Ecuador",
          "Egypt",
          "El Salvador",
          "Estonia",
          "Ethiopia",
          "Finland",
          "France",
          "Georgia",
          "Germany",
          "Greece",
          "Guatemala",
          "Haiti",
          "Honduras",
          "Hungary",
          "India",
          "Indonesia",
          "Iran",
          "Iraq",
          "Ireland",
          "Israel",
          "Italy",
          "Japan",
          "Jordan",
          "Kazakhstan",
          "Korea, Dem. Rep.",
          "Korea, Rep.",
          "Kyrgyzstan",
          "Latvia",
          "Lebanon",
          "Liberia",
          "Libya",
          "Lithuania",
          "Macedonia, FYR",
          "Mexico",
          "Moldova",
          "Mongolia",
          "Montenegro",
          "Myanmar",
          "Nepal",
          "Netherlands",
          "New Zealand",
          "Nicaragua",
          "Norway",
          "Oman",
          "Pakistan",
          "Panama",
          "Paraguay",
          "Peru",
          "Philippines",
          "Poland",
          "Portugal",
          "Romania",
          "Russia",
          "Saudi Arabia",
          "Serbia",
          "Slovak Republic",
          "Slovenia",
          "South Africa",
          "Spain",
          "Sri Lanka",
          "Sweden",
          "Switzerland",
          "Syria",
          "Taiwan",
          "Tajikistan",
          "Thailand",
          "Turkey",
          "Turkmenistan",
          "Ukraine",
          "United Kingdom",
          "United States",
          "Uruguay",
          "Uzbekistan",
          "Venezuela",
          "Albania",
          "Argentina",
          "Armenia",
          "Australia",
          "Austria",
          "Azerbaijan",
          "Belarus",
          "Belgium",
          "Bhutan",
          "Bolivia",
          "Brazil",
          "Bulgaria",
          "Canada",
          "Chile",
          "China",
          "Colombia",
          "Costa Rica",
          "Croatia",
          "Cuba",
          "Czech Rep.",
          "Denmark",
          "Dominican Rep.",
          "Ecuador",
          "Egypt",
          "El Salvador",
          "Estonia",
          "Ethiopia",
          "Finland",
          "France",
          "Georgia",
          "Germany",
          "Greece",
          "Guatemala",
          "Haiti",
          "Honduras",
          "Hungary",
          "India",
          "Indonesia",
          "Iran",
          "Iraq",
          "Ireland",
          "Israel",
          "Italy",
          "Japan",
          "Jordan",
          "Kazakhstan",
          "Korea, Dem. Rep.",
          "Korea, Rep.",
          "Kyrgyzstan",
          "Latvia",
          "Lebanon",
          "Liberia",
          "Libya",
          "Lithuania",
          "Macedonia, FYR",
          "Mexico",
          "Moldova",
          "Mongolia",
          "Montenegro",
          "Myanmar",
          "Nepal",
          "Netherlands",
          "New Zealand",
          "Nicaragua",
          "Norway",
          "Oman",
          "Pakistan",
          "Panama",
          "Paraguay",
          "Peru",
          "Philippines",
          "Poland",
          "Portugal",
          "Romania",
          "Russia",
          "Saudi Arabia",
          "Serbia",
          "Slovak Republic",
          "Slovenia",
          "South Africa",
          "Spain",
          "Sri Lanka",
          "Sweden",
          "Switzerland",
          "Syria",
          "Taiwan",
          "Tajikistan",
          "Thailand",
          "Turkey",
          "Turkmenistan",
          "Ukraine",
          "United Kingdom",
          "United States",
          "Uruguay",
          "Uzbekistan",
          "Venezuela",
          "Albania",
          "Argentina",
          "Armenia",
          "Australia",
          "Austria",
          "Azerbaijan",
          "Belarus",
          "Belgium",
          "Bhutan",
          "Bolivia",
          "Brazil",
          "Bulgaria",
          "Canada",
          "Chile",
          "China",
          "Colombia",
          "Costa Rica",
          "Croatia",
          "Cuba",
          "Czech Rep.",
          "Denmark",
          "Dominican Rep.",
          "Ecuador",
          "Egypt",
          "El Salvador",
          "Estonia",
          "Ethiopia",
          "Finland",
          "France",
          "Georgia",
          "Germany",
          "Greece",
          "Guatemala",
          "Haiti",
          "Honduras",
          "Hungary",
          "India",
          "Indonesia",
          "Iran",
          "Iraq",
          "Ireland",
          "Israel",
          "Italy",
          "Japan",
          "Jordan",
          "Kazakhstan",
          "Korea, Dem. Rep.",
          "Korea, Rep.",
          "Kyrgyzstan",
          "Latvia",
          "Lebanon",
          "Liberia",
          "Libya",
          "Lithuania",
          "Macedonia, FYR",
          "Mexico",
          "Moldova",
          "Mongolia",
          "Montenegro",
          "Myanmar",
          "Nepal",
          "Netherlands",
          "New Zealand",
          "Nicaragua",
          "Norway",
          "Oman",
          "Pakistan",
          "Panama",
          "Paraguay",
          "Peru",
          "Philippines",
          "Poland",
          "Portugal",
          "Romania",
          "Russia",
          "Saudi Arabia",
          "Serbia",
          "Slovak Republic",
          "Slovenia",
          "South Africa",
          "Spain",
          "Sri Lanka",
          "Sweden",
          "Switzerland",
          "Syria",
          "Taiwan",
          "Tajikistan",
          "Thailand",
          "Turkey",
          "Turkmenistan",
          "Ukraine",
          "United Kingdom",
          "United States",
          "Uruguay",
          "Uzbekistan",
          "Venezuela",
          "Albania",
          "Argentina",
          "Armenia",
          "Australia",
          "Austria",
          "Azerbaijan",
          "Belarus",
          "Belgium",
          "Bhutan",
          "Bolivia",
          "Brazil",
          "Bulgaria",
          "Canada",
          "Chile",
          "China",
          "Colombia",
          "Costa Rica",
          "Croatia",
          "Cuba",
          "Czech Rep.",
          "Denmark",
          "Dominican Rep.",
          "Ecuador",
          "Egypt",
          "El Salvador",
          "Estonia",
          "Ethiopia",
          "Finland",
          "France",
          "Georgia",
          "Germany",
          "Greece",
          "Guatemala",
          "Haiti",
          "Honduras",
          "Hungary",
          "India",
          "Indonesia",
          "Iran",
          "Iraq",
          "Ireland",
          "Israel",
          "Italy",
          "Japan",
          "Jordan",
          "Kazakhstan",
          "Korea, Dem. Rep.",
          "Korea, Rep.",
          "Kyrgyzstan",
          "Latvia",
          "Lebanon",
          "Liberia",
          "Libya",
          "Lithuania",
          "Macedonia, FYR",
          "Mexico",
          "Moldova",
          "Mongolia",
          "Montenegro",
          "Myanmar",
          "Nepal",
          "Netherlands",
          "New Zealand",
          "Nicaragua",
          "Norway",
          "Oman",
          "Pakistan",
          "Panama",
          "Paraguay",
          "Peru",
          "Philippines",
          "Poland",
          "Portugal",
          "Romania",
          "Russia",
          "Saudi Arabia",
          "Serbia",
          "Slovak Republic",
          "Slovenia",
          "South Africa",
          "Spain",
          "Sri Lanka",
          "Sweden",
          "Switzerland",
          "Syria",
          "Taiwan",
          "Tajikistan",
          "Thailand",
          "Turkey",
          "Turkmenistan",
          "Ukraine",
          "United Kingdom",
          "United States",
          "Uruguay",
          "Uzbekistan",
          "Venezuela",
          "Albania",
          "Argentina",
          "Armenia",
          "Australia",
          "Austria",
          "Azerbaijan",
          "Belarus",
          "Belgium",
          "Bhutan",
          "Bolivia",
          "Brazil",
          "Bulgaria",
          "Canada",
          "Chile",
          "China",
          "Colombia",
          "Costa Rica",
          "Croatia",
          "Cuba",
          "Czech Rep.",
          "Denmark",
          "Dominican Rep.",
          "Ecuador",
          "Egypt",
          "El Salvador",
          "Estonia",
          "Ethiopia",
          "Finland",
          "France",
          "Georgia",
          "Germany",
          "Greece",
          "Guatemala",
          "Haiti",
          "Honduras",
          "Hungary",
          "India",
          "Indonesia",
          "Iran",
          "Iraq",
          "Ireland",
          "Israel",
          "Italy",
          "Japan",
          "Jordan",
          "Kazakhstan",
          "Korea, Dem. Rep.",
          "Korea, Rep.",
          "Kyrgyzstan",
          "Latvia",
          "Lebanon",
          "Liberia",
          "Libya",
          "Lithuania",
          "Macedonia, FYR",
          "Mexico",
          "Moldova",
          "Mongolia",
          "Montenegro",
          "Myanmar",
          "Nepal",
          "Netherlands",
          "New Zealand",
          "Nicaragua",
          "Norway",
          "Oman",
          "Pakistan",
          "Panama",
          "Paraguay",
          "Peru",
          "Philippines",
          "Poland",
          "Portugal",
          "Romania",
          "Russia",
          "Saudi Arabia",
          "Serbia",
          "Slovak Republic",
          "Slovenia",
          "South Africa",
          "Spain",
          "Sri Lanka",
          "Sweden",
          "Switzerland",
          "Syria",
          "Taiwan",
          "Tajikistan",
          "Thailand",
          "Turkey",
          "Turkmenistan",
          "Ukraine",
          "United Kingdom",
          "United States",
          "Uruguay",
          "Uzbekistan",
          "Venezuela",
          "Albania",
          "Argentina",
          "Armenia",
          "Australia",
          "Austria",
          "Azerbaijan",
          "Belarus",
          "Belgium",
          "Bhutan",
          "Bolivia",
          "Brazil",
          "Bulgaria",
          "Canada",
          "Chile",
          "China",
          "Colombia",
          "Costa Rica",
          "Croatia",
          "Cuba",
          "Czech Rep.",
          "Denmark",
          "Dominican Rep.",
          "Ecuador",
          "Egypt",
          "El Salvador",
          "Estonia",
          "Ethiopia",
          "Finland",
          "France",
          "Georgia",
          "Germany",
          "Greece",
          "Guatemala",
          "Haiti",
          "Honduras",
          "Hungary",
          "India",
          "Indonesia",
          "Iran",
          "Iraq",
          "Ireland",
          "Israel",
          "Italy",
          "Japan",
          "Jordan",
          "Kazakhstan",
          "Korea, Dem. Rep.",
          "Korea, Rep.",
          "Kyrgyzstan",
          "Latvia",
          "Lebanon",
          "Liberia",
          "Libya",
          "Lithuania",
          "Macedonia, FYR",
          "Mexico",
          "Moldova",
          "Mongolia",
          "Montenegro",
          "Myanmar",
          "Nepal",
          "Netherlands",
          "New Zealand",
          "Nicaragua",
          "Norway",
          "Oman",
          "Pakistan",
          "Panama",
          "Paraguay",
          "Peru",
          "Philippines",
          "Poland",
          "Portugal",
          "Romania",
          "Russia",
          "Saudi Arabia",
          "Serbia",
          "Slovak Republic",
          "Slovenia",
          "South Africa",
          "Spain",
          "Sri Lanka",
          "Sweden",
          "Switzerland",
          "Syria",
          "Taiwan",
          "Tajikistan",
          "Thailand",
          "Turkey",
          "Turkmenistan",
          "Ukraine",
          "United Kingdom",
          "United States",
          "Uruguay",
          "Uzbekistan",
          "Venezuela",
          "Albania",
          "Argentina",
          "Armenia",
          "Australia",
          "Austria",
          "Azerbaijan",
          "Belarus",
          "Belgium",
          "Bhutan",
          "Bolivia",
          "Brazil",
          "Bulgaria",
          "Canada",
          "Chile",
          "China",
          "Colombia",
          "Costa Rica",
          "Croatia",
          "Cuba",
          "Czech Rep.",
          "Denmark",
          "Dominican Rep.",
          "Ecuador",
          "Egypt",
          "El Salvador",
          "Estonia",
          "Ethiopia",
          "Finland",
          "France",
          "Georgia",
          "Germany",
          "Greece",
          "Guatemala",
          "Haiti",
          "Honduras",
          "Hungary",
          "India",
          "Indonesia",
          "Iran",
          "Iraq",
          "Ireland",
          "Israel",
          "Italy",
          "Japan",
          "Jordan",
          "Kazakhstan",
          "Korea, Dem. Rep.",
          "Korea, Rep.",
          "Kyrgyzstan",
          "Latvia",
          "Lebanon",
          "Liberia",
          "Libya",
          "Lithuania",
          "Macedonia, FYR",
          "Mexico",
          "Moldova",
          "Mongolia",
          "Montenegro",
          "Myanmar",
          "Nepal",
          "Netherlands",
          "New Zealand",
          "Nicaragua",
          "Norway",
          "Oman",
          "Pakistan",
          "Panama",
          "Paraguay",
          "Peru",
          "Philippines",
          "Poland",
          "Portugal",
          "Romania",
          "Russia",
          "Saudi Arabia",
          "Serbia",
          "Slovak Republic",
          "Slovenia",
          "South Africa",
          "Spain",
          "Sri Lanka",
          "Sweden",
          "Switzerland",
          "Syria",
          "Taiwan",
          "Tajikistan",
          "Thailand",
          "Turkey",
          "Turkmenistan",
          "Ukraine",
          "United Kingdom",
          "United States",
          "Uruguay",
          "Uzbekistan",
          "Venezuela",
          "Albania",
          "Argentina",
          "Armenia",
          "Australia",
          "Austria",
          "Azerbaijan",
          "Belarus",
          "Belgium",
          "Bhutan",
          "Bolivia",
          "Brazil",
          "Bulgaria",
          "Canada",
          "Chile",
          "China",
          "Colombia",
          "Costa Rica",
          "Croatia",
          "Cuba",
          "Czech Rep.",
          "Denmark",
          "Dominican Rep.",
          "Ecuador",
          "Egypt",
          "El Salvador",
          "Estonia",
          "Ethiopia",
          "Finland",
          "France",
          "Georgia",
          "Germany",
          "Greece",
          "Guatemala",
          "Haiti",
          "Honduras",
          "Hungary",
          "India",
          "Indonesia",
          "Iran",
          "Iraq",
          "Ireland",
          "Israel",
          "Italy",
          "Japan",
          "Jordan",
          "Kazakhstan",
          "Korea, Dem. Rep.",
          "Korea, Rep.",
          "Kyrgyzstan",
          "Latvia",
          "Lebanon",
          "Liberia",
          "Libya",
          "Lithuania",
          "Macedonia, FYR",
          "Mexico",
          "Moldova",
          "Mongolia",
          "Montenegro",
          "Myanmar",
          "Nepal",
          "Netherlands",
          "New Zealand",
          "Nicaragua",
          "Norway",
          "Oman",
          "Pakistan",
          "Panama",
          "Paraguay",
          "Peru",
          "Philippines",
          "Poland",
          "Portugal",
          "Romania",
          "Russia",
          "Saudi Arabia",
          "Serbia",
          "Slovak Republic",
          "Slovenia",
          "South Africa",
          "Spain",
          "Sri Lanka",
          "Sweden",
          "Switzerland",
          "Syria",
          "Taiwan",
          "Tajikistan",
          "Thailand",
          "Turkey",
          "Turkmenistan",
          "Ukraine",
          "United Kingdom",
          "United States",
          "Uruguay",
          "Uzbekistan",
          "Venezuela",
          "Albania",
          "Argentina",
          "Armenia",
          "Australia",
          "Austria",
          "Azerbaijan",
          "Belarus",
          "Belgium",
          "Bhutan",
          "Bolivia",
          "Brazil",
          "Bulgaria",
          "Canada",
          "Chile",
          "China",
          "Colombia",
          "Costa Rica",
          "Croatia",
          "Cuba",
          "Czech Rep.",
          "Denmark",
          "Dominican Rep.",
          "Ecuador",
          "Egypt",
          "El Salvador",
          "Estonia",
          "Ethiopia",
          "Finland",
          "France",
          "Georgia",
          "Germany",
          "Greece",
          "Guatemala",
          "Haiti",
          "Honduras",
          "Hungary",
          "India",
          "Indonesia",
          "Iran",
          "Iraq",
          "Ireland",
          "Israel",
          "Italy",
          "Japan",
          "Jordan",
          "Kazakhstan",
          "Korea, Dem. Rep.",
          "Korea, Rep.",
          "Kyrgyzstan",
          "Latvia",
          "Lebanon",
          "Liberia",
          "Libya",
          "Lithuania",
          "Macedonia, FYR",
          "Mexico",
          "Moldova",
          "Mongolia",
          "Montenegro",
          "Myanmar",
          "Nepal",
          "Netherlands",
          "New Zealand",
          "Nicaragua",
          "Norway",
          "Oman",
          "Pakistan",
          "Panama",
          "Paraguay",
          "Peru",
          "Philippines",
          "Poland",
          "Portugal",
          "Romania",
          "Russia",
          "Saudi Arabia",
          "Serbia",
          "Slovak Republic",
          "Slovenia",
          "South Africa",
          "Spain",
          "Sri Lanka",
          "Sweden",
          "Switzerland",
          "Syria",
          "Taiwan",
          "Tajikistan",
          "Thailand",
          "Turkey",
          "Turkmenistan",
          "Ukraine",
          "United Kingdom",
          "United States",
          "Uruguay",
          "Uzbekistan",
          "Venezuela"
         ],
         "x0": " ",
         "xaxis": "x",
         "y": [
          -9,
          -9,
          -9,
          10,
          10,
          -9,
          -9,
          10,
          -10,
          -4,
          5,
          -7,
          10,
          2,
          -8,
          -5,
          10,
          -7,
          0,
          -7,
          10,
          -9,
          2,
          -7,
          -6,
          -9,
          -9,
          10,
          10,
          -9,
          10,
          4,
          2,
          -5,
          -3,
          -7,
          9,
          0,
          -1,
          -4,
          10,
          10,
          10,
          10,
          -1,
          -9,
          -7,
          -4,
          -9,
          -9,
          2,
          -6,
          -7,
          -9,
          -7,
          -6,
          -9,
          -7,
          -7,
          8,
          -7,
          10,
          10,
          -8,
          10,
          -6,
          5,
          -1,
          -5,
          -2,
          5,
          -7,
          -9,
          -7,
          -9,
          -10,
          -7,
          -7,
          -7,
          4,
          -7,
          7,
          10,
          10,
          -7,
          -8,
          -9,
          -6,
          7,
          -9,
          -9,
          10,
          10,
          8,
          -9,
          -3,
          -9,
          -1,
          -7,
          10,
          10,
          -7,
          -7,
          10,
          -10,
          -3,
          5,
          -7,
          10,
          5,
          -8,
          7,
          10,
          -7,
          -9,
          -7,
          10,
          -9,
          2,
          -7,
          -5,
          -7,
          -9,
          10,
          10,
          -7,
          10,
          4,
          -6,
          -5,
          -1,
          -7,
          9,
          -1,
          -10,
          -4,
          10,
          10,
          10,
          10,
          -9,
          -7,
          -8,
          -4,
          -7,
          -7,
          2,
          -6,
          -7,
          -7,
          -7,
          -6,
          -7,
          -7,
          -7,
          8,
          -4,
          10,
          10,
          -8,
          10,
          -10,
          8,
          4,
          -9,
          5,
          5,
          -7,
          -9,
          -7,
          -7,
          -10,
          -7,
          -7,
          -7,
          4,
          -7,
          7,
          10,
          10,
          7,
          -8,
          -7,
          -3,
          4,
          -7,
          -7,
          10,
          10,
          8,
          -7,
          -3,
          -9,
          -1,
          -7,
          10,
          10,
          -7,
          -7,
          10,
          -10,
          -3,
          5,
          -7,
          10,
          5,
          -8,
          7,
          10,
          -7,
          -7,
          -7,
          10,
          8,
          -1,
          -7,
          -3,
          -7,
          -9,
          10,
          5,
          -7,
          10,
          4,
          -5,
          -9,
          -1,
          -7,
          9,
          -5,
          -10,
          -5,
          10,
          10,
          10,
          10,
          -9,
          -7,
          -8,
          -7,
          -7,
          -7,
          2,
          -6,
          -7,
          -7,
          -7,
          -6,
          -7,
          -7,
          -7,
          -6,
          -9,
          10,
          10,
          -8,
          10,
          -10,
          1,
          4,
          -9,
          -6,
          5,
          -7,
          -9,
          -7,
          -7,
          -10,
          -7,
          -7,
          -7,
          4,
          -7,
          7,
          10,
          10,
          -2,
          -8,
          -7,
          -7,
          9,
          -7,
          -7,
          10,
          10,
          8,
          -7,
          6,
          -9,
          -9,
          -7,
          10,
          10,
          -7,
          -7,
          10,
          -10,
          -4,
          -9,
          -7,
          10,
          6,
          -9,
          7,
          10,
          -7,
          -7,
          -7,
          10,
          -3,
          -1,
          -7,
          0,
          -7,
          -9,
          10,
          5,
          -7,
          10,
          -7,
          3,
          -9,
          -1,
          -7,
          9,
          -7,
          -10,
          -5,
          10,
          9,
          10,
          10,
          -9,
          -7,
          -9,
          3,
          -7,
          -7,
          2,
          -6,
          -7,
          -7,
          -7,
          -6,
          -7,
          -7,
          -7,
          -7,
          -9,
          10,
          10,
          -8,
          10,
          -10,
          1,
          4,
          -8,
          5,
          5,
          -7,
          -9,
          -7,
          -7,
          -10,
          -7,
          -7,
          -7,
          4,
          -7,
          7,
          10,
          10,
          -7,
          -8,
          -7,
          -7,
          8,
          -7,
          -7,
          10,
          10,
          8,
          -7,
          6,
          -9,
          -9,
          -7,
          10,
          10,
          -7,
          -7,
          10,
          -10,
          -7,
          -9,
          -7,
          10,
          6,
          -8,
          7,
          10,
          -7,
          -7,
          -7,
          10,
          -3,
          -5,
          -7,
          -1,
          -7,
          -9,
          10,
          8,
          -7,
          10,
          -7,
          1,
          -10,
          -1,
          -7,
          9,
          -7,
          -10,
          -7,
          10,
          9,
          10,
          10,
          -9,
          -7,
          -9,
          -9,
          -7,
          -7,
          5,
          -6,
          -7,
          -7,
          -7,
          -6,
          -7,
          -7,
          -7,
          -7,
          -9,
          10,
          10,
          -8,
          10,
          -10,
          4,
          -7,
          -8,
          -7,
          -9,
          -7,
          -9,
          -7,
          -7,
          -10,
          -7,
          -7,
          -7,
          4,
          -7,
          8,
          10,
          10,
          -9,
          -8,
          -7,
          -7,
          -2,
          -7,
          -7,
          10,
          10,
          -3,
          -7,
          9,
          -9,
          -9,
          -7,
          10,
          10,
          -7,
          -7,
          10,
          -10,
          -7,
          -4,
          -7,
          10,
          -7,
          -7,
          8,
          10,
          -7,
          -7,
          -7,
          10,
          -3,
          -5,
          -6,
          -6,
          -7,
          -7,
          10,
          8,
          -7,
          10,
          8,
          -3,
          -9,
          -1,
          -7,
          8,
          -7,
          -10,
          -7,
          10,
          9,
          10,
          10,
          -10,
          -7,
          -9,
          -8,
          -7,
          -7,
          0,
          -6,
          -7,
          -7,
          -7,
          -3,
          -7,
          -7,
          -7,
          -6,
          -9,
          10,
          10,
          -8,
          10,
          -10,
          -7,
          -7,
          -8,
          -7,
          -9,
          -7,
          9,
          -8,
          -7,
          -10,
          -7,
          -7,
          -7,
          4,
          5,
          8,
          10,
          10,
          -9,
          -7,
          -7,
          -2,
          9,
          -7,
          -7,
          10,
          10,
          -8,
          -7,
          9,
          -9,
          -8,
          -7,
          10,
          10,
          -7,
          -7,
          10,
          -10,
          8,
          -3,
          -7,
          10,
          -7,
          -7,
          8,
          10,
          -5,
          -7,
          -7,
          10,
          6,
          9,
          -6,
          2,
          -7,
          -7,
          10,
          8,
          -7,
          10,
          8,
          -7,
          -9,
          6,
          -7,
          8,
          -7,
          -6,
          -9,
          10,
          9,
          10,
          10,
          -10,
          -7,
          -9,
          -5,
          -7,
          -7,
          0,
          -7,
          -7,
          -7,
          -5,
          -3,
          -7,
          -7,
          -5,
          -8,
          -2,
          10,
          10,
          -5,
          10,
          -10,
          -7,
          -5,
          -8,
          7,
          -7,
          -8,
          10,
          -8,
          -7,
          -10,
          -5,
          -7,
          -5,
          4,
          10,
          5,
          10,
          10,
          -9,
          -7,
          -7,
          2,
          -5,
          -7,
          -7,
          10,
          10,
          -7,
          -7,
          9,
          -9,
          8,
          -7,
          10,
          10,
          -7,
          -7,
          10,
          -10,
          9,
          7,
          -7,
          10,
          -6,
          -7,
          8,
          10,
          -5,
          -7,
          -7,
          10,
          6,
          8,
          -6,
          6,
          -7,
          -8,
          10,
          9,
          -7,
          10,
          10,
          3,
          -8,
          5,
          -7,
          8,
          -7,
          -6,
          -9,
          10,
          9,
          10,
          10,
          -9,
          -7,
          -9,
          1,
          -7,
          -7,
          0,
          -6,
          -7,
          -7,
          -5,
          -3,
          -7,
          -7,
          -5,
          -8,
          -2,
          10,
          10,
          -1,
          10,
          -10,
          -4,
          -8,
          -8,
          7,
          8,
          -6,
          10,
          -8,
          -7,
          -10,
          -5,
          -7,
          -5,
          4,
          10,
          5,
          10,
          10,
          -9,
          -1,
          -7,
          2,
          7,
          -7,
          -7,
          10,
          10,
          9,
          -7,
          9,
          5,
          7,
          7,
          10,
          10,
          1,
          7,
          10,
          -10,
          9,
          8,
          8,
          10,
          8,
          -7,
          9,
          10,
          -3,
          -7,
          8,
          10,
          6,
          9,
          -6,
          7,
          6,
          0,
          10,
          9,
          4,
          10,
          10,
          3,
          -7,
          6,
          10,
          8,
          -7,
          -6,
          -9,
          10,
          9,
          10,
          10,
          -2,
          -3,
          -9,
          6,
          -3,
          8,
          0,
          0,
          -7,
          10,
          6,
          0,
          5,
          9,
          -5,
          -7,
          5,
          10,
          10,
          6,
          10,
          -9,
          8,
          8,
          7,
          -3,
          8,
          8,
          10,
          5,
          5,
          -10,
          -5,
          8,
          10,
          6,
          10,
          5,
          10,
          10,
          -9,
          7,
          -6,
          9,
          9,
          -9,
          6,
          10,
          10,
          10,
          -9,
          8
         ],
         "y0": " ",
         "yaxis": "y"
        }
       ],
       "layout": {
        "boxmode": "group",
        "height": 600,
        "legend": {
         "tracegroupgap": 0
        },
        "margin": {
         "t": 60
        },
        "template": {
         "data": {
          "bar": [
           {
            "error_x": {
             "color": "#2a3f5f"
            },
            "error_y": {
             "color": "#2a3f5f"
            },
            "marker": {
             "line": {
              "color": "#E5ECF6",
              "width": 0.5
             }
            },
            "type": "bar"
           }
          ],
          "barpolar": [
           {
            "marker": {
             "line": {
              "color": "#E5ECF6",
              "width": 0.5
             }
            },
            "type": "barpolar"
           }
          ],
          "carpet": [
           {
            "aaxis": {
             "endlinecolor": "#2a3f5f",
             "gridcolor": "white",
             "linecolor": "white",
             "minorgridcolor": "white",
             "startlinecolor": "#2a3f5f"
            },
            "baxis": {
             "endlinecolor": "#2a3f5f",
             "gridcolor": "white",
             "linecolor": "white",
             "minorgridcolor": "white",
             "startlinecolor": "#2a3f5f"
            },
            "type": "carpet"
           }
          ],
          "choropleth": [
           {
            "colorbar": {
             "outlinewidth": 0,
             "ticks": ""
            },
            "type": "choropleth"
           }
          ],
          "contour": [
           {
            "colorbar": {
             "outlinewidth": 0,
             "ticks": ""
            },
            "colorscale": [
             [
              0,
              "#0d0887"
             ],
             [
              0.1111111111111111,
              "#46039f"
             ],
             [
              0.2222222222222222,
              "#7201a8"
             ],
             [
              0.3333333333333333,
              "#9c179e"
             ],
             [
              0.4444444444444444,
              "#bd3786"
             ],
             [
              0.5555555555555556,
              "#d8576b"
             ],
             [
              0.6666666666666666,
              "#ed7953"
             ],
             [
              0.7777777777777778,
              "#fb9f3a"
             ],
             [
              0.8888888888888888,
              "#fdca26"
             ],
             [
              1,
              "#f0f921"
             ]
            ],
            "type": "contour"
           }
          ],
          "contourcarpet": [
           {
            "colorbar": {
             "outlinewidth": 0,
             "ticks": ""
            },
            "type": "contourcarpet"
           }
          ],
          "heatmap": [
           {
            "colorbar": {
             "outlinewidth": 0,
             "ticks": ""
            },
            "colorscale": [
             [
              0,
              "#0d0887"
             ],
             [
              0.1111111111111111,
              "#46039f"
             ],
             [
              0.2222222222222222,
              "#7201a8"
             ],
             [
              0.3333333333333333,
              "#9c179e"
             ],
             [
              0.4444444444444444,
              "#bd3786"
             ],
             [
              0.5555555555555556,
              "#d8576b"
             ],
             [
              0.6666666666666666,
              "#ed7953"
             ],
             [
              0.7777777777777778,
              "#fb9f3a"
             ],
             [
              0.8888888888888888,
              "#fdca26"
             ],
             [
              1,
              "#f0f921"
             ]
            ],
            "type": "heatmap"
           }
          ],
          "heatmapgl": [
           {
            "colorbar": {
             "outlinewidth": 0,
             "ticks": ""
            },
            "colorscale": [
             [
              0,
              "#0d0887"
             ],
             [
              0.1111111111111111,
              "#46039f"
             ],
             [
              0.2222222222222222,
              "#7201a8"
             ],
             [
              0.3333333333333333,
              "#9c179e"
             ],
             [
              0.4444444444444444,
              "#bd3786"
             ],
             [
              0.5555555555555556,
              "#d8576b"
             ],
             [
              0.6666666666666666,
              "#ed7953"
             ],
             [
              0.7777777777777778,
              "#fb9f3a"
             ],
             [
              0.8888888888888888,
              "#fdca26"
             ],
             [
              1,
              "#f0f921"
             ]
            ],
            "type": "heatmapgl"
           }
          ],
          "histogram": [
           {
            "marker": {
             "colorbar": {
              "outlinewidth": 0,
              "ticks": ""
             }
            },
            "type": "histogram"
           }
          ],
          "histogram2d": [
           {
            "colorbar": {
             "outlinewidth": 0,
             "ticks": ""
            },
            "colorscale": [
             [
              0,
              "#0d0887"
             ],
             [
              0.1111111111111111,
              "#46039f"
             ],
             [
              0.2222222222222222,
              "#7201a8"
             ],
             [
              0.3333333333333333,
              "#9c179e"
             ],
             [
              0.4444444444444444,
              "#bd3786"
             ],
             [
              0.5555555555555556,
              "#d8576b"
             ],
             [
              0.6666666666666666,
              "#ed7953"
             ],
             [
              0.7777777777777778,
              "#fb9f3a"
             ],
             [
              0.8888888888888888,
              "#fdca26"
             ],
             [
              1,
              "#f0f921"
             ]
            ],
            "type": "histogram2d"
           }
          ],
          "histogram2dcontour": [
           {
            "colorbar": {
             "outlinewidth": 0,
             "ticks": ""
            },
            "colorscale": [
             [
              0,
              "#0d0887"
             ],
             [
              0.1111111111111111,
              "#46039f"
             ],
             [
              0.2222222222222222,
              "#7201a8"
             ],
             [
              0.3333333333333333,
              "#9c179e"
             ],
             [
              0.4444444444444444,
              "#bd3786"
             ],
             [
              0.5555555555555556,
              "#d8576b"
             ],
             [
              0.6666666666666666,
              "#ed7953"
             ],
             [
              0.7777777777777778,
              "#fb9f3a"
             ],
             [
              0.8888888888888888,
              "#fdca26"
             ],
             [
              1,
              "#f0f921"
             ]
            ],
            "type": "histogram2dcontour"
           }
          ],
          "mesh3d": [
           {
            "colorbar": {
             "outlinewidth": 0,
             "ticks": ""
            },
            "type": "mesh3d"
           }
          ],
          "parcoords": [
           {
            "line": {
             "colorbar": {
              "outlinewidth": 0,
              "ticks": ""
             }
            },
            "type": "parcoords"
           }
          ],
          "pie": [
           {
            "automargin": true,
            "type": "pie"
           }
          ],
          "scatter": [
           {
            "marker": {
             "colorbar": {
              "outlinewidth": 0,
              "ticks": ""
             }
            },
            "type": "scatter"
           }
          ],
          "scatter3d": [
           {
            "line": {
             "colorbar": {
              "outlinewidth": 0,
              "ticks": ""
             }
            },
            "marker": {
             "colorbar": {
              "outlinewidth": 0,
              "ticks": ""
             }
            },
            "type": "scatter3d"
           }
          ],
          "scattercarpet": [
           {
            "marker": {
             "colorbar": {
              "outlinewidth": 0,
              "ticks": ""
             }
            },
            "type": "scattercarpet"
           }
          ],
          "scattergeo": [
           {
            "marker": {
             "colorbar": {
              "outlinewidth": 0,
              "ticks": ""
             }
            },
            "type": "scattergeo"
           }
          ],
          "scattergl": [
           {
            "marker": {
             "colorbar": {
              "outlinewidth": 0,
              "ticks": ""
             }
            },
            "type": "scattergl"
           }
          ],
          "scattermapbox": [
           {
            "marker": {
             "colorbar": {
              "outlinewidth": 0,
              "ticks": ""
             }
            },
            "type": "scattermapbox"
           }
          ],
          "scatterpolar": [
           {
            "marker": {
             "colorbar": {
              "outlinewidth": 0,
              "ticks": ""
             }
            },
            "type": "scatterpolar"
           }
          ],
          "scatterpolargl": [
           {
            "marker": {
             "colorbar": {
              "outlinewidth": 0,
              "ticks": ""
             }
            },
            "type": "scatterpolargl"
           }
          ],
          "scatterternary": [
           {
            "marker": {
             "colorbar": {
              "outlinewidth": 0,
              "ticks": ""
             }
            },
            "type": "scatterternary"
           }
          ],
          "surface": [
           {
            "colorbar": {
             "outlinewidth": 0,
             "ticks": ""
            },
            "colorscale": [
             [
              0,
              "#0d0887"
             ],
             [
              0.1111111111111111,
              "#46039f"
             ],
             [
              0.2222222222222222,
              "#7201a8"
             ],
             [
              0.3333333333333333,
              "#9c179e"
             ],
             [
              0.4444444444444444,
              "#bd3786"
             ],
             [
              0.5555555555555556,
              "#d8576b"
             ],
             [
              0.6666666666666666,
              "#ed7953"
             ],
             [
              0.7777777777777778,
              "#fb9f3a"
             ],
             [
              0.8888888888888888,
              "#fdca26"
             ],
             [
              1,
              "#f0f921"
             ]
            ],
            "type": "surface"
           }
          ],
          "table": [
           {
            "cells": {
             "fill": {
              "color": "#EBF0F8"
             },
             "line": {
              "color": "white"
             }
            },
            "header": {
             "fill": {
              "color": "#C8D4E3"
             },
             "line": {
              "color": "white"
             }
            },
            "type": "table"
           }
          ]
         },
         "layout": {
          "annotationdefaults": {
           "arrowcolor": "#2a3f5f",
           "arrowhead": 0,
           "arrowwidth": 1
          },
          "coloraxis": {
           "colorbar": {
            "outlinewidth": 0,
            "ticks": ""
           }
          },
          "colorscale": {
           "diverging": [
            [
             0,
             "#8e0152"
            ],
            [
             0.1,
             "#c51b7d"
            ],
            [
             0.2,
             "#de77ae"
            ],
            [
             0.3,
             "#f1b6da"
            ],
            [
             0.4,
             "#fde0ef"
            ],
            [
             0.5,
             "#f7f7f7"
            ],
            [
             0.6,
             "#e6f5d0"
            ],
            [
             0.7,
             "#b8e186"
            ],
            [
             0.8,
             "#7fbc41"
            ],
            [
             0.9,
             "#4d9221"
            ],
            [
             1,
             "#276419"
            ]
           ],
           "sequential": [
            [
             0,
             "#0d0887"
            ],
            [
             0.1111111111111111,
             "#46039f"
            ],
            [
             0.2222222222222222,
             "#7201a8"
            ],
            [
             0.3333333333333333,
             "#9c179e"
            ],
            [
             0.4444444444444444,
             "#bd3786"
            ],
            [
             0.5555555555555556,
             "#d8576b"
            ],
            [
             0.6666666666666666,
             "#ed7953"
            ],
            [
             0.7777777777777778,
             "#fb9f3a"
            ],
            [
             0.8888888888888888,
             "#fdca26"
            ],
            [
             1,
             "#f0f921"
            ]
           ],
           "sequentialminus": [
            [
             0,
             "#0d0887"
            ],
            [
             0.1111111111111111,
             "#46039f"
            ],
            [
             0.2222222222222222,
             "#7201a8"
            ],
            [
             0.3333333333333333,
             "#9c179e"
            ],
            [
             0.4444444444444444,
             "#bd3786"
            ],
            [
             0.5555555555555556,
             "#d8576b"
            ],
            [
             0.6666666666666666,
             "#ed7953"
            ],
            [
             0.7777777777777778,
             "#fb9f3a"
            ],
            [
             0.8888888888888888,
             "#fdca26"
            ],
            [
             1,
             "#f0f921"
            ]
           ]
          },
          "colorway": [
           "#636efa",
           "#EF553B",
           "#00cc96",
           "#ab63fa",
           "#FFA15A",
           "#19d3f3",
           "#FF6692",
           "#B6E880",
           "#FF97FF",
           "#FECB52"
          ],
          "font": {
           "color": "#2a3f5f"
          },
          "geo": {
           "bgcolor": "white",
           "lakecolor": "white",
           "landcolor": "#E5ECF6",
           "showlakes": true,
           "showland": true,
           "subunitcolor": "white"
          },
          "hoverlabel": {
           "align": "left"
          },
          "hovermode": "closest",
          "mapbox": {
           "style": "light"
          },
          "paper_bgcolor": "white",
          "plot_bgcolor": "#E5ECF6",
          "polar": {
           "angularaxis": {
            "gridcolor": "white",
            "linecolor": "white",
            "ticks": ""
           },
           "bgcolor": "#E5ECF6",
           "radialaxis": {
            "gridcolor": "white",
            "linecolor": "white",
            "ticks": ""
           }
          },
          "scene": {
           "xaxis": {
            "backgroundcolor": "#E5ECF6",
            "gridcolor": "white",
            "gridwidth": 2,
            "linecolor": "white",
            "showbackground": true,
            "ticks": "",
            "zerolinecolor": "white"
           },
           "yaxis": {
            "backgroundcolor": "#E5ECF6",
            "gridcolor": "white",
            "gridwidth": 2,
            "linecolor": "white",
            "showbackground": true,
            "ticks": "",
            "zerolinecolor": "white"
           },
           "zaxis": {
            "backgroundcolor": "#E5ECF6",
            "gridcolor": "white",
            "gridwidth": 2,
            "linecolor": "white",
            "showbackground": true,
            "ticks": "",
            "zerolinecolor": "white"
           }
          },
          "shapedefaults": {
           "line": {
            "color": "#2a3f5f"
           }
          },
          "ternary": {
           "aaxis": {
            "gridcolor": "white",
            "linecolor": "white",
            "ticks": ""
           },
           "baxis": {
            "gridcolor": "white",
            "linecolor": "white",
            "ticks": ""
           },
           "bgcolor": "#E5ECF6",
           "caxis": {
            "gridcolor": "white",
            "linecolor": "white",
            "ticks": ""
           }
          },
          "title": {
           "x": 0.05
          },
          "xaxis": {
           "automargin": true,
           "gridcolor": "white",
           "linecolor": "white",
           "ticks": "",
           "title": {
            "standoff": 15
           },
           "zerolinecolor": "white",
           "zerolinewidth": 2
          },
          "yaxis": {
           "automargin": true,
           "gridcolor": "white",
           "linecolor": "white",
           "ticks": "",
           "title": {
            "standoff": 15
           },
           "zerolinecolor": "white",
           "zerolinewidth": 2
          }
         }
        },
        "xaxis": {
         "anchor": "y",
         "domain": [
          0,
          1
         ],
         "title": {
          "text": "country"
         }
        },
        "yaxis": {
         "anchor": "x",
         "domain": [
          0,
          1
         ],
         "title": {
          "text": "lvl_of_democracy"
         }
        }
       }
      },
      "text/html": [
       "<div>\n",
       "        \n",
       "        \n",
       "            <div id=\"0573097e-9213-4018-9eaa-23b9c9dca9a1\" class=\"plotly-graph-div\" style=\"height:600px; width:100%;\"></div>\n",
       "            <script type=\"text/javascript\">\n",
       "                require([\"plotly\"], function(Plotly) {\n",
       "                    window.PLOTLYENV=window.PLOTLYENV || {};\n",
       "                    \n",
       "                if (document.getElementById(\"0573097e-9213-4018-9eaa-23b9c9dca9a1\")) {\n",
       "                    Plotly.newPlot(\n",
       "                        '0573097e-9213-4018-9eaa-23b9c9dca9a1',\n",
       "                        [{\"alignmentgroup\": \"True\", \"hoverlabel\": {\"namelength\": 0}, \"hovertemplate\": \"country=%{x}<br>lvl_of_democracy=%{y}\", \"legendgroup\": \"\", \"marker\": {\"color\": \"#636efa\"}, \"name\": \"\", \"notched\": false, \"offsetgroup\": \"\", \"orientation\": \"v\", \"showlegend\": false, \"type\": \"box\", \"x\": [\"Albania\", \"Argentina\", \"Armenia\", \"Australia\", \"Austria\", \"Azerbaijan\", \"Belarus\", \"Belgium\", \"Bhutan\", \"Bolivia\", \"Brazil\", \"Bulgaria\", \"Canada\", \"Chile\", \"China\", \"Colombia\", \"Costa Rica\", \"Croatia\", \"Cuba\", \"Czech Rep.\", \"Denmark\", \"Dominican Rep.\", \"Ecuador\", \"Egypt\", \"El Salvador\", \"Estonia\", \"Ethiopia\", \"Finland\", \"France\", \"Georgia\", \"Germany\", \"Greece\", \"Guatemala\", \"Haiti\", \"Honduras\", \"Hungary\", \"India\", \"Indonesia\", \"Iran\", \"Iraq\", \"Ireland\", \"Israel\", \"Italy\", \"Japan\", \"Jordan\", \"Kazakhstan\", \"Korea, Dem. Rep.\", \"Korea, Rep.\", \"Kyrgyzstan\", \"Latvia\", \"Lebanon\", \"Liberia\", \"Libya\", \"Lithuania\", \"Macedonia, FYR\", \"Mexico\", \"Moldova\", \"Mongolia\", \"Montenegro\", \"Myanmar\", \"Nepal\", \"Netherlands\", \"New Zealand\", \"Nicaragua\", \"Norway\", \"Oman\", \"Pakistan\", \"Panama\", \"Paraguay\", \"Peru\", \"Philippines\", \"Poland\", \"Portugal\", \"Romania\", \"Russia\", \"Saudi Arabia\", \"Serbia\", \"Slovak Republic\", \"Slovenia\", \"South Africa\", \"Spain\", \"Sri Lanka\", \"Sweden\", \"Switzerland\", \"Syria\", \"Taiwan\", \"Tajikistan\", \"Thailand\", \"Turkey\", \"Turkmenistan\", \"Ukraine\", \"United Kingdom\", \"United States\", \"Uruguay\", \"Uzbekistan\", \"Venezuela\", \"Albania\", \"Argentina\", \"Armenia\", \"Australia\", \"Austria\", \"Azerbaijan\", \"Belarus\", \"Belgium\", \"Bhutan\", \"Bolivia\", \"Brazil\", \"Bulgaria\", \"Canada\", \"Chile\", \"China\", \"Colombia\", \"Costa Rica\", \"Croatia\", \"Cuba\", \"Czech Rep.\", \"Denmark\", \"Dominican Rep.\", \"Ecuador\", \"Egypt\", \"El Salvador\", \"Estonia\", \"Ethiopia\", \"Finland\", \"France\", \"Georgia\", \"Germany\", \"Greece\", \"Guatemala\", \"Haiti\", \"Honduras\", \"Hungary\", \"India\", \"Indonesia\", \"Iran\", \"Iraq\", \"Ireland\", \"Israel\", \"Italy\", \"Japan\", \"Jordan\", \"Kazakhstan\", \"Korea, Dem. Rep.\", \"Korea, Rep.\", \"Kyrgyzstan\", \"Latvia\", \"Lebanon\", \"Liberia\", \"Libya\", \"Lithuania\", \"Macedonia, FYR\", \"Mexico\", \"Moldova\", \"Mongolia\", \"Montenegro\", \"Myanmar\", \"Nepal\", \"Netherlands\", \"New Zealand\", \"Nicaragua\", \"Norway\", \"Oman\", \"Pakistan\", \"Panama\", \"Paraguay\", \"Peru\", \"Philippines\", \"Poland\", \"Portugal\", \"Romania\", \"Russia\", \"Saudi Arabia\", \"Serbia\", \"Slovak Republic\", \"Slovenia\", \"South Africa\", \"Spain\", \"Sri Lanka\", \"Sweden\", \"Switzerland\", \"Syria\", \"Taiwan\", \"Tajikistan\", \"Thailand\", \"Turkey\", \"Turkmenistan\", \"Ukraine\", \"United Kingdom\", \"United States\", \"Uruguay\", \"Uzbekistan\", \"Venezuela\", \"Albania\", \"Argentina\", \"Armenia\", \"Australia\", \"Austria\", \"Azerbaijan\", \"Belarus\", \"Belgium\", \"Bhutan\", \"Bolivia\", \"Brazil\", \"Bulgaria\", \"Canada\", \"Chile\", \"China\", \"Colombia\", \"Costa Rica\", \"Croatia\", \"Cuba\", \"Czech Rep.\", \"Denmark\", \"Dominican Rep.\", \"Ecuador\", \"Egypt\", \"El Salvador\", \"Estonia\", \"Ethiopia\", \"Finland\", \"France\", \"Georgia\", \"Germany\", \"Greece\", \"Guatemala\", \"Haiti\", \"Honduras\", \"Hungary\", \"India\", \"Indonesia\", \"Iran\", \"Iraq\", \"Ireland\", \"Israel\", \"Italy\", \"Japan\", \"Jordan\", \"Kazakhstan\", \"Korea, Dem. Rep.\", \"Korea, Rep.\", \"Kyrgyzstan\", \"Latvia\", \"Lebanon\", \"Liberia\", \"Libya\", \"Lithuania\", \"Macedonia, FYR\", \"Mexico\", \"Moldova\", \"Mongolia\", \"Montenegro\", \"Myanmar\", \"Nepal\", \"Netherlands\", \"New Zealand\", \"Nicaragua\", \"Norway\", \"Oman\", \"Pakistan\", \"Panama\", \"Paraguay\", \"Peru\", \"Philippines\", \"Poland\", \"Portugal\", \"Romania\", \"Russia\", \"Saudi Arabia\", \"Serbia\", \"Slovak Republic\", \"Slovenia\", \"South Africa\", \"Spain\", \"Sri Lanka\", \"Sweden\", \"Switzerland\", \"Syria\", \"Taiwan\", \"Tajikistan\", \"Thailand\", \"Turkey\", \"Turkmenistan\", \"Ukraine\", \"United Kingdom\", \"United States\", \"Uruguay\", \"Uzbekistan\", \"Venezuela\", \"Albania\", \"Argentina\", \"Armenia\", \"Australia\", \"Austria\", \"Azerbaijan\", \"Belarus\", \"Belgium\", \"Bhutan\", \"Bolivia\", \"Brazil\", \"Bulgaria\", \"Canada\", \"Chile\", \"China\", \"Colombia\", \"Costa Rica\", \"Croatia\", \"Cuba\", \"Czech Rep.\", \"Denmark\", \"Dominican Rep.\", \"Ecuador\", \"Egypt\", \"El Salvador\", \"Estonia\", \"Ethiopia\", \"Finland\", \"France\", \"Georgia\", \"Germany\", \"Greece\", \"Guatemala\", \"Haiti\", \"Honduras\", \"Hungary\", \"India\", \"Indonesia\", \"Iran\", \"Iraq\", \"Ireland\", \"Israel\", \"Italy\", \"Japan\", \"Jordan\", \"Kazakhstan\", \"Korea, Dem. Rep.\", \"Korea, Rep.\", \"Kyrgyzstan\", \"Latvia\", \"Lebanon\", \"Liberia\", \"Libya\", \"Lithuania\", \"Macedonia, FYR\", \"Mexico\", \"Moldova\", \"Mongolia\", \"Montenegro\", \"Myanmar\", \"Nepal\", \"Netherlands\", \"New Zealand\", \"Nicaragua\", \"Norway\", \"Oman\", \"Pakistan\", \"Panama\", \"Paraguay\", \"Peru\", \"Philippines\", \"Poland\", \"Portugal\", \"Romania\", \"Russia\", \"Saudi Arabia\", \"Serbia\", \"Slovak Republic\", \"Slovenia\", \"South Africa\", \"Spain\", \"Sri Lanka\", \"Sweden\", \"Switzerland\", \"Syria\", \"Taiwan\", \"Tajikistan\", \"Thailand\", \"Turkey\", \"Turkmenistan\", \"Ukraine\", \"United Kingdom\", \"United States\", \"Uruguay\", \"Uzbekistan\", \"Venezuela\", \"Albania\", \"Argentina\", \"Armenia\", \"Australia\", \"Austria\", \"Azerbaijan\", \"Belarus\", \"Belgium\", \"Bhutan\", \"Bolivia\", \"Brazil\", \"Bulgaria\", \"Canada\", \"Chile\", \"China\", \"Colombia\", \"Costa Rica\", \"Croatia\", \"Cuba\", \"Czech Rep.\", \"Denmark\", \"Dominican Rep.\", \"Ecuador\", \"Egypt\", \"El Salvador\", \"Estonia\", \"Ethiopia\", \"Finland\", \"France\", \"Georgia\", \"Germany\", \"Greece\", \"Guatemala\", \"Haiti\", \"Honduras\", \"Hungary\", \"India\", \"Indonesia\", \"Iran\", \"Iraq\", \"Ireland\", \"Israel\", \"Italy\", \"Japan\", \"Jordan\", \"Kazakhstan\", \"Korea, Dem. Rep.\", \"Korea, Rep.\", \"Kyrgyzstan\", \"Latvia\", \"Lebanon\", \"Liberia\", \"Libya\", \"Lithuania\", \"Macedonia, FYR\", \"Mexico\", \"Moldova\", \"Mongolia\", \"Montenegro\", \"Myanmar\", \"Nepal\", \"Netherlands\", \"New Zealand\", \"Nicaragua\", \"Norway\", \"Oman\", \"Pakistan\", \"Panama\", \"Paraguay\", \"Peru\", \"Philippines\", \"Poland\", \"Portugal\", \"Romania\", \"Russia\", \"Saudi Arabia\", \"Serbia\", \"Slovak Republic\", \"Slovenia\", \"South Africa\", \"Spain\", \"Sri Lanka\", \"Sweden\", \"Switzerland\", \"Syria\", \"Taiwan\", \"Tajikistan\", \"Thailand\", \"Turkey\", \"Turkmenistan\", \"Ukraine\", \"United Kingdom\", \"United States\", \"Uruguay\", \"Uzbekistan\", \"Venezuela\", \"Albania\", \"Argentina\", \"Armenia\", \"Australia\", \"Austria\", \"Azerbaijan\", \"Belarus\", \"Belgium\", \"Bhutan\", \"Bolivia\", \"Brazil\", \"Bulgaria\", \"Canada\", \"Chile\", \"China\", \"Colombia\", \"Costa Rica\", \"Croatia\", \"Cuba\", \"Czech Rep.\", \"Denmark\", \"Dominican Rep.\", \"Ecuador\", \"Egypt\", \"El Salvador\", \"Estonia\", \"Ethiopia\", \"Finland\", \"France\", \"Georgia\", \"Germany\", \"Greece\", \"Guatemala\", \"Haiti\", \"Honduras\", \"Hungary\", \"India\", \"Indonesia\", \"Iran\", \"Iraq\", \"Ireland\", \"Israel\", \"Italy\", \"Japan\", \"Jordan\", \"Kazakhstan\", \"Korea, Dem. Rep.\", \"Korea, Rep.\", \"Kyrgyzstan\", \"Latvia\", \"Lebanon\", \"Liberia\", \"Libya\", \"Lithuania\", \"Macedonia, FYR\", \"Mexico\", \"Moldova\", \"Mongolia\", \"Montenegro\", \"Myanmar\", \"Nepal\", \"Netherlands\", \"New Zealand\", \"Nicaragua\", \"Norway\", \"Oman\", \"Pakistan\", \"Panama\", \"Paraguay\", \"Peru\", \"Philippines\", \"Poland\", \"Portugal\", \"Romania\", \"Russia\", \"Saudi Arabia\", \"Serbia\", \"Slovak Republic\", \"Slovenia\", \"South Africa\", \"Spain\", \"Sri Lanka\", \"Sweden\", \"Switzerland\", \"Syria\", \"Taiwan\", \"Tajikistan\", \"Thailand\", \"Turkey\", \"Turkmenistan\", \"Ukraine\", \"United Kingdom\", \"United States\", \"Uruguay\", \"Uzbekistan\", \"Venezuela\", \"Albania\", \"Argentina\", \"Armenia\", \"Australia\", \"Austria\", \"Azerbaijan\", \"Belarus\", \"Belgium\", \"Bhutan\", \"Bolivia\", \"Brazil\", \"Bulgaria\", \"Canada\", \"Chile\", \"China\", \"Colombia\", \"Costa Rica\", \"Croatia\", \"Cuba\", \"Czech Rep.\", \"Denmark\", \"Dominican Rep.\", \"Ecuador\", \"Egypt\", \"El Salvador\", \"Estonia\", \"Ethiopia\", \"Finland\", \"France\", \"Georgia\", \"Germany\", \"Greece\", \"Guatemala\", \"Haiti\", \"Honduras\", \"Hungary\", \"India\", \"Indonesia\", \"Iran\", \"Iraq\", \"Ireland\", \"Israel\", \"Italy\", \"Japan\", \"Jordan\", \"Kazakhstan\", \"Korea, Dem. Rep.\", \"Korea, Rep.\", \"Kyrgyzstan\", \"Latvia\", \"Lebanon\", \"Liberia\", \"Libya\", \"Lithuania\", \"Macedonia, FYR\", \"Mexico\", \"Moldova\", \"Mongolia\", \"Montenegro\", \"Myanmar\", \"Nepal\", \"Netherlands\", \"New Zealand\", \"Nicaragua\", \"Norway\", \"Oman\", \"Pakistan\", \"Panama\", \"Paraguay\", \"Peru\", \"Philippines\", \"Poland\", \"Portugal\", \"Romania\", \"Russia\", \"Saudi Arabia\", \"Serbia\", \"Slovak Republic\", \"Slovenia\", \"South Africa\", \"Spain\", \"Sri Lanka\", \"Sweden\", \"Switzerland\", \"Syria\", \"Taiwan\", \"Tajikistan\", \"Thailand\", \"Turkey\", \"Turkmenistan\", \"Ukraine\", \"United Kingdom\", \"United States\", \"Uruguay\", \"Uzbekistan\", \"Venezuela\", \"Albania\", \"Argentina\", \"Armenia\", \"Australia\", \"Austria\", \"Azerbaijan\", \"Belarus\", \"Belgium\", \"Bhutan\", \"Bolivia\", \"Brazil\", \"Bulgaria\", \"Canada\", \"Chile\", \"China\", \"Colombia\", \"Costa Rica\", \"Croatia\", \"Cuba\", \"Czech Rep.\", \"Denmark\", \"Dominican Rep.\", \"Ecuador\", \"Egypt\", \"El Salvador\", \"Estonia\", \"Ethiopia\", \"Finland\", \"France\", \"Georgia\", \"Germany\", \"Greece\", \"Guatemala\", \"Haiti\", \"Honduras\", \"Hungary\", \"India\", \"Indonesia\", \"Iran\", \"Iraq\", \"Ireland\", \"Israel\", \"Italy\", \"Japan\", \"Jordan\", \"Kazakhstan\", \"Korea, Dem. Rep.\", \"Korea, Rep.\", \"Kyrgyzstan\", \"Latvia\", \"Lebanon\", \"Liberia\", \"Libya\", \"Lithuania\", \"Macedonia, FYR\", \"Mexico\", \"Moldova\", \"Mongolia\", \"Montenegro\", \"Myanmar\", \"Nepal\", \"Netherlands\", \"New Zealand\", \"Nicaragua\", \"Norway\", \"Oman\", \"Pakistan\", \"Panama\", \"Paraguay\", \"Peru\", \"Philippines\", \"Poland\", \"Portugal\", \"Romania\", \"Russia\", \"Saudi Arabia\", \"Serbia\", \"Slovak Republic\", \"Slovenia\", \"South Africa\", \"Spain\", \"Sri Lanka\", \"Sweden\", \"Switzerland\", \"Syria\", \"Taiwan\", \"Tajikistan\", \"Thailand\", \"Turkey\", \"Turkmenistan\", \"Ukraine\", \"United Kingdom\", \"United States\", \"Uruguay\", \"Uzbekistan\", \"Venezuela\", \"Albania\", \"Argentina\", \"Armenia\", \"Australia\", \"Austria\", \"Azerbaijan\", \"Belarus\", \"Belgium\", \"Bhutan\", \"Bolivia\", \"Brazil\", \"Bulgaria\", \"Canada\", \"Chile\", \"China\", \"Colombia\", \"Costa Rica\", \"Croatia\", \"Cuba\", \"Czech Rep.\", \"Denmark\", \"Dominican Rep.\", \"Ecuador\", \"Egypt\", \"El Salvador\", \"Estonia\", \"Ethiopia\", \"Finland\", \"France\", \"Georgia\", \"Germany\", \"Greece\", \"Guatemala\", \"Haiti\", \"Honduras\", \"Hungary\", \"India\", \"Indonesia\", \"Iran\", \"Iraq\", \"Ireland\", \"Israel\", \"Italy\", \"Japan\", \"Jordan\", \"Kazakhstan\", \"Korea, Dem. Rep.\", \"Korea, Rep.\", \"Kyrgyzstan\", \"Latvia\", \"Lebanon\", \"Liberia\", \"Libya\", \"Lithuania\", \"Macedonia, FYR\", \"Mexico\", \"Moldova\", \"Mongolia\", \"Montenegro\", \"Myanmar\", \"Nepal\", \"Netherlands\", \"New Zealand\", \"Nicaragua\", \"Norway\", \"Oman\", \"Pakistan\", \"Panama\", \"Paraguay\", \"Peru\", \"Philippines\", \"Poland\", \"Portugal\", \"Romania\", \"Russia\", \"Saudi Arabia\", \"Serbia\", \"Slovak Republic\", \"Slovenia\", \"South Africa\", \"Spain\", \"Sri Lanka\", \"Sweden\", \"Switzerland\", \"Syria\", \"Taiwan\", \"Tajikistan\", \"Thailand\", \"Turkey\", \"Turkmenistan\", \"Ukraine\", \"United Kingdom\", \"United States\", \"Uruguay\", \"Uzbekistan\", \"Venezuela\"], \"x0\": \" \", \"xaxis\": \"x\", \"y\": [-9, -9, -9, 10, 10, -9, -9, 10, -10, -4, 5, -7, 10, 2, -8, -5, 10, -7, 0, -7, 10, -9, 2, -7, -6, -9, -9, 10, 10, -9, 10, 4, 2, -5, -3, -7, 9, 0, -1, -4, 10, 10, 10, 10, -1, -9, -7, -4, -9, -9, 2, -6, -7, -9, -7, -6, -9, -7, -7, 8, -7, 10, 10, -8, 10, -6, 5, -1, -5, -2, 5, -7, -9, -7, -9, -10, -7, -7, -7, 4, -7, 7, 10, 10, -7, -8, -9, -6, 7, -9, -9, 10, 10, 8, -9, -3, -9, -1, -7, 10, 10, -7, -7, 10, -10, -3, 5, -7, 10, 5, -8, 7, 10, -7, -9, -7, 10, -9, 2, -7, -5, -7, -9, 10, 10, -7, 10, 4, -6, -5, -1, -7, 9, -1, -10, -4, 10, 10, 10, 10, -9, -7, -8, -4, -7, -7, 2, -6, -7, -7, -7, -6, -7, -7, -7, 8, -4, 10, 10, -8, 10, -10, 8, 4, -9, 5, 5, -7, -9, -7, -7, -10, -7, -7, -7, 4, -7, 7, 10, 10, 7, -8, -7, -3, 4, -7, -7, 10, 10, 8, -7, -3, -9, -1, -7, 10, 10, -7, -7, 10, -10, -3, 5, -7, 10, 5, -8, 7, 10, -7, -7, -7, 10, 8, -1, -7, -3, -7, -9, 10, 5, -7, 10, 4, -5, -9, -1, -7, 9, -5, -10, -5, 10, 10, 10, 10, -9, -7, -8, -7, -7, -7, 2, -6, -7, -7, -7, -6, -7, -7, -7, -6, -9, 10, 10, -8, 10, -10, 1, 4, -9, -6, 5, -7, -9, -7, -7, -10, -7, -7, -7, 4, -7, 7, 10, 10, -2, -8, -7, -7, 9, -7, -7, 10, 10, 8, -7, 6, -9, -9, -7, 10, 10, -7, -7, 10, -10, -4, -9, -7, 10, 6, -9, 7, 10, -7, -7, -7, 10, -3, -1, -7, 0, -7, -9, 10, 5, -7, 10, -7, 3, -9, -1, -7, 9, -7, -10, -5, 10, 9, 10, 10, -9, -7, -9, 3, -7, -7, 2, -6, -7, -7, -7, -6, -7, -7, -7, -7, -9, 10, 10, -8, 10, -10, 1, 4, -8, 5, 5, -7, -9, -7, -7, -10, -7, -7, -7, 4, -7, 7, 10, 10, -7, -8, -7, -7, 8, -7, -7, 10, 10, 8, -7, 6, -9, -9, -7, 10, 10, -7, -7, 10, -10, -7, -9, -7, 10, 6, -8, 7, 10, -7, -7, -7, 10, -3, -5, -7, -1, -7, -9, 10, 8, -7, 10, -7, 1, -10, -1, -7, 9, -7, -10, -7, 10, 9, 10, 10, -9, -7, -9, -9, -7, -7, 5, -6, -7, -7, -7, -6, -7, -7, -7, -7, -9, 10, 10, -8, 10, -10, 4, -7, -8, -7, -9, -7, -9, -7, -7, -10, -7, -7, -7, 4, -7, 8, 10, 10, -9, -8, -7, -7, -2, -7, -7, 10, 10, -3, -7, 9, -9, -9, -7, 10, 10, -7, -7, 10, -10, -7, -4, -7, 10, -7, -7, 8, 10, -7, -7, -7, 10, -3, -5, -6, -6, -7, -7, 10, 8, -7, 10, 8, -3, -9, -1, -7, 8, -7, -10, -7, 10, 9, 10, 10, -10, -7, -9, -8, -7, -7, 0, -6, -7, -7, -7, -3, -7, -7, -7, -6, -9, 10, 10, -8, 10, -10, -7, -7, -8, -7, -9, -7, 9, -8, -7, -10, -7, -7, -7, 4, 5, 8, 10, 10, -9, -7, -7, -2, 9, -7, -7, 10, 10, -8, -7, 9, -9, -8, -7, 10, 10, -7, -7, 10, -10, 8, -3, -7, 10, -7, -7, 8, 10, -5, -7, -7, 10, 6, 9, -6, 2, -7, -7, 10, 8, -7, 10, 8, -7, -9, 6, -7, 8, -7, -6, -9, 10, 9, 10, 10, -10, -7, -9, -5, -7, -7, 0, -7, -7, -7, -5, -3, -7, -7, -5, -8, -2, 10, 10, -5, 10, -10, -7, -5, -8, 7, -7, -8, 10, -8, -7, -10, -5, -7, -5, 4, 10, 5, 10, 10, -9, -7, -7, 2, -5, -7, -7, 10, 10, -7, -7, 9, -9, 8, -7, 10, 10, -7, -7, 10, -10, 9, 7, -7, 10, -6, -7, 8, 10, -5, -7, -7, 10, 6, 8, -6, 6, -7, -8, 10, 9, -7, 10, 10, 3, -8, 5, -7, 8, -7, -6, -9, 10, 9, 10, 10, -9, -7, -9, 1, -7, -7, 0, -6, -7, -7, -5, -3, -7, -7, -5, -8, -2, 10, 10, -1, 10, -10, -4, -8, -8, 7, 8, -6, 10, -8, -7, -10, -5, -7, -5, 4, 10, 5, 10, 10, -9, -1, -7, 2, 7, -7, -7, 10, 10, 9, -7, 9, 5, 7, 7, 10, 10, 1, 7, 10, -10, 9, 8, 8, 10, 8, -7, 9, 10, -3, -7, 8, 10, 6, 9, -6, 7, 6, 0, 10, 9, 4, 10, 10, 3, -7, 6, 10, 8, -7, -6, -9, 10, 9, 10, 10, -2, -3, -9, 6, -3, 8, 0, 0, -7, 10, 6, 0, 5, 9, -5, -7, 5, 10, 10, 6, 10, -9, 8, 8, 7, -3, 8, 8, 10, 5, 5, -10, -5, 8, 10, 6, 10, 5, 10, 10, -9, 7, -6, 9, 9, -9, 6, 10, 10, 10, -9, 8], \"y0\": \" \", \"yaxis\": \"y\"}],\n",
       "                        {\"boxmode\": \"group\", \"height\": 600, \"legend\": {\"tracegroupgap\": 0}, \"margin\": {\"t\": 60}, \"template\": {\"data\": {\"bar\": [{\"error_x\": {\"color\": \"#2a3f5f\"}, \"error_y\": {\"color\": \"#2a3f5f\"}, \"marker\": {\"line\": {\"color\": \"#E5ECF6\", \"width\": 0.5}}, \"type\": \"bar\"}], \"barpolar\": [{\"marker\": {\"line\": {\"color\": \"#E5ECF6\", \"width\": 0.5}}, \"type\": \"barpolar\"}], \"carpet\": [{\"aaxis\": {\"endlinecolor\": \"#2a3f5f\", \"gridcolor\": \"white\", \"linecolor\": \"white\", \"minorgridcolor\": \"white\", \"startlinecolor\": \"#2a3f5f\"}, \"baxis\": {\"endlinecolor\": \"#2a3f5f\", \"gridcolor\": \"white\", \"linecolor\": \"white\", \"minorgridcolor\": \"white\", \"startlinecolor\": \"#2a3f5f\"}, \"type\": \"carpet\"}], \"choropleth\": [{\"colorbar\": {\"outlinewidth\": 0, \"ticks\": \"\"}, \"type\": \"choropleth\"}], \"contour\": [{\"colorbar\": {\"outlinewidth\": 0, \"ticks\": \"\"}, \"colorscale\": [[0.0, \"#0d0887\"], [0.1111111111111111, \"#46039f\"], [0.2222222222222222, \"#7201a8\"], [0.3333333333333333, \"#9c179e\"], [0.4444444444444444, \"#bd3786\"], [0.5555555555555556, \"#d8576b\"], [0.6666666666666666, \"#ed7953\"], [0.7777777777777778, \"#fb9f3a\"], [0.8888888888888888, \"#fdca26\"], [1.0, \"#f0f921\"]], \"type\": \"contour\"}], \"contourcarpet\": [{\"colorbar\": {\"outlinewidth\": 0, \"ticks\": \"\"}, \"type\": \"contourcarpet\"}], \"heatmap\": [{\"colorbar\": {\"outlinewidth\": 0, \"ticks\": \"\"}, \"colorscale\": [[0.0, \"#0d0887\"], [0.1111111111111111, \"#46039f\"], [0.2222222222222222, \"#7201a8\"], [0.3333333333333333, \"#9c179e\"], [0.4444444444444444, \"#bd3786\"], [0.5555555555555556, \"#d8576b\"], [0.6666666666666666, \"#ed7953\"], [0.7777777777777778, \"#fb9f3a\"], [0.8888888888888888, \"#fdca26\"], [1.0, \"#f0f921\"]], \"type\": \"heatmap\"}], \"heatmapgl\": [{\"colorbar\": {\"outlinewidth\": 0, \"ticks\": \"\"}, \"colorscale\": [[0.0, \"#0d0887\"], [0.1111111111111111, \"#46039f\"], [0.2222222222222222, \"#7201a8\"], [0.3333333333333333, \"#9c179e\"], [0.4444444444444444, \"#bd3786\"], [0.5555555555555556, \"#d8576b\"], [0.6666666666666666, \"#ed7953\"], [0.7777777777777778, \"#fb9f3a\"], [0.8888888888888888, \"#fdca26\"], [1.0, \"#f0f921\"]], \"type\": \"heatmapgl\"}], \"histogram\": [{\"marker\": {\"colorbar\": {\"outlinewidth\": 0, \"ticks\": \"\"}}, \"type\": \"histogram\"}], \"histogram2d\": [{\"colorbar\": {\"outlinewidth\": 0, \"ticks\": \"\"}, \"colorscale\": [[0.0, \"#0d0887\"], [0.1111111111111111, \"#46039f\"], [0.2222222222222222, \"#7201a8\"], [0.3333333333333333, \"#9c179e\"], [0.4444444444444444, \"#bd3786\"], [0.5555555555555556, \"#d8576b\"], [0.6666666666666666, \"#ed7953\"], [0.7777777777777778, \"#fb9f3a\"], [0.8888888888888888, \"#fdca26\"], [1.0, \"#f0f921\"]], \"type\": \"histogram2d\"}], \"histogram2dcontour\": [{\"colorbar\": {\"outlinewidth\": 0, \"ticks\": \"\"}, \"colorscale\": [[0.0, \"#0d0887\"], [0.1111111111111111, \"#46039f\"], [0.2222222222222222, \"#7201a8\"], [0.3333333333333333, \"#9c179e\"], [0.4444444444444444, \"#bd3786\"], [0.5555555555555556, \"#d8576b\"], [0.6666666666666666, \"#ed7953\"], [0.7777777777777778, \"#fb9f3a\"], [0.8888888888888888, \"#fdca26\"], [1.0, \"#f0f921\"]], \"type\": \"histogram2dcontour\"}], \"mesh3d\": [{\"colorbar\": {\"outlinewidth\": 0, \"ticks\": \"\"}, \"type\": \"mesh3d\"}], \"parcoords\": [{\"line\": {\"colorbar\": {\"outlinewidth\": 0, \"ticks\": \"\"}}, \"type\": \"parcoords\"}], \"pie\": [{\"automargin\": true, \"type\": \"pie\"}], \"scatter\": [{\"marker\": {\"colorbar\": {\"outlinewidth\": 0, \"ticks\": \"\"}}, \"type\": \"scatter\"}], \"scatter3d\": [{\"line\": {\"colorbar\": {\"outlinewidth\": 0, \"ticks\": \"\"}}, \"marker\": {\"colorbar\": {\"outlinewidth\": 0, \"ticks\": \"\"}}, \"type\": \"scatter3d\"}], \"scattercarpet\": [{\"marker\": {\"colorbar\": {\"outlinewidth\": 0, \"ticks\": \"\"}}, \"type\": \"scattercarpet\"}], \"scattergeo\": [{\"marker\": {\"colorbar\": {\"outlinewidth\": 0, \"ticks\": \"\"}}, \"type\": \"scattergeo\"}], \"scattergl\": [{\"marker\": {\"colorbar\": {\"outlinewidth\": 0, \"ticks\": \"\"}}, \"type\": \"scattergl\"}], \"scattermapbox\": [{\"marker\": {\"colorbar\": {\"outlinewidth\": 0, \"ticks\": \"\"}}, \"type\": \"scattermapbox\"}], \"scatterpolar\": [{\"marker\": {\"colorbar\": {\"outlinewidth\": 0, \"ticks\": \"\"}}, \"type\": \"scatterpolar\"}], \"scatterpolargl\": [{\"marker\": {\"colorbar\": {\"outlinewidth\": 0, \"ticks\": \"\"}}, \"type\": \"scatterpolargl\"}], \"scatterternary\": [{\"marker\": {\"colorbar\": {\"outlinewidth\": 0, \"ticks\": \"\"}}, \"type\": \"scatterternary\"}], \"surface\": [{\"colorbar\": {\"outlinewidth\": 0, \"ticks\": \"\"}, \"colorscale\": [[0.0, \"#0d0887\"], [0.1111111111111111, \"#46039f\"], [0.2222222222222222, \"#7201a8\"], [0.3333333333333333, \"#9c179e\"], [0.4444444444444444, \"#bd3786\"], [0.5555555555555556, \"#d8576b\"], [0.6666666666666666, \"#ed7953\"], [0.7777777777777778, \"#fb9f3a\"], [0.8888888888888888, \"#fdca26\"], [1.0, \"#f0f921\"]], \"type\": \"surface\"}], \"table\": [{\"cells\": {\"fill\": {\"color\": \"#EBF0F8\"}, \"line\": {\"color\": \"white\"}}, \"header\": {\"fill\": {\"color\": \"#C8D4E3\"}, \"line\": {\"color\": \"white\"}}, \"type\": \"table\"}]}, \"layout\": {\"annotationdefaults\": {\"arrowcolor\": \"#2a3f5f\", \"arrowhead\": 0, \"arrowwidth\": 1}, \"coloraxis\": {\"colorbar\": {\"outlinewidth\": 0, \"ticks\": \"\"}}, \"colorscale\": {\"diverging\": [[0, \"#8e0152\"], [0.1, \"#c51b7d\"], [0.2, \"#de77ae\"], [0.3, \"#f1b6da\"], [0.4, \"#fde0ef\"], [0.5, \"#f7f7f7\"], [0.6, \"#e6f5d0\"], [0.7, \"#b8e186\"], [0.8, \"#7fbc41\"], [0.9, \"#4d9221\"], [1, \"#276419\"]], \"sequential\": [[0.0, \"#0d0887\"], [0.1111111111111111, \"#46039f\"], [0.2222222222222222, \"#7201a8\"], [0.3333333333333333, \"#9c179e\"], [0.4444444444444444, \"#bd3786\"], [0.5555555555555556, \"#d8576b\"], [0.6666666666666666, \"#ed7953\"], [0.7777777777777778, \"#fb9f3a\"], [0.8888888888888888, \"#fdca26\"], [1.0, \"#f0f921\"]], \"sequentialminus\": [[0.0, \"#0d0887\"], [0.1111111111111111, \"#46039f\"], [0.2222222222222222, \"#7201a8\"], [0.3333333333333333, \"#9c179e\"], [0.4444444444444444, \"#bd3786\"], [0.5555555555555556, \"#d8576b\"], [0.6666666666666666, \"#ed7953\"], [0.7777777777777778, \"#fb9f3a\"], [0.8888888888888888, \"#fdca26\"], [1.0, \"#f0f921\"]]}, \"colorway\": [\"#636efa\", \"#EF553B\", \"#00cc96\", \"#ab63fa\", \"#FFA15A\", \"#19d3f3\", \"#FF6692\", \"#B6E880\", \"#FF97FF\", \"#FECB52\"], \"font\": {\"color\": \"#2a3f5f\"}, \"geo\": {\"bgcolor\": \"white\", \"lakecolor\": \"white\", \"landcolor\": \"#E5ECF6\", \"showlakes\": true, \"showland\": true, \"subunitcolor\": \"white\"}, \"hoverlabel\": {\"align\": \"left\"}, \"hovermode\": \"closest\", \"mapbox\": {\"style\": \"light\"}, \"paper_bgcolor\": \"white\", \"plot_bgcolor\": \"#E5ECF6\", \"polar\": {\"angularaxis\": {\"gridcolor\": \"white\", \"linecolor\": \"white\", \"ticks\": \"\"}, \"bgcolor\": \"#E5ECF6\", \"radialaxis\": {\"gridcolor\": \"white\", \"linecolor\": \"white\", \"ticks\": \"\"}}, \"scene\": {\"xaxis\": {\"backgroundcolor\": \"#E5ECF6\", \"gridcolor\": \"white\", \"gridwidth\": 2, \"linecolor\": \"white\", \"showbackground\": true, \"ticks\": \"\", \"zerolinecolor\": \"white\"}, \"yaxis\": {\"backgroundcolor\": \"#E5ECF6\", \"gridcolor\": \"white\", \"gridwidth\": 2, \"linecolor\": \"white\", \"showbackground\": true, \"ticks\": \"\", \"zerolinecolor\": \"white\"}, \"zaxis\": {\"backgroundcolor\": \"#E5ECF6\", \"gridcolor\": \"white\", \"gridwidth\": 2, \"linecolor\": \"white\", \"showbackground\": true, \"ticks\": \"\", \"zerolinecolor\": \"white\"}}, \"shapedefaults\": {\"line\": {\"color\": \"#2a3f5f\"}}, \"ternary\": {\"aaxis\": {\"gridcolor\": \"white\", \"linecolor\": \"white\", \"ticks\": \"\"}, \"baxis\": {\"gridcolor\": \"white\", \"linecolor\": \"white\", \"ticks\": \"\"}, \"bgcolor\": \"#E5ECF6\", \"caxis\": {\"gridcolor\": \"white\", \"linecolor\": \"white\", \"ticks\": \"\"}}, \"title\": {\"x\": 0.05}, \"xaxis\": {\"automargin\": true, \"gridcolor\": \"white\", \"linecolor\": \"white\", \"ticks\": \"\", \"title\": {\"standoff\": 15}, \"zerolinecolor\": \"white\", \"zerolinewidth\": 2}, \"yaxis\": {\"automargin\": true, \"gridcolor\": \"white\", \"linecolor\": \"white\", \"ticks\": \"\", \"title\": {\"standoff\": 15}, \"zerolinecolor\": \"white\", \"zerolinewidth\": 2}}}, \"xaxis\": {\"anchor\": \"y\", \"domain\": [0.0, 1.0], \"title\": {\"text\": \"country\"}}, \"yaxis\": {\"anchor\": \"x\", \"domain\": [0.0, 1.0], \"title\": {\"text\": \"lvl_of_democracy\"}}},\n",
       "                        {\"responsive\": true}\n",
       "                    ).then(function(){\n",
       "                            \n",
       "var gd = document.getElementById('0573097e-9213-4018-9eaa-23b9c9dca9a1');\n",
       "var x = new MutationObserver(function (mutations, observer) {{\n",
       "        var display = window.getComputedStyle(gd).display;\n",
       "        if (!display || display === 'none') {{\n",
       "            console.log([gd, 'removed!']);\n",
       "            Plotly.purge(gd);\n",
       "            observer.disconnect();\n",
       "        }}\n",
       "}});\n",
       "\n",
       "// Listen for the removal of the full notebook cells\n",
       "var notebookContainer = gd.closest('#notebook-container');\n",
       "if (notebookContainer) {{\n",
       "    x.observe(notebookContainer, {childList: true});\n",
       "}}\n",
       "\n",
       "// Listen for the clearing of the current output cell\n",
       "var outputEl = gd.closest('.output');\n",
       "if (outputEl) {{\n",
       "    x.observe(outputEl, {childList: true});\n",
       "}}\n",
       "\n",
       "                        })\n",
       "                };\n",
       "                });\n",
       "            </script>\n",
       "        </div>"
      ]
     },
     "metadata": {},
     "output_type": "display_data"
    }
   ],
   "source": [
    "px.box(data, x=\"country\", y='lvl_of_democracy').show()"
   ]
  },
  {
   "cell_type": "code",
   "execution_count": 18,
   "metadata": {},
   "outputs": [
    {
     "data": {
      "application/vnd.plotly.v1+json": {
       "config": {
        "plotlyServerURL": "https://plot.ly"
       },
       "data": [
        {
         "hoverlabel": {
          "namelength": 0
         },
         "hovertemplate": "country=%{x}<br>lvl_of_democracy=%{y}",
         "legendgroup": "",
         "marker": {
          "color": "#636efa",
          "symbol": "circle"
         },
         "mode": "markers",
         "name": "",
         "showlegend": false,
         "type": "scatter",
         "x": [
          "Albania",
          "Argentina",
          "Armenia",
          "Australia",
          "Austria",
          "Azerbaijan",
          "Belarus",
          "Belgium",
          "Bhutan",
          "Bolivia",
          "Brazil",
          "Bulgaria",
          "Canada",
          "Chile",
          "China",
          "Colombia",
          "Costa Rica",
          "Croatia",
          "Cuba",
          "Czech Rep.",
          "Denmark",
          "Dominican Rep.",
          "Ecuador",
          "Egypt",
          "El Salvador",
          "Estonia",
          "Ethiopia",
          "Finland",
          "France",
          "Georgia",
          "Germany",
          "Greece",
          "Guatemala",
          "Haiti",
          "Honduras",
          "Hungary",
          "India",
          "Indonesia",
          "Iran",
          "Iraq",
          "Ireland",
          "Israel",
          "Italy",
          "Japan",
          "Jordan",
          "Kazakhstan",
          "Korea, Dem. Rep.",
          "Korea, Rep.",
          "Kyrgyzstan",
          "Latvia",
          "Lebanon",
          "Liberia",
          "Libya",
          "Lithuania",
          "Macedonia, FYR",
          "Mexico",
          "Moldova",
          "Mongolia",
          "Montenegro",
          "Myanmar",
          "Nepal",
          "Netherlands",
          "New Zealand",
          "Nicaragua",
          "Norway",
          "Oman",
          "Pakistan",
          "Panama",
          "Paraguay",
          "Peru",
          "Philippines",
          "Poland",
          "Portugal",
          "Romania",
          "Russia",
          "Saudi Arabia",
          "Serbia",
          "Slovak Republic",
          "Slovenia",
          "South Africa",
          "Spain",
          "Sri Lanka",
          "Sweden",
          "Switzerland",
          "Syria",
          "Taiwan",
          "Tajikistan",
          "Thailand",
          "Turkey",
          "Turkmenistan",
          "Ukraine",
          "United Kingdom",
          "United States",
          "Uruguay",
          "Uzbekistan",
          "Venezuela",
          "Albania",
          "Argentina",
          "Armenia",
          "Australia",
          "Austria",
          "Azerbaijan",
          "Belarus",
          "Belgium",
          "Bhutan",
          "Bolivia",
          "Brazil",
          "Bulgaria",
          "Canada",
          "Chile",
          "China",
          "Colombia",
          "Costa Rica",
          "Croatia",
          "Cuba",
          "Czech Rep.",
          "Denmark",
          "Dominican Rep.",
          "Ecuador",
          "Egypt",
          "El Salvador",
          "Estonia",
          "Ethiopia",
          "Finland",
          "France",
          "Georgia",
          "Germany",
          "Greece",
          "Guatemala",
          "Haiti",
          "Honduras",
          "Hungary",
          "India",
          "Indonesia",
          "Iran",
          "Iraq",
          "Ireland",
          "Israel",
          "Italy",
          "Japan",
          "Jordan",
          "Kazakhstan",
          "Korea, Dem. Rep.",
          "Korea, Rep.",
          "Kyrgyzstan",
          "Latvia",
          "Lebanon",
          "Liberia",
          "Libya",
          "Lithuania",
          "Macedonia, FYR",
          "Mexico",
          "Moldova",
          "Mongolia",
          "Montenegro",
          "Myanmar",
          "Nepal",
          "Netherlands",
          "New Zealand",
          "Nicaragua",
          "Norway",
          "Oman",
          "Pakistan",
          "Panama",
          "Paraguay",
          "Peru",
          "Philippines",
          "Poland",
          "Portugal",
          "Romania",
          "Russia",
          "Saudi Arabia",
          "Serbia",
          "Slovak Republic",
          "Slovenia",
          "South Africa",
          "Spain",
          "Sri Lanka",
          "Sweden",
          "Switzerland",
          "Syria",
          "Taiwan",
          "Tajikistan",
          "Thailand",
          "Turkey",
          "Turkmenistan",
          "Ukraine",
          "United Kingdom",
          "United States",
          "Uruguay",
          "Uzbekistan",
          "Venezuela",
          "Albania",
          "Argentina",
          "Armenia",
          "Australia",
          "Austria",
          "Azerbaijan",
          "Belarus",
          "Belgium",
          "Bhutan",
          "Bolivia",
          "Brazil",
          "Bulgaria",
          "Canada",
          "Chile",
          "China",
          "Colombia",
          "Costa Rica",
          "Croatia",
          "Cuba",
          "Czech Rep.",
          "Denmark",
          "Dominican Rep.",
          "Ecuador",
          "Egypt",
          "El Salvador",
          "Estonia",
          "Ethiopia",
          "Finland",
          "France",
          "Georgia",
          "Germany",
          "Greece",
          "Guatemala",
          "Haiti",
          "Honduras",
          "Hungary",
          "India",
          "Indonesia",
          "Iran",
          "Iraq",
          "Ireland",
          "Israel",
          "Italy",
          "Japan",
          "Jordan",
          "Kazakhstan",
          "Korea, Dem. Rep.",
          "Korea, Rep.",
          "Kyrgyzstan",
          "Latvia",
          "Lebanon",
          "Liberia",
          "Libya",
          "Lithuania",
          "Macedonia, FYR",
          "Mexico",
          "Moldova",
          "Mongolia",
          "Montenegro",
          "Myanmar",
          "Nepal",
          "Netherlands",
          "New Zealand",
          "Nicaragua",
          "Norway",
          "Oman",
          "Pakistan",
          "Panama",
          "Paraguay",
          "Peru",
          "Philippines",
          "Poland",
          "Portugal",
          "Romania",
          "Russia",
          "Saudi Arabia",
          "Serbia",
          "Slovak Republic",
          "Slovenia",
          "South Africa",
          "Spain",
          "Sri Lanka",
          "Sweden",
          "Switzerland",
          "Syria",
          "Taiwan",
          "Tajikistan",
          "Thailand",
          "Turkey",
          "Turkmenistan",
          "Ukraine",
          "United Kingdom",
          "United States",
          "Uruguay",
          "Uzbekistan",
          "Venezuela",
          "Albania",
          "Argentina",
          "Armenia",
          "Australia",
          "Austria",
          "Azerbaijan",
          "Belarus",
          "Belgium",
          "Bhutan",
          "Bolivia",
          "Brazil",
          "Bulgaria",
          "Canada",
          "Chile",
          "China",
          "Colombia",
          "Costa Rica",
          "Croatia",
          "Cuba",
          "Czech Rep.",
          "Denmark",
          "Dominican Rep.",
          "Ecuador",
          "Egypt",
          "El Salvador",
          "Estonia",
          "Ethiopia",
          "Finland",
          "France",
          "Georgia",
          "Germany",
          "Greece",
          "Guatemala",
          "Haiti",
          "Honduras",
          "Hungary",
          "India",
          "Indonesia",
          "Iran",
          "Iraq",
          "Ireland",
          "Israel",
          "Italy",
          "Japan",
          "Jordan",
          "Kazakhstan",
          "Korea, Dem. Rep.",
          "Korea, Rep.",
          "Kyrgyzstan",
          "Latvia",
          "Lebanon",
          "Liberia",
          "Libya",
          "Lithuania",
          "Macedonia, FYR",
          "Mexico",
          "Moldova",
          "Mongolia",
          "Montenegro",
          "Myanmar",
          "Nepal",
          "Netherlands",
          "New Zealand",
          "Nicaragua",
          "Norway",
          "Oman",
          "Pakistan",
          "Panama",
          "Paraguay",
          "Peru",
          "Philippines",
          "Poland",
          "Portugal",
          "Romania",
          "Russia",
          "Saudi Arabia",
          "Serbia",
          "Slovak Republic",
          "Slovenia",
          "South Africa",
          "Spain",
          "Sri Lanka",
          "Sweden",
          "Switzerland",
          "Syria",
          "Taiwan",
          "Tajikistan",
          "Thailand",
          "Turkey",
          "Turkmenistan",
          "Ukraine",
          "United Kingdom",
          "United States",
          "Uruguay",
          "Uzbekistan",
          "Venezuela",
          "Albania",
          "Argentina",
          "Armenia",
          "Australia",
          "Austria",
          "Azerbaijan",
          "Belarus",
          "Belgium",
          "Bhutan",
          "Bolivia",
          "Brazil",
          "Bulgaria",
          "Canada",
          "Chile",
          "China",
          "Colombia",
          "Costa Rica",
          "Croatia",
          "Cuba",
          "Czech Rep.",
          "Denmark",
          "Dominican Rep.",
          "Ecuador",
          "Egypt",
          "El Salvador",
          "Estonia",
          "Ethiopia",
          "Finland",
          "France",
          "Georgia",
          "Germany",
          "Greece",
          "Guatemala",
          "Haiti",
          "Honduras",
          "Hungary",
          "India",
          "Indonesia",
          "Iran",
          "Iraq",
          "Ireland",
          "Israel",
          "Italy",
          "Japan",
          "Jordan",
          "Kazakhstan",
          "Korea, Dem. Rep.",
          "Korea, Rep.",
          "Kyrgyzstan",
          "Latvia",
          "Lebanon",
          "Liberia",
          "Libya",
          "Lithuania",
          "Macedonia, FYR",
          "Mexico",
          "Moldova",
          "Mongolia",
          "Montenegro",
          "Myanmar",
          "Nepal",
          "Netherlands",
          "New Zealand",
          "Nicaragua",
          "Norway",
          "Oman",
          "Pakistan",
          "Panama",
          "Paraguay",
          "Peru",
          "Philippines",
          "Poland",
          "Portugal",
          "Romania",
          "Russia",
          "Saudi Arabia",
          "Serbia",
          "Slovak Republic",
          "Slovenia",
          "South Africa",
          "Spain",
          "Sri Lanka",
          "Sweden",
          "Switzerland",
          "Syria",
          "Taiwan",
          "Tajikistan",
          "Thailand",
          "Turkey",
          "Turkmenistan",
          "Ukraine",
          "United Kingdom",
          "United States",
          "Uruguay",
          "Uzbekistan",
          "Venezuela",
          "Albania",
          "Argentina",
          "Armenia",
          "Australia",
          "Austria",
          "Azerbaijan",
          "Belarus",
          "Belgium",
          "Bhutan",
          "Bolivia",
          "Brazil",
          "Bulgaria",
          "Canada",
          "Chile",
          "China",
          "Colombia",
          "Costa Rica",
          "Croatia",
          "Cuba",
          "Czech Rep.",
          "Denmark",
          "Dominican Rep.",
          "Ecuador",
          "Egypt",
          "El Salvador",
          "Estonia",
          "Ethiopia",
          "Finland",
          "France",
          "Georgia",
          "Germany",
          "Greece",
          "Guatemala",
          "Haiti",
          "Honduras",
          "Hungary",
          "India",
          "Indonesia",
          "Iran",
          "Iraq",
          "Ireland",
          "Israel",
          "Italy",
          "Japan",
          "Jordan",
          "Kazakhstan",
          "Korea, Dem. Rep.",
          "Korea, Rep.",
          "Kyrgyzstan",
          "Latvia",
          "Lebanon",
          "Liberia",
          "Libya",
          "Lithuania",
          "Macedonia, FYR",
          "Mexico",
          "Moldova",
          "Mongolia",
          "Montenegro",
          "Myanmar",
          "Nepal",
          "Netherlands",
          "New Zealand",
          "Nicaragua",
          "Norway",
          "Oman",
          "Pakistan",
          "Panama",
          "Paraguay",
          "Peru",
          "Philippines",
          "Poland",
          "Portugal",
          "Romania",
          "Russia",
          "Saudi Arabia",
          "Serbia",
          "Slovak Republic",
          "Slovenia",
          "South Africa",
          "Spain",
          "Sri Lanka",
          "Sweden",
          "Switzerland",
          "Syria",
          "Taiwan",
          "Tajikistan",
          "Thailand",
          "Turkey",
          "Turkmenistan",
          "Ukraine",
          "United Kingdom",
          "United States",
          "Uruguay",
          "Uzbekistan",
          "Venezuela",
          "Albania",
          "Argentina",
          "Armenia",
          "Australia",
          "Austria",
          "Azerbaijan",
          "Belarus",
          "Belgium",
          "Bhutan",
          "Bolivia",
          "Brazil",
          "Bulgaria",
          "Canada",
          "Chile",
          "China",
          "Colombia",
          "Costa Rica",
          "Croatia",
          "Cuba",
          "Czech Rep.",
          "Denmark",
          "Dominican Rep.",
          "Ecuador",
          "Egypt",
          "El Salvador",
          "Estonia",
          "Ethiopia",
          "Finland",
          "France",
          "Georgia",
          "Germany",
          "Greece",
          "Guatemala",
          "Haiti",
          "Honduras",
          "Hungary",
          "India",
          "Indonesia",
          "Iran",
          "Iraq",
          "Ireland",
          "Israel",
          "Italy",
          "Japan",
          "Jordan",
          "Kazakhstan",
          "Korea, Dem. Rep.",
          "Korea, Rep.",
          "Kyrgyzstan",
          "Latvia",
          "Lebanon",
          "Liberia",
          "Libya",
          "Lithuania",
          "Macedonia, FYR",
          "Mexico",
          "Moldova",
          "Mongolia",
          "Montenegro",
          "Myanmar",
          "Nepal",
          "Netherlands",
          "New Zealand",
          "Nicaragua",
          "Norway",
          "Oman",
          "Pakistan",
          "Panama",
          "Paraguay",
          "Peru",
          "Philippines",
          "Poland",
          "Portugal",
          "Romania",
          "Russia",
          "Saudi Arabia",
          "Serbia",
          "Slovak Republic",
          "Slovenia",
          "South Africa",
          "Spain",
          "Sri Lanka",
          "Sweden",
          "Switzerland",
          "Syria",
          "Taiwan",
          "Tajikistan",
          "Thailand",
          "Turkey",
          "Turkmenistan",
          "Ukraine",
          "United Kingdom",
          "United States",
          "Uruguay",
          "Uzbekistan",
          "Venezuela",
          "Albania",
          "Argentina",
          "Armenia",
          "Australia",
          "Austria",
          "Azerbaijan",
          "Belarus",
          "Belgium",
          "Bhutan",
          "Bolivia",
          "Brazil",
          "Bulgaria",
          "Canada",
          "Chile",
          "China",
          "Colombia",
          "Costa Rica",
          "Croatia",
          "Cuba",
          "Czech Rep.",
          "Denmark",
          "Dominican Rep.",
          "Ecuador",
          "Egypt",
          "El Salvador",
          "Estonia",
          "Ethiopia",
          "Finland",
          "France",
          "Georgia",
          "Germany",
          "Greece",
          "Guatemala",
          "Haiti",
          "Honduras",
          "Hungary",
          "India",
          "Indonesia",
          "Iran",
          "Iraq",
          "Ireland",
          "Israel",
          "Italy",
          "Japan",
          "Jordan",
          "Kazakhstan",
          "Korea, Dem. Rep.",
          "Korea, Rep.",
          "Kyrgyzstan",
          "Latvia",
          "Lebanon",
          "Liberia",
          "Libya",
          "Lithuania",
          "Macedonia, FYR",
          "Mexico",
          "Moldova",
          "Mongolia",
          "Montenegro",
          "Myanmar",
          "Nepal",
          "Netherlands",
          "New Zealand",
          "Nicaragua",
          "Norway",
          "Oman",
          "Pakistan",
          "Panama",
          "Paraguay",
          "Peru",
          "Philippines",
          "Poland",
          "Portugal",
          "Romania",
          "Russia",
          "Saudi Arabia",
          "Serbia",
          "Slovak Republic",
          "Slovenia",
          "South Africa",
          "Spain",
          "Sri Lanka",
          "Sweden",
          "Switzerland",
          "Syria",
          "Taiwan",
          "Tajikistan",
          "Thailand",
          "Turkey",
          "Turkmenistan",
          "Ukraine",
          "United Kingdom",
          "United States",
          "Uruguay",
          "Uzbekistan",
          "Venezuela",
          "Albania",
          "Argentina",
          "Armenia",
          "Australia",
          "Austria",
          "Azerbaijan",
          "Belarus",
          "Belgium",
          "Bhutan",
          "Bolivia",
          "Brazil",
          "Bulgaria",
          "Canada",
          "Chile",
          "China",
          "Colombia",
          "Costa Rica",
          "Croatia",
          "Cuba",
          "Czech Rep.",
          "Denmark",
          "Dominican Rep.",
          "Ecuador",
          "Egypt",
          "El Salvador",
          "Estonia",
          "Ethiopia",
          "Finland",
          "France",
          "Georgia",
          "Germany",
          "Greece",
          "Guatemala",
          "Haiti",
          "Honduras",
          "Hungary",
          "India",
          "Indonesia",
          "Iran",
          "Iraq",
          "Ireland",
          "Israel",
          "Italy",
          "Japan",
          "Jordan",
          "Kazakhstan",
          "Korea, Dem. Rep.",
          "Korea, Rep.",
          "Kyrgyzstan",
          "Latvia",
          "Lebanon",
          "Liberia",
          "Libya",
          "Lithuania",
          "Macedonia, FYR",
          "Mexico",
          "Moldova",
          "Mongolia",
          "Montenegro",
          "Myanmar",
          "Nepal",
          "Netherlands",
          "New Zealand",
          "Nicaragua",
          "Norway",
          "Oman",
          "Pakistan",
          "Panama",
          "Paraguay",
          "Peru",
          "Philippines",
          "Poland",
          "Portugal",
          "Romania",
          "Russia",
          "Saudi Arabia",
          "Serbia",
          "Slovak Republic",
          "Slovenia",
          "South Africa",
          "Spain",
          "Sri Lanka",
          "Sweden",
          "Switzerland",
          "Syria",
          "Taiwan",
          "Tajikistan",
          "Thailand",
          "Turkey",
          "Turkmenistan",
          "Ukraine",
          "United Kingdom",
          "United States",
          "Uruguay",
          "Uzbekistan",
          "Venezuela"
         ],
         "xaxis": "x",
         "y": [
          -9,
          -9,
          -9,
          10,
          10,
          -9,
          -9,
          10,
          -10,
          -4,
          5,
          -7,
          10,
          2,
          -8,
          -5,
          10,
          -7,
          0,
          -7,
          10,
          -9,
          2,
          -7,
          -6,
          -9,
          -9,
          10,
          10,
          -9,
          10,
          4,
          2,
          -5,
          -3,
          -7,
          9,
          0,
          -1,
          -4,
          10,
          10,
          10,
          10,
          -1,
          -9,
          -7,
          -4,
          -9,
          -9,
          2,
          -6,
          -7,
          -9,
          -7,
          -6,
          -9,
          -7,
          -7,
          8,
          -7,
          10,
          10,
          -8,
          10,
          -6,
          5,
          -1,
          -5,
          -2,
          5,
          -7,
          -9,
          -7,
          -9,
          -10,
          -7,
          -7,
          -7,
          4,
          -7,
          7,
          10,
          10,
          -7,
          -8,
          -9,
          -6,
          7,
          -9,
          -9,
          10,
          10,
          8,
          -9,
          -3,
          -9,
          -1,
          -7,
          10,
          10,
          -7,
          -7,
          10,
          -10,
          -3,
          5,
          -7,
          10,
          5,
          -8,
          7,
          10,
          -7,
          -9,
          -7,
          10,
          -9,
          2,
          -7,
          -5,
          -7,
          -9,
          10,
          10,
          -7,
          10,
          4,
          -6,
          -5,
          -1,
          -7,
          9,
          -1,
          -10,
          -4,
          10,
          10,
          10,
          10,
          -9,
          -7,
          -8,
          -4,
          -7,
          -7,
          2,
          -6,
          -7,
          -7,
          -7,
          -6,
          -7,
          -7,
          -7,
          8,
          -4,
          10,
          10,
          -8,
          10,
          -10,
          8,
          4,
          -9,
          5,
          5,
          -7,
          -9,
          -7,
          -7,
          -10,
          -7,
          -7,
          -7,
          4,
          -7,
          7,
          10,
          10,
          7,
          -8,
          -7,
          -3,
          4,
          -7,
          -7,
          10,
          10,
          8,
          -7,
          -3,
          -9,
          -1,
          -7,
          10,
          10,
          -7,
          -7,
          10,
          -10,
          -3,
          5,
          -7,
          10,
          5,
          -8,
          7,
          10,
          -7,
          -7,
          -7,
          10,
          8,
          -1,
          -7,
          -3,
          -7,
          -9,
          10,
          5,
          -7,
          10,
          4,
          -5,
          -9,
          -1,
          -7,
          9,
          -5,
          -10,
          -5,
          10,
          10,
          10,
          10,
          -9,
          -7,
          -8,
          -7,
          -7,
          -7,
          2,
          -6,
          -7,
          -7,
          -7,
          -6,
          -7,
          -7,
          -7,
          -6,
          -9,
          10,
          10,
          -8,
          10,
          -10,
          1,
          4,
          -9,
          -6,
          5,
          -7,
          -9,
          -7,
          -7,
          -10,
          -7,
          -7,
          -7,
          4,
          -7,
          7,
          10,
          10,
          -2,
          -8,
          -7,
          -7,
          9,
          -7,
          -7,
          10,
          10,
          8,
          -7,
          6,
          -9,
          -9,
          -7,
          10,
          10,
          -7,
          -7,
          10,
          -10,
          -4,
          -9,
          -7,
          10,
          6,
          -9,
          7,
          10,
          -7,
          -7,
          -7,
          10,
          -3,
          -1,
          -7,
          0,
          -7,
          -9,
          10,
          5,
          -7,
          10,
          -7,
          3,
          -9,
          -1,
          -7,
          9,
          -7,
          -10,
          -5,
          10,
          9,
          10,
          10,
          -9,
          -7,
          -9,
          3,
          -7,
          -7,
          2,
          -6,
          -7,
          -7,
          -7,
          -6,
          -7,
          -7,
          -7,
          -7,
          -9,
          10,
          10,
          -8,
          10,
          -10,
          1,
          4,
          -8,
          5,
          5,
          -7,
          -9,
          -7,
          -7,
          -10,
          -7,
          -7,
          -7,
          4,
          -7,
          7,
          10,
          10,
          -7,
          -8,
          -7,
          -7,
          8,
          -7,
          -7,
          10,
          10,
          8,
          -7,
          6,
          -9,
          -9,
          -7,
          10,
          10,
          -7,
          -7,
          10,
          -10,
          -7,
          -9,
          -7,
          10,
          6,
          -8,
          7,
          10,
          -7,
          -7,
          -7,
          10,
          -3,
          -5,
          -7,
          -1,
          -7,
          -9,
          10,
          8,
          -7,
          10,
          -7,
          1,
          -10,
          -1,
          -7,
          9,
          -7,
          -10,
          -7,
          10,
          9,
          10,
          10,
          -9,
          -7,
          -9,
          -9,
          -7,
          -7,
          5,
          -6,
          -7,
          -7,
          -7,
          -6,
          -7,
          -7,
          -7,
          -7,
          -9,
          10,
          10,
          -8,
          10,
          -10,
          4,
          -7,
          -8,
          -7,
          -9,
          -7,
          -9,
          -7,
          -7,
          -10,
          -7,
          -7,
          -7,
          4,
          -7,
          8,
          10,
          10,
          -9,
          -8,
          -7,
          -7,
          -2,
          -7,
          -7,
          10,
          10,
          -3,
          -7,
          9,
          -9,
          -9,
          -7,
          10,
          10,
          -7,
          -7,
          10,
          -10,
          -7,
          -4,
          -7,
          10,
          -7,
          -7,
          8,
          10,
          -7,
          -7,
          -7,
          10,
          -3,
          -5,
          -6,
          -6,
          -7,
          -7,
          10,
          8,
          -7,
          10,
          8,
          -3,
          -9,
          -1,
          -7,
          8,
          -7,
          -10,
          -7,
          10,
          9,
          10,
          10,
          -10,
          -7,
          -9,
          -8,
          -7,
          -7,
          0,
          -6,
          -7,
          -7,
          -7,
          -3,
          -7,
          -7,
          -7,
          -6,
          -9,
          10,
          10,
          -8,
          10,
          -10,
          -7,
          -7,
          -8,
          -7,
          -9,
          -7,
          9,
          -8,
          -7,
          -10,
          -7,
          -7,
          -7,
          4,
          5,
          8,
          10,
          10,
          -9,
          -7,
          -7,
          -2,
          9,
          -7,
          -7,
          10,
          10,
          -8,
          -7,
          9,
          -9,
          -8,
          -7,
          10,
          10,
          -7,
          -7,
          10,
          -10,
          8,
          -3,
          -7,
          10,
          -7,
          -7,
          8,
          10,
          -5,
          -7,
          -7,
          10,
          6,
          9,
          -6,
          2,
          -7,
          -7,
          10,
          8,
          -7,
          10,
          8,
          -7,
          -9,
          6,
          -7,
          8,
          -7,
          -6,
          -9,
          10,
          9,
          10,
          10,
          -10,
          -7,
          -9,
          -5,
          -7,
          -7,
          0,
          -7,
          -7,
          -7,
          -5,
          -3,
          -7,
          -7,
          -5,
          -8,
          -2,
          10,
          10,
          -5,
          10,
          -10,
          -7,
          -5,
          -8,
          7,
          -7,
          -8,
          10,
          -8,
          -7,
          -10,
          -5,
          -7,
          -5,
          4,
          10,
          5,
          10,
          10,
          -9,
          -7,
          -7,
          2,
          -5,
          -7,
          -7,
          10,
          10,
          -7,
          -7,
          9,
          -9,
          8,
          -7,
          10,
          10,
          -7,
          -7,
          10,
          -10,
          9,
          7,
          -7,
          10,
          -6,
          -7,
          8,
          10,
          -5,
          -7,
          -7,
          10,
          6,
          8,
          -6,
          6,
          -7,
          -8,
          10,
          9,
          -7,
          10,
          10,
          3,
          -8,
          5,
          -7,
          8,
          -7,
          -6,
          -9,
          10,
          9,
          10,
          10,
          -9,
          -7,
          -9,
          1,
          -7,
          -7,
          0,
          -6,
          -7,
          -7,
          -5,
          -3,
          -7,
          -7,
          -5,
          -8,
          -2,
          10,
          10,
          -1,
          10,
          -10,
          -4,
          -8,
          -8,
          7,
          8,
          -6,
          10,
          -8,
          -7,
          -10,
          -5,
          -7,
          -5,
          4,
          10,
          5,
          10,
          10,
          -9,
          -1,
          -7,
          2,
          7,
          -7,
          -7,
          10,
          10,
          9,
          -7,
          9,
          5,
          7,
          7,
          10,
          10,
          1,
          7,
          10,
          -10,
          9,
          8,
          8,
          10,
          8,
          -7,
          9,
          10,
          -3,
          -7,
          8,
          10,
          6,
          9,
          -6,
          7,
          6,
          0,
          10,
          9,
          4,
          10,
          10,
          3,
          -7,
          6,
          10,
          8,
          -7,
          -6,
          -9,
          10,
          9,
          10,
          10,
          -2,
          -3,
          -9,
          6,
          -3,
          8,
          0,
          0,
          -7,
          10,
          6,
          0,
          5,
          9,
          -5,
          -7,
          5,
          10,
          10,
          6,
          10,
          -9,
          8,
          8,
          7,
          -3,
          8,
          8,
          10,
          5,
          5,
          -10,
          -5,
          8,
          10,
          6,
          10,
          5,
          10,
          10,
          -9,
          7,
          -6,
          9,
          9,
          -9,
          6,
          10,
          10,
          10,
          -9,
          8
         ],
         "yaxis": "y"
        }
       ],
       "layout": {
        "height": 600,
        "legend": {
         "tracegroupgap": 0
        },
        "margin": {
         "t": 60
        },
        "template": {
         "data": {
          "bar": [
           {
            "error_x": {
             "color": "#2a3f5f"
            },
            "error_y": {
             "color": "#2a3f5f"
            },
            "marker": {
             "line": {
              "color": "#E5ECF6",
              "width": 0.5
             }
            },
            "type": "bar"
           }
          ],
          "barpolar": [
           {
            "marker": {
             "line": {
              "color": "#E5ECF6",
              "width": 0.5
             }
            },
            "type": "barpolar"
           }
          ],
          "carpet": [
           {
            "aaxis": {
             "endlinecolor": "#2a3f5f",
             "gridcolor": "white",
             "linecolor": "white",
             "minorgridcolor": "white",
             "startlinecolor": "#2a3f5f"
            },
            "baxis": {
             "endlinecolor": "#2a3f5f",
             "gridcolor": "white",
             "linecolor": "white",
             "minorgridcolor": "white",
             "startlinecolor": "#2a3f5f"
            },
            "type": "carpet"
           }
          ],
          "choropleth": [
           {
            "colorbar": {
             "outlinewidth": 0,
             "ticks": ""
            },
            "type": "choropleth"
           }
          ],
          "contour": [
           {
            "colorbar": {
             "outlinewidth": 0,
             "ticks": ""
            },
            "colorscale": [
             [
              0,
              "#0d0887"
             ],
             [
              0.1111111111111111,
              "#46039f"
             ],
             [
              0.2222222222222222,
              "#7201a8"
             ],
             [
              0.3333333333333333,
              "#9c179e"
             ],
             [
              0.4444444444444444,
              "#bd3786"
             ],
             [
              0.5555555555555556,
              "#d8576b"
             ],
             [
              0.6666666666666666,
              "#ed7953"
             ],
             [
              0.7777777777777778,
              "#fb9f3a"
             ],
             [
              0.8888888888888888,
              "#fdca26"
             ],
             [
              1,
              "#f0f921"
             ]
            ],
            "type": "contour"
           }
          ],
          "contourcarpet": [
           {
            "colorbar": {
             "outlinewidth": 0,
             "ticks": ""
            },
            "type": "contourcarpet"
           }
          ],
          "heatmap": [
           {
            "colorbar": {
             "outlinewidth": 0,
             "ticks": ""
            },
            "colorscale": [
             [
              0,
              "#0d0887"
             ],
             [
              0.1111111111111111,
              "#46039f"
             ],
             [
              0.2222222222222222,
              "#7201a8"
             ],
             [
              0.3333333333333333,
              "#9c179e"
             ],
             [
              0.4444444444444444,
              "#bd3786"
             ],
             [
              0.5555555555555556,
              "#d8576b"
             ],
             [
              0.6666666666666666,
              "#ed7953"
             ],
             [
              0.7777777777777778,
              "#fb9f3a"
             ],
             [
              0.8888888888888888,
              "#fdca26"
             ],
             [
              1,
              "#f0f921"
             ]
            ],
            "type": "heatmap"
           }
          ],
          "heatmapgl": [
           {
            "colorbar": {
             "outlinewidth": 0,
             "ticks": ""
            },
            "colorscale": [
             [
              0,
              "#0d0887"
             ],
             [
              0.1111111111111111,
              "#46039f"
             ],
             [
              0.2222222222222222,
              "#7201a8"
             ],
             [
              0.3333333333333333,
              "#9c179e"
             ],
             [
              0.4444444444444444,
              "#bd3786"
             ],
             [
              0.5555555555555556,
              "#d8576b"
             ],
             [
              0.6666666666666666,
              "#ed7953"
             ],
             [
              0.7777777777777778,
              "#fb9f3a"
             ],
             [
              0.8888888888888888,
              "#fdca26"
             ],
             [
              1,
              "#f0f921"
             ]
            ],
            "type": "heatmapgl"
           }
          ],
          "histogram": [
           {
            "marker": {
             "colorbar": {
              "outlinewidth": 0,
              "ticks": ""
             }
            },
            "type": "histogram"
           }
          ],
          "histogram2d": [
           {
            "colorbar": {
             "outlinewidth": 0,
             "ticks": ""
            },
            "colorscale": [
             [
              0,
              "#0d0887"
             ],
             [
              0.1111111111111111,
              "#46039f"
             ],
             [
              0.2222222222222222,
              "#7201a8"
             ],
             [
              0.3333333333333333,
              "#9c179e"
             ],
             [
              0.4444444444444444,
              "#bd3786"
             ],
             [
              0.5555555555555556,
              "#d8576b"
             ],
             [
              0.6666666666666666,
              "#ed7953"
             ],
             [
              0.7777777777777778,
              "#fb9f3a"
             ],
             [
              0.8888888888888888,
              "#fdca26"
             ],
             [
              1,
              "#f0f921"
             ]
            ],
            "type": "histogram2d"
           }
          ],
          "histogram2dcontour": [
           {
            "colorbar": {
             "outlinewidth": 0,
             "ticks": ""
            },
            "colorscale": [
             [
              0,
              "#0d0887"
             ],
             [
              0.1111111111111111,
              "#46039f"
             ],
             [
              0.2222222222222222,
              "#7201a8"
             ],
             [
              0.3333333333333333,
              "#9c179e"
             ],
             [
              0.4444444444444444,
              "#bd3786"
             ],
             [
              0.5555555555555556,
              "#d8576b"
             ],
             [
              0.6666666666666666,
              "#ed7953"
             ],
             [
              0.7777777777777778,
              "#fb9f3a"
             ],
             [
              0.8888888888888888,
              "#fdca26"
             ],
             [
              1,
              "#f0f921"
             ]
            ],
            "type": "histogram2dcontour"
           }
          ],
          "mesh3d": [
           {
            "colorbar": {
             "outlinewidth": 0,
             "ticks": ""
            },
            "type": "mesh3d"
           }
          ],
          "parcoords": [
           {
            "line": {
             "colorbar": {
              "outlinewidth": 0,
              "ticks": ""
             }
            },
            "type": "parcoords"
           }
          ],
          "pie": [
           {
            "automargin": true,
            "type": "pie"
           }
          ],
          "scatter": [
           {
            "marker": {
             "colorbar": {
              "outlinewidth": 0,
              "ticks": ""
             }
            },
            "type": "scatter"
           }
          ],
          "scatter3d": [
           {
            "line": {
             "colorbar": {
              "outlinewidth": 0,
              "ticks": ""
             }
            },
            "marker": {
             "colorbar": {
              "outlinewidth": 0,
              "ticks": ""
             }
            },
            "type": "scatter3d"
           }
          ],
          "scattercarpet": [
           {
            "marker": {
             "colorbar": {
              "outlinewidth": 0,
              "ticks": ""
             }
            },
            "type": "scattercarpet"
           }
          ],
          "scattergeo": [
           {
            "marker": {
             "colorbar": {
              "outlinewidth": 0,
              "ticks": ""
             }
            },
            "type": "scattergeo"
           }
          ],
          "scattergl": [
           {
            "marker": {
             "colorbar": {
              "outlinewidth": 0,
              "ticks": ""
             }
            },
            "type": "scattergl"
           }
          ],
          "scattermapbox": [
           {
            "marker": {
             "colorbar": {
              "outlinewidth": 0,
              "ticks": ""
             }
            },
            "type": "scattermapbox"
           }
          ],
          "scatterpolar": [
           {
            "marker": {
             "colorbar": {
              "outlinewidth": 0,
              "ticks": ""
             }
            },
            "type": "scatterpolar"
           }
          ],
          "scatterpolargl": [
           {
            "marker": {
             "colorbar": {
              "outlinewidth": 0,
              "ticks": ""
             }
            },
            "type": "scatterpolargl"
           }
          ],
          "scatterternary": [
           {
            "marker": {
             "colorbar": {
              "outlinewidth": 0,
              "ticks": ""
             }
            },
            "type": "scatterternary"
           }
          ],
          "surface": [
           {
            "colorbar": {
             "outlinewidth": 0,
             "ticks": ""
            },
            "colorscale": [
             [
              0,
              "#0d0887"
             ],
             [
              0.1111111111111111,
              "#46039f"
             ],
             [
              0.2222222222222222,
              "#7201a8"
             ],
             [
              0.3333333333333333,
              "#9c179e"
             ],
             [
              0.4444444444444444,
              "#bd3786"
             ],
             [
              0.5555555555555556,
              "#d8576b"
             ],
             [
              0.6666666666666666,
              "#ed7953"
             ],
             [
              0.7777777777777778,
              "#fb9f3a"
             ],
             [
              0.8888888888888888,
              "#fdca26"
             ],
             [
              1,
              "#f0f921"
             ]
            ],
            "type": "surface"
           }
          ],
          "table": [
           {
            "cells": {
             "fill": {
              "color": "#EBF0F8"
             },
             "line": {
              "color": "white"
             }
            },
            "header": {
             "fill": {
              "color": "#C8D4E3"
             },
             "line": {
              "color": "white"
             }
            },
            "type": "table"
           }
          ]
         },
         "layout": {
          "annotationdefaults": {
           "arrowcolor": "#2a3f5f",
           "arrowhead": 0,
           "arrowwidth": 1
          },
          "coloraxis": {
           "colorbar": {
            "outlinewidth": 0,
            "ticks": ""
           }
          },
          "colorscale": {
           "diverging": [
            [
             0,
             "#8e0152"
            ],
            [
             0.1,
             "#c51b7d"
            ],
            [
             0.2,
             "#de77ae"
            ],
            [
             0.3,
             "#f1b6da"
            ],
            [
             0.4,
             "#fde0ef"
            ],
            [
             0.5,
             "#f7f7f7"
            ],
            [
             0.6,
             "#e6f5d0"
            ],
            [
             0.7,
             "#b8e186"
            ],
            [
             0.8,
             "#7fbc41"
            ],
            [
             0.9,
             "#4d9221"
            ],
            [
             1,
             "#276419"
            ]
           ],
           "sequential": [
            [
             0,
             "#0d0887"
            ],
            [
             0.1111111111111111,
             "#46039f"
            ],
            [
             0.2222222222222222,
             "#7201a8"
            ],
            [
             0.3333333333333333,
             "#9c179e"
            ],
            [
             0.4444444444444444,
             "#bd3786"
            ],
            [
             0.5555555555555556,
             "#d8576b"
            ],
            [
             0.6666666666666666,
             "#ed7953"
            ],
            [
             0.7777777777777778,
             "#fb9f3a"
            ],
            [
             0.8888888888888888,
             "#fdca26"
            ],
            [
             1,
             "#f0f921"
            ]
           ],
           "sequentialminus": [
            [
             0,
             "#0d0887"
            ],
            [
             0.1111111111111111,
             "#46039f"
            ],
            [
             0.2222222222222222,
             "#7201a8"
            ],
            [
             0.3333333333333333,
             "#9c179e"
            ],
            [
             0.4444444444444444,
             "#bd3786"
            ],
            [
             0.5555555555555556,
             "#d8576b"
            ],
            [
             0.6666666666666666,
             "#ed7953"
            ],
            [
             0.7777777777777778,
             "#fb9f3a"
            ],
            [
             0.8888888888888888,
             "#fdca26"
            ],
            [
             1,
             "#f0f921"
            ]
           ]
          },
          "colorway": [
           "#636efa",
           "#EF553B",
           "#00cc96",
           "#ab63fa",
           "#FFA15A",
           "#19d3f3",
           "#FF6692",
           "#B6E880",
           "#FF97FF",
           "#FECB52"
          ],
          "font": {
           "color": "#2a3f5f"
          },
          "geo": {
           "bgcolor": "white",
           "lakecolor": "white",
           "landcolor": "#E5ECF6",
           "showlakes": true,
           "showland": true,
           "subunitcolor": "white"
          },
          "hoverlabel": {
           "align": "left"
          },
          "hovermode": "closest",
          "mapbox": {
           "style": "light"
          },
          "paper_bgcolor": "white",
          "plot_bgcolor": "#E5ECF6",
          "polar": {
           "angularaxis": {
            "gridcolor": "white",
            "linecolor": "white",
            "ticks": ""
           },
           "bgcolor": "#E5ECF6",
           "radialaxis": {
            "gridcolor": "white",
            "linecolor": "white",
            "ticks": ""
           }
          },
          "scene": {
           "xaxis": {
            "backgroundcolor": "#E5ECF6",
            "gridcolor": "white",
            "gridwidth": 2,
            "linecolor": "white",
            "showbackground": true,
            "ticks": "",
            "zerolinecolor": "white"
           },
           "yaxis": {
            "backgroundcolor": "#E5ECF6",
            "gridcolor": "white",
            "gridwidth": 2,
            "linecolor": "white",
            "showbackground": true,
            "ticks": "",
            "zerolinecolor": "white"
           },
           "zaxis": {
            "backgroundcolor": "#E5ECF6",
            "gridcolor": "white",
            "gridwidth": 2,
            "linecolor": "white",
            "showbackground": true,
            "ticks": "",
            "zerolinecolor": "white"
           }
          },
          "shapedefaults": {
           "line": {
            "color": "#2a3f5f"
           }
          },
          "ternary": {
           "aaxis": {
            "gridcolor": "white",
            "linecolor": "white",
            "ticks": ""
           },
           "baxis": {
            "gridcolor": "white",
            "linecolor": "white",
            "ticks": ""
           },
           "bgcolor": "#E5ECF6",
           "caxis": {
            "gridcolor": "white",
            "linecolor": "white",
            "ticks": ""
           }
          },
          "title": {
           "x": 0.05
          },
          "xaxis": {
           "automargin": true,
           "gridcolor": "white",
           "linecolor": "white",
           "ticks": "",
           "title": {
            "standoff": 15
           },
           "zerolinecolor": "white",
           "zerolinewidth": 2
          },
          "yaxis": {
           "automargin": true,
           "gridcolor": "white",
           "linecolor": "white",
           "ticks": "",
           "title": {
            "standoff": 15
           },
           "zerolinecolor": "white",
           "zerolinewidth": 2
          }
         }
        },
        "xaxis": {
         "anchor": "y",
         "domain": [
          0,
          1
         ],
         "title": {
          "text": "country"
         }
        },
        "yaxis": {
         "anchor": "x",
         "domain": [
          0,
          1
         ],
         "title": {
          "text": "lvl_of_democracy"
         }
        }
       }
      },
      "text/html": [
       "<div>\n",
       "        \n",
       "        \n",
       "            <div id=\"e43d4231-0e1a-40f8-94e5-02fdc43cd55a\" class=\"plotly-graph-div\" style=\"height:600px; width:100%;\"></div>\n",
       "            <script type=\"text/javascript\">\n",
       "                require([\"plotly\"], function(Plotly) {\n",
       "                    window.PLOTLYENV=window.PLOTLYENV || {};\n",
       "                    \n",
       "                if (document.getElementById(\"e43d4231-0e1a-40f8-94e5-02fdc43cd55a\")) {\n",
       "                    Plotly.newPlot(\n",
       "                        'e43d4231-0e1a-40f8-94e5-02fdc43cd55a',\n",
       "                        [{\"hoverlabel\": {\"namelength\": 0}, \"hovertemplate\": \"country=%{x}<br>lvl_of_democracy=%{y}\", \"legendgroup\": \"\", \"marker\": {\"color\": \"#636efa\", \"symbol\": \"circle\"}, \"mode\": \"markers\", \"name\": \"\", \"showlegend\": false, \"type\": \"scatter\", \"x\": [\"Albania\", \"Argentina\", \"Armenia\", \"Australia\", \"Austria\", \"Azerbaijan\", \"Belarus\", \"Belgium\", \"Bhutan\", \"Bolivia\", \"Brazil\", \"Bulgaria\", \"Canada\", \"Chile\", \"China\", \"Colombia\", \"Costa Rica\", \"Croatia\", \"Cuba\", \"Czech Rep.\", \"Denmark\", \"Dominican Rep.\", \"Ecuador\", \"Egypt\", \"El Salvador\", \"Estonia\", \"Ethiopia\", \"Finland\", \"France\", \"Georgia\", \"Germany\", \"Greece\", \"Guatemala\", \"Haiti\", \"Honduras\", \"Hungary\", \"India\", \"Indonesia\", \"Iran\", \"Iraq\", \"Ireland\", \"Israel\", \"Italy\", \"Japan\", \"Jordan\", \"Kazakhstan\", \"Korea, Dem. Rep.\", \"Korea, Rep.\", \"Kyrgyzstan\", \"Latvia\", \"Lebanon\", \"Liberia\", \"Libya\", \"Lithuania\", \"Macedonia, FYR\", \"Mexico\", \"Moldova\", \"Mongolia\", \"Montenegro\", \"Myanmar\", \"Nepal\", \"Netherlands\", \"New Zealand\", \"Nicaragua\", \"Norway\", \"Oman\", \"Pakistan\", \"Panama\", \"Paraguay\", \"Peru\", \"Philippines\", \"Poland\", \"Portugal\", \"Romania\", \"Russia\", \"Saudi Arabia\", \"Serbia\", \"Slovak Republic\", \"Slovenia\", \"South Africa\", \"Spain\", \"Sri Lanka\", \"Sweden\", \"Switzerland\", \"Syria\", \"Taiwan\", \"Tajikistan\", \"Thailand\", \"Turkey\", \"Turkmenistan\", \"Ukraine\", \"United Kingdom\", \"United States\", \"Uruguay\", \"Uzbekistan\", \"Venezuela\", \"Albania\", \"Argentina\", \"Armenia\", \"Australia\", \"Austria\", \"Azerbaijan\", \"Belarus\", \"Belgium\", \"Bhutan\", \"Bolivia\", \"Brazil\", \"Bulgaria\", \"Canada\", \"Chile\", \"China\", \"Colombia\", \"Costa Rica\", \"Croatia\", \"Cuba\", \"Czech Rep.\", \"Denmark\", \"Dominican Rep.\", \"Ecuador\", \"Egypt\", \"El Salvador\", \"Estonia\", \"Ethiopia\", \"Finland\", \"France\", \"Georgia\", \"Germany\", \"Greece\", \"Guatemala\", \"Haiti\", \"Honduras\", \"Hungary\", \"India\", \"Indonesia\", \"Iran\", \"Iraq\", \"Ireland\", \"Israel\", \"Italy\", \"Japan\", \"Jordan\", \"Kazakhstan\", \"Korea, Dem. Rep.\", \"Korea, Rep.\", \"Kyrgyzstan\", \"Latvia\", \"Lebanon\", \"Liberia\", \"Libya\", \"Lithuania\", \"Macedonia, FYR\", \"Mexico\", \"Moldova\", \"Mongolia\", \"Montenegro\", \"Myanmar\", \"Nepal\", \"Netherlands\", \"New Zealand\", \"Nicaragua\", \"Norway\", \"Oman\", \"Pakistan\", \"Panama\", \"Paraguay\", \"Peru\", \"Philippines\", \"Poland\", \"Portugal\", \"Romania\", \"Russia\", \"Saudi Arabia\", \"Serbia\", \"Slovak Republic\", \"Slovenia\", \"South Africa\", \"Spain\", \"Sri Lanka\", \"Sweden\", \"Switzerland\", \"Syria\", \"Taiwan\", \"Tajikistan\", \"Thailand\", \"Turkey\", \"Turkmenistan\", \"Ukraine\", \"United Kingdom\", \"United States\", \"Uruguay\", \"Uzbekistan\", \"Venezuela\", \"Albania\", \"Argentina\", \"Armenia\", \"Australia\", \"Austria\", \"Azerbaijan\", \"Belarus\", \"Belgium\", \"Bhutan\", \"Bolivia\", \"Brazil\", \"Bulgaria\", \"Canada\", \"Chile\", \"China\", \"Colombia\", \"Costa Rica\", \"Croatia\", \"Cuba\", \"Czech Rep.\", \"Denmark\", \"Dominican Rep.\", \"Ecuador\", \"Egypt\", \"El Salvador\", \"Estonia\", \"Ethiopia\", \"Finland\", \"France\", \"Georgia\", \"Germany\", \"Greece\", \"Guatemala\", \"Haiti\", \"Honduras\", \"Hungary\", \"India\", \"Indonesia\", \"Iran\", \"Iraq\", \"Ireland\", \"Israel\", \"Italy\", \"Japan\", \"Jordan\", \"Kazakhstan\", \"Korea, Dem. Rep.\", \"Korea, Rep.\", \"Kyrgyzstan\", \"Latvia\", \"Lebanon\", \"Liberia\", \"Libya\", \"Lithuania\", \"Macedonia, FYR\", \"Mexico\", \"Moldova\", \"Mongolia\", \"Montenegro\", \"Myanmar\", \"Nepal\", \"Netherlands\", \"New Zealand\", \"Nicaragua\", \"Norway\", \"Oman\", \"Pakistan\", \"Panama\", \"Paraguay\", \"Peru\", \"Philippines\", \"Poland\", \"Portugal\", \"Romania\", \"Russia\", \"Saudi Arabia\", \"Serbia\", \"Slovak Republic\", \"Slovenia\", \"South Africa\", \"Spain\", \"Sri Lanka\", \"Sweden\", \"Switzerland\", \"Syria\", \"Taiwan\", \"Tajikistan\", \"Thailand\", \"Turkey\", \"Turkmenistan\", \"Ukraine\", \"United Kingdom\", \"United States\", \"Uruguay\", \"Uzbekistan\", \"Venezuela\", \"Albania\", \"Argentina\", \"Armenia\", \"Australia\", \"Austria\", \"Azerbaijan\", \"Belarus\", \"Belgium\", \"Bhutan\", \"Bolivia\", \"Brazil\", \"Bulgaria\", \"Canada\", \"Chile\", \"China\", \"Colombia\", \"Costa Rica\", \"Croatia\", \"Cuba\", \"Czech Rep.\", \"Denmark\", \"Dominican Rep.\", \"Ecuador\", \"Egypt\", \"El Salvador\", \"Estonia\", \"Ethiopia\", \"Finland\", \"France\", \"Georgia\", \"Germany\", \"Greece\", \"Guatemala\", \"Haiti\", \"Honduras\", \"Hungary\", \"India\", \"Indonesia\", \"Iran\", \"Iraq\", \"Ireland\", \"Israel\", \"Italy\", \"Japan\", \"Jordan\", \"Kazakhstan\", \"Korea, Dem. Rep.\", \"Korea, Rep.\", \"Kyrgyzstan\", \"Latvia\", \"Lebanon\", \"Liberia\", \"Libya\", \"Lithuania\", \"Macedonia, FYR\", \"Mexico\", \"Moldova\", \"Mongolia\", \"Montenegro\", \"Myanmar\", \"Nepal\", \"Netherlands\", \"New Zealand\", \"Nicaragua\", \"Norway\", \"Oman\", \"Pakistan\", \"Panama\", \"Paraguay\", \"Peru\", \"Philippines\", \"Poland\", \"Portugal\", \"Romania\", \"Russia\", \"Saudi Arabia\", \"Serbia\", \"Slovak Republic\", \"Slovenia\", \"South Africa\", \"Spain\", \"Sri Lanka\", \"Sweden\", \"Switzerland\", \"Syria\", \"Taiwan\", \"Tajikistan\", \"Thailand\", \"Turkey\", \"Turkmenistan\", \"Ukraine\", \"United Kingdom\", \"United States\", \"Uruguay\", \"Uzbekistan\", \"Venezuela\", \"Albania\", \"Argentina\", \"Armenia\", \"Australia\", \"Austria\", \"Azerbaijan\", \"Belarus\", \"Belgium\", \"Bhutan\", \"Bolivia\", \"Brazil\", \"Bulgaria\", \"Canada\", \"Chile\", \"China\", \"Colombia\", \"Costa Rica\", \"Croatia\", \"Cuba\", \"Czech Rep.\", \"Denmark\", \"Dominican Rep.\", \"Ecuador\", \"Egypt\", \"El Salvador\", \"Estonia\", \"Ethiopia\", \"Finland\", \"France\", \"Georgia\", \"Germany\", \"Greece\", \"Guatemala\", \"Haiti\", \"Honduras\", \"Hungary\", \"India\", \"Indonesia\", \"Iran\", \"Iraq\", \"Ireland\", \"Israel\", \"Italy\", \"Japan\", \"Jordan\", \"Kazakhstan\", \"Korea, Dem. Rep.\", \"Korea, Rep.\", \"Kyrgyzstan\", \"Latvia\", \"Lebanon\", \"Liberia\", \"Libya\", \"Lithuania\", \"Macedonia, FYR\", \"Mexico\", \"Moldova\", \"Mongolia\", \"Montenegro\", \"Myanmar\", \"Nepal\", \"Netherlands\", \"New Zealand\", \"Nicaragua\", \"Norway\", \"Oman\", \"Pakistan\", \"Panama\", \"Paraguay\", \"Peru\", \"Philippines\", \"Poland\", \"Portugal\", \"Romania\", \"Russia\", \"Saudi Arabia\", \"Serbia\", \"Slovak Republic\", \"Slovenia\", \"South Africa\", \"Spain\", \"Sri Lanka\", \"Sweden\", \"Switzerland\", \"Syria\", \"Taiwan\", \"Tajikistan\", \"Thailand\", \"Turkey\", \"Turkmenistan\", \"Ukraine\", \"United Kingdom\", \"United States\", \"Uruguay\", \"Uzbekistan\", \"Venezuela\", \"Albania\", \"Argentina\", \"Armenia\", \"Australia\", \"Austria\", \"Azerbaijan\", \"Belarus\", \"Belgium\", \"Bhutan\", \"Bolivia\", \"Brazil\", \"Bulgaria\", \"Canada\", \"Chile\", \"China\", \"Colombia\", \"Costa Rica\", \"Croatia\", \"Cuba\", \"Czech Rep.\", \"Denmark\", \"Dominican Rep.\", \"Ecuador\", \"Egypt\", \"El Salvador\", \"Estonia\", \"Ethiopia\", \"Finland\", \"France\", \"Georgia\", \"Germany\", \"Greece\", \"Guatemala\", \"Haiti\", \"Honduras\", \"Hungary\", \"India\", \"Indonesia\", \"Iran\", \"Iraq\", \"Ireland\", \"Israel\", \"Italy\", \"Japan\", \"Jordan\", \"Kazakhstan\", \"Korea, Dem. Rep.\", \"Korea, Rep.\", \"Kyrgyzstan\", \"Latvia\", \"Lebanon\", \"Liberia\", \"Libya\", \"Lithuania\", \"Macedonia, FYR\", \"Mexico\", \"Moldova\", \"Mongolia\", \"Montenegro\", \"Myanmar\", \"Nepal\", \"Netherlands\", \"New Zealand\", \"Nicaragua\", \"Norway\", \"Oman\", \"Pakistan\", \"Panama\", \"Paraguay\", \"Peru\", \"Philippines\", \"Poland\", \"Portugal\", \"Romania\", \"Russia\", \"Saudi Arabia\", \"Serbia\", \"Slovak Republic\", \"Slovenia\", \"South Africa\", \"Spain\", \"Sri Lanka\", \"Sweden\", \"Switzerland\", \"Syria\", \"Taiwan\", \"Tajikistan\", \"Thailand\", \"Turkey\", \"Turkmenistan\", \"Ukraine\", \"United Kingdom\", \"United States\", \"Uruguay\", \"Uzbekistan\", \"Venezuela\", \"Albania\", \"Argentina\", \"Armenia\", \"Australia\", \"Austria\", \"Azerbaijan\", \"Belarus\", \"Belgium\", \"Bhutan\", \"Bolivia\", \"Brazil\", \"Bulgaria\", \"Canada\", \"Chile\", \"China\", \"Colombia\", \"Costa Rica\", \"Croatia\", \"Cuba\", \"Czech Rep.\", \"Denmark\", \"Dominican Rep.\", \"Ecuador\", \"Egypt\", \"El Salvador\", \"Estonia\", \"Ethiopia\", \"Finland\", \"France\", \"Georgia\", \"Germany\", \"Greece\", \"Guatemala\", \"Haiti\", \"Honduras\", \"Hungary\", \"India\", \"Indonesia\", \"Iran\", \"Iraq\", \"Ireland\", \"Israel\", \"Italy\", \"Japan\", \"Jordan\", \"Kazakhstan\", \"Korea, Dem. Rep.\", \"Korea, Rep.\", \"Kyrgyzstan\", \"Latvia\", \"Lebanon\", \"Liberia\", \"Libya\", \"Lithuania\", \"Macedonia, FYR\", \"Mexico\", \"Moldova\", \"Mongolia\", \"Montenegro\", \"Myanmar\", \"Nepal\", \"Netherlands\", \"New Zealand\", \"Nicaragua\", \"Norway\", \"Oman\", \"Pakistan\", \"Panama\", \"Paraguay\", \"Peru\", \"Philippines\", \"Poland\", \"Portugal\", \"Romania\", \"Russia\", \"Saudi Arabia\", \"Serbia\", \"Slovak Republic\", \"Slovenia\", \"South Africa\", \"Spain\", \"Sri Lanka\", \"Sweden\", \"Switzerland\", \"Syria\", \"Taiwan\", \"Tajikistan\", \"Thailand\", \"Turkey\", \"Turkmenistan\", \"Ukraine\", \"United Kingdom\", \"United States\", \"Uruguay\", \"Uzbekistan\", \"Venezuela\", \"Albania\", \"Argentina\", \"Armenia\", \"Australia\", \"Austria\", \"Azerbaijan\", \"Belarus\", \"Belgium\", \"Bhutan\", \"Bolivia\", \"Brazil\", \"Bulgaria\", \"Canada\", \"Chile\", \"China\", \"Colombia\", \"Costa Rica\", \"Croatia\", \"Cuba\", \"Czech Rep.\", \"Denmark\", \"Dominican Rep.\", \"Ecuador\", \"Egypt\", \"El Salvador\", \"Estonia\", \"Ethiopia\", \"Finland\", \"France\", \"Georgia\", \"Germany\", \"Greece\", \"Guatemala\", \"Haiti\", \"Honduras\", \"Hungary\", \"India\", \"Indonesia\", \"Iran\", \"Iraq\", \"Ireland\", \"Israel\", \"Italy\", \"Japan\", \"Jordan\", \"Kazakhstan\", \"Korea, Dem. Rep.\", \"Korea, Rep.\", \"Kyrgyzstan\", \"Latvia\", \"Lebanon\", \"Liberia\", \"Libya\", \"Lithuania\", \"Macedonia, FYR\", \"Mexico\", \"Moldova\", \"Mongolia\", \"Montenegro\", \"Myanmar\", \"Nepal\", \"Netherlands\", \"New Zealand\", \"Nicaragua\", \"Norway\", \"Oman\", \"Pakistan\", \"Panama\", \"Paraguay\", \"Peru\", \"Philippines\", \"Poland\", \"Portugal\", \"Romania\", \"Russia\", \"Saudi Arabia\", \"Serbia\", \"Slovak Republic\", \"Slovenia\", \"South Africa\", \"Spain\", \"Sri Lanka\", \"Sweden\", \"Switzerland\", \"Syria\", \"Taiwan\", \"Tajikistan\", \"Thailand\", \"Turkey\", \"Turkmenistan\", \"Ukraine\", \"United Kingdom\", \"United States\", \"Uruguay\", \"Uzbekistan\", \"Venezuela\", \"Albania\", \"Argentina\", \"Armenia\", \"Australia\", \"Austria\", \"Azerbaijan\", \"Belarus\", \"Belgium\", \"Bhutan\", \"Bolivia\", \"Brazil\", \"Bulgaria\", \"Canada\", \"Chile\", \"China\", \"Colombia\", \"Costa Rica\", \"Croatia\", \"Cuba\", \"Czech Rep.\", \"Denmark\", \"Dominican Rep.\", \"Ecuador\", \"Egypt\", \"El Salvador\", \"Estonia\", \"Ethiopia\", \"Finland\", \"France\", \"Georgia\", \"Germany\", \"Greece\", \"Guatemala\", \"Haiti\", \"Honduras\", \"Hungary\", \"India\", \"Indonesia\", \"Iran\", \"Iraq\", \"Ireland\", \"Israel\", \"Italy\", \"Japan\", \"Jordan\", \"Kazakhstan\", \"Korea, Dem. Rep.\", \"Korea, Rep.\", \"Kyrgyzstan\", \"Latvia\", \"Lebanon\", \"Liberia\", \"Libya\", \"Lithuania\", \"Macedonia, FYR\", \"Mexico\", \"Moldova\", \"Mongolia\", \"Montenegro\", \"Myanmar\", \"Nepal\", \"Netherlands\", \"New Zealand\", \"Nicaragua\", \"Norway\", \"Oman\", \"Pakistan\", \"Panama\", \"Paraguay\", \"Peru\", \"Philippines\", \"Poland\", \"Portugal\", \"Romania\", \"Russia\", \"Saudi Arabia\", \"Serbia\", \"Slovak Republic\", \"Slovenia\", \"South Africa\", \"Spain\", \"Sri Lanka\", \"Sweden\", \"Switzerland\", \"Syria\", \"Taiwan\", \"Tajikistan\", \"Thailand\", \"Turkey\", \"Turkmenistan\", \"Ukraine\", \"United Kingdom\", \"United States\", \"Uruguay\", \"Uzbekistan\", \"Venezuela\"], \"xaxis\": \"x\", \"y\": [-9, -9, -9, 10, 10, -9, -9, 10, -10, -4, 5, -7, 10, 2, -8, -5, 10, -7, 0, -7, 10, -9, 2, -7, -6, -9, -9, 10, 10, -9, 10, 4, 2, -5, -3, -7, 9, 0, -1, -4, 10, 10, 10, 10, -1, -9, -7, -4, -9, -9, 2, -6, -7, -9, -7, -6, -9, -7, -7, 8, -7, 10, 10, -8, 10, -6, 5, -1, -5, -2, 5, -7, -9, -7, -9, -10, -7, -7, -7, 4, -7, 7, 10, 10, -7, -8, -9, -6, 7, -9, -9, 10, 10, 8, -9, -3, -9, -1, -7, 10, 10, -7, -7, 10, -10, -3, 5, -7, 10, 5, -8, 7, 10, -7, -9, -7, 10, -9, 2, -7, -5, -7, -9, 10, 10, -7, 10, 4, -6, -5, -1, -7, 9, -1, -10, -4, 10, 10, 10, 10, -9, -7, -8, -4, -7, -7, 2, -6, -7, -7, -7, -6, -7, -7, -7, 8, -4, 10, 10, -8, 10, -10, 8, 4, -9, 5, 5, -7, -9, -7, -7, -10, -7, -7, -7, 4, -7, 7, 10, 10, 7, -8, -7, -3, 4, -7, -7, 10, 10, 8, -7, -3, -9, -1, -7, 10, 10, -7, -7, 10, -10, -3, 5, -7, 10, 5, -8, 7, 10, -7, -7, -7, 10, 8, -1, -7, -3, -7, -9, 10, 5, -7, 10, 4, -5, -9, -1, -7, 9, -5, -10, -5, 10, 10, 10, 10, -9, -7, -8, -7, -7, -7, 2, -6, -7, -7, -7, -6, -7, -7, -7, -6, -9, 10, 10, -8, 10, -10, 1, 4, -9, -6, 5, -7, -9, -7, -7, -10, -7, -7, -7, 4, -7, 7, 10, 10, -2, -8, -7, -7, 9, -7, -7, 10, 10, 8, -7, 6, -9, -9, -7, 10, 10, -7, -7, 10, -10, -4, -9, -7, 10, 6, -9, 7, 10, -7, -7, -7, 10, -3, -1, -7, 0, -7, -9, 10, 5, -7, 10, -7, 3, -9, -1, -7, 9, -7, -10, -5, 10, 9, 10, 10, -9, -7, -9, 3, -7, -7, 2, -6, -7, -7, -7, -6, -7, -7, -7, -7, -9, 10, 10, -8, 10, -10, 1, 4, -8, 5, 5, -7, -9, -7, -7, -10, -7, -7, -7, 4, -7, 7, 10, 10, -7, -8, -7, -7, 8, -7, -7, 10, 10, 8, -7, 6, -9, -9, -7, 10, 10, -7, -7, 10, -10, -7, -9, -7, 10, 6, -8, 7, 10, -7, -7, -7, 10, -3, -5, -7, -1, -7, -9, 10, 8, -7, 10, -7, 1, -10, -1, -7, 9, -7, -10, -7, 10, 9, 10, 10, -9, -7, -9, -9, -7, -7, 5, -6, -7, -7, -7, -6, -7, -7, -7, -7, -9, 10, 10, -8, 10, -10, 4, -7, -8, -7, -9, -7, -9, -7, -7, -10, -7, -7, -7, 4, -7, 8, 10, 10, -9, -8, -7, -7, -2, -7, -7, 10, 10, -3, -7, 9, -9, -9, -7, 10, 10, -7, -7, 10, -10, -7, -4, -7, 10, -7, -7, 8, 10, -7, -7, -7, 10, -3, -5, -6, -6, -7, -7, 10, 8, -7, 10, 8, -3, -9, -1, -7, 8, -7, -10, -7, 10, 9, 10, 10, -10, -7, -9, -8, -7, -7, 0, -6, -7, -7, -7, -3, -7, -7, -7, -6, -9, 10, 10, -8, 10, -10, -7, -7, -8, -7, -9, -7, 9, -8, -7, -10, -7, -7, -7, 4, 5, 8, 10, 10, -9, -7, -7, -2, 9, -7, -7, 10, 10, -8, -7, 9, -9, -8, -7, 10, 10, -7, -7, 10, -10, 8, -3, -7, 10, -7, -7, 8, 10, -5, -7, -7, 10, 6, 9, -6, 2, -7, -7, 10, 8, -7, 10, 8, -7, -9, 6, -7, 8, -7, -6, -9, 10, 9, 10, 10, -10, -7, -9, -5, -7, -7, 0, -7, -7, -7, -5, -3, -7, -7, -5, -8, -2, 10, 10, -5, 10, -10, -7, -5, -8, 7, -7, -8, 10, -8, -7, -10, -5, -7, -5, 4, 10, 5, 10, 10, -9, -7, -7, 2, -5, -7, -7, 10, 10, -7, -7, 9, -9, 8, -7, 10, 10, -7, -7, 10, -10, 9, 7, -7, 10, -6, -7, 8, 10, -5, -7, -7, 10, 6, 8, -6, 6, -7, -8, 10, 9, -7, 10, 10, 3, -8, 5, -7, 8, -7, -6, -9, 10, 9, 10, 10, -9, -7, -9, 1, -7, -7, 0, -6, -7, -7, -5, -3, -7, -7, -5, -8, -2, 10, 10, -1, 10, -10, -4, -8, -8, 7, 8, -6, 10, -8, -7, -10, -5, -7, -5, 4, 10, 5, 10, 10, -9, -1, -7, 2, 7, -7, -7, 10, 10, 9, -7, 9, 5, 7, 7, 10, 10, 1, 7, 10, -10, 9, 8, 8, 10, 8, -7, 9, 10, -3, -7, 8, 10, 6, 9, -6, 7, 6, 0, 10, 9, 4, 10, 10, 3, -7, 6, 10, 8, -7, -6, -9, 10, 9, 10, 10, -2, -3, -9, 6, -3, 8, 0, 0, -7, 10, 6, 0, 5, 9, -5, -7, 5, 10, 10, 6, 10, -9, 8, 8, 7, -3, 8, 8, 10, 5, 5, -10, -5, 8, 10, 6, 10, 5, 10, 10, -9, 7, -6, 9, 9, -9, 6, 10, 10, 10, -9, 8], \"yaxis\": \"y\"}],\n",
       "                        {\"height\": 600, \"legend\": {\"tracegroupgap\": 0}, \"margin\": {\"t\": 60}, \"template\": {\"data\": {\"bar\": [{\"error_x\": {\"color\": \"#2a3f5f\"}, \"error_y\": {\"color\": \"#2a3f5f\"}, \"marker\": {\"line\": {\"color\": \"#E5ECF6\", \"width\": 0.5}}, \"type\": \"bar\"}], \"barpolar\": [{\"marker\": {\"line\": {\"color\": \"#E5ECF6\", \"width\": 0.5}}, \"type\": \"barpolar\"}], \"carpet\": [{\"aaxis\": {\"endlinecolor\": \"#2a3f5f\", \"gridcolor\": \"white\", \"linecolor\": \"white\", \"minorgridcolor\": \"white\", \"startlinecolor\": \"#2a3f5f\"}, \"baxis\": {\"endlinecolor\": \"#2a3f5f\", \"gridcolor\": \"white\", \"linecolor\": \"white\", \"minorgridcolor\": \"white\", \"startlinecolor\": \"#2a3f5f\"}, \"type\": \"carpet\"}], \"choropleth\": [{\"colorbar\": {\"outlinewidth\": 0, \"ticks\": \"\"}, \"type\": \"choropleth\"}], \"contour\": [{\"colorbar\": {\"outlinewidth\": 0, \"ticks\": \"\"}, \"colorscale\": [[0.0, \"#0d0887\"], [0.1111111111111111, \"#46039f\"], [0.2222222222222222, \"#7201a8\"], [0.3333333333333333, \"#9c179e\"], [0.4444444444444444, \"#bd3786\"], [0.5555555555555556, \"#d8576b\"], [0.6666666666666666, \"#ed7953\"], [0.7777777777777778, \"#fb9f3a\"], [0.8888888888888888, \"#fdca26\"], [1.0, \"#f0f921\"]], \"type\": \"contour\"}], \"contourcarpet\": [{\"colorbar\": {\"outlinewidth\": 0, \"ticks\": \"\"}, \"type\": \"contourcarpet\"}], \"heatmap\": [{\"colorbar\": {\"outlinewidth\": 0, \"ticks\": \"\"}, \"colorscale\": [[0.0, \"#0d0887\"], [0.1111111111111111, \"#46039f\"], [0.2222222222222222, \"#7201a8\"], [0.3333333333333333, \"#9c179e\"], [0.4444444444444444, \"#bd3786\"], [0.5555555555555556, \"#d8576b\"], [0.6666666666666666, \"#ed7953\"], [0.7777777777777778, \"#fb9f3a\"], [0.8888888888888888, \"#fdca26\"], [1.0, \"#f0f921\"]], \"type\": \"heatmap\"}], \"heatmapgl\": [{\"colorbar\": {\"outlinewidth\": 0, \"ticks\": \"\"}, \"colorscale\": [[0.0, \"#0d0887\"], [0.1111111111111111, \"#46039f\"], [0.2222222222222222, \"#7201a8\"], [0.3333333333333333, \"#9c179e\"], [0.4444444444444444, \"#bd3786\"], [0.5555555555555556, \"#d8576b\"], [0.6666666666666666, \"#ed7953\"], [0.7777777777777778, \"#fb9f3a\"], [0.8888888888888888, \"#fdca26\"], [1.0, \"#f0f921\"]], \"type\": \"heatmapgl\"}], \"histogram\": [{\"marker\": {\"colorbar\": {\"outlinewidth\": 0, \"ticks\": \"\"}}, \"type\": \"histogram\"}], \"histogram2d\": [{\"colorbar\": {\"outlinewidth\": 0, \"ticks\": \"\"}, \"colorscale\": [[0.0, \"#0d0887\"], [0.1111111111111111, \"#46039f\"], [0.2222222222222222, \"#7201a8\"], [0.3333333333333333, \"#9c179e\"], [0.4444444444444444, \"#bd3786\"], [0.5555555555555556, \"#d8576b\"], [0.6666666666666666, \"#ed7953\"], [0.7777777777777778, \"#fb9f3a\"], [0.8888888888888888, \"#fdca26\"], [1.0, \"#f0f921\"]], \"type\": \"histogram2d\"}], \"histogram2dcontour\": [{\"colorbar\": {\"outlinewidth\": 0, \"ticks\": \"\"}, \"colorscale\": [[0.0, \"#0d0887\"], [0.1111111111111111, \"#46039f\"], [0.2222222222222222, \"#7201a8\"], [0.3333333333333333, \"#9c179e\"], [0.4444444444444444, \"#bd3786\"], [0.5555555555555556, \"#d8576b\"], [0.6666666666666666, \"#ed7953\"], [0.7777777777777778, \"#fb9f3a\"], [0.8888888888888888, \"#fdca26\"], [1.0, \"#f0f921\"]], \"type\": \"histogram2dcontour\"}], \"mesh3d\": [{\"colorbar\": {\"outlinewidth\": 0, \"ticks\": \"\"}, \"type\": \"mesh3d\"}], \"parcoords\": [{\"line\": {\"colorbar\": {\"outlinewidth\": 0, \"ticks\": \"\"}}, \"type\": \"parcoords\"}], \"pie\": [{\"automargin\": true, \"type\": \"pie\"}], \"scatter\": [{\"marker\": {\"colorbar\": {\"outlinewidth\": 0, \"ticks\": \"\"}}, \"type\": \"scatter\"}], \"scatter3d\": [{\"line\": {\"colorbar\": {\"outlinewidth\": 0, \"ticks\": \"\"}}, \"marker\": {\"colorbar\": {\"outlinewidth\": 0, \"ticks\": \"\"}}, \"type\": \"scatter3d\"}], \"scattercarpet\": [{\"marker\": {\"colorbar\": {\"outlinewidth\": 0, \"ticks\": \"\"}}, \"type\": \"scattercarpet\"}], \"scattergeo\": [{\"marker\": {\"colorbar\": {\"outlinewidth\": 0, \"ticks\": \"\"}}, \"type\": \"scattergeo\"}], \"scattergl\": [{\"marker\": {\"colorbar\": {\"outlinewidth\": 0, \"ticks\": \"\"}}, \"type\": \"scattergl\"}], \"scattermapbox\": [{\"marker\": {\"colorbar\": {\"outlinewidth\": 0, \"ticks\": \"\"}}, \"type\": \"scattermapbox\"}], \"scatterpolar\": [{\"marker\": {\"colorbar\": {\"outlinewidth\": 0, \"ticks\": \"\"}}, \"type\": \"scatterpolar\"}], \"scatterpolargl\": [{\"marker\": {\"colorbar\": {\"outlinewidth\": 0, \"ticks\": \"\"}}, \"type\": \"scatterpolargl\"}], \"scatterternary\": [{\"marker\": {\"colorbar\": {\"outlinewidth\": 0, \"ticks\": \"\"}}, \"type\": \"scatterternary\"}], \"surface\": [{\"colorbar\": {\"outlinewidth\": 0, \"ticks\": \"\"}, \"colorscale\": [[0.0, \"#0d0887\"], [0.1111111111111111, \"#46039f\"], [0.2222222222222222, \"#7201a8\"], [0.3333333333333333, \"#9c179e\"], [0.4444444444444444, \"#bd3786\"], [0.5555555555555556, \"#d8576b\"], [0.6666666666666666, \"#ed7953\"], [0.7777777777777778, \"#fb9f3a\"], [0.8888888888888888, \"#fdca26\"], [1.0, \"#f0f921\"]], \"type\": \"surface\"}], \"table\": [{\"cells\": {\"fill\": {\"color\": \"#EBF0F8\"}, \"line\": {\"color\": \"white\"}}, \"header\": {\"fill\": {\"color\": \"#C8D4E3\"}, \"line\": {\"color\": \"white\"}}, \"type\": \"table\"}]}, \"layout\": {\"annotationdefaults\": {\"arrowcolor\": \"#2a3f5f\", \"arrowhead\": 0, \"arrowwidth\": 1}, \"coloraxis\": {\"colorbar\": {\"outlinewidth\": 0, \"ticks\": \"\"}}, \"colorscale\": {\"diverging\": [[0, \"#8e0152\"], [0.1, \"#c51b7d\"], [0.2, \"#de77ae\"], [0.3, \"#f1b6da\"], [0.4, \"#fde0ef\"], [0.5, \"#f7f7f7\"], [0.6, \"#e6f5d0\"], [0.7, \"#b8e186\"], [0.8, \"#7fbc41\"], [0.9, \"#4d9221\"], [1, \"#276419\"]], \"sequential\": [[0.0, \"#0d0887\"], [0.1111111111111111, \"#46039f\"], [0.2222222222222222, \"#7201a8\"], [0.3333333333333333, \"#9c179e\"], [0.4444444444444444, \"#bd3786\"], [0.5555555555555556, \"#d8576b\"], [0.6666666666666666, \"#ed7953\"], [0.7777777777777778, \"#fb9f3a\"], [0.8888888888888888, \"#fdca26\"], [1.0, \"#f0f921\"]], \"sequentialminus\": [[0.0, \"#0d0887\"], [0.1111111111111111, \"#46039f\"], [0.2222222222222222, \"#7201a8\"], [0.3333333333333333, \"#9c179e\"], [0.4444444444444444, \"#bd3786\"], [0.5555555555555556, \"#d8576b\"], [0.6666666666666666, \"#ed7953\"], [0.7777777777777778, \"#fb9f3a\"], [0.8888888888888888, \"#fdca26\"], [1.0, \"#f0f921\"]]}, \"colorway\": [\"#636efa\", \"#EF553B\", \"#00cc96\", \"#ab63fa\", \"#FFA15A\", \"#19d3f3\", \"#FF6692\", \"#B6E880\", \"#FF97FF\", \"#FECB52\"], \"font\": {\"color\": \"#2a3f5f\"}, \"geo\": {\"bgcolor\": \"white\", \"lakecolor\": \"white\", \"landcolor\": \"#E5ECF6\", \"showlakes\": true, \"showland\": true, \"subunitcolor\": \"white\"}, \"hoverlabel\": {\"align\": \"left\"}, \"hovermode\": \"closest\", \"mapbox\": {\"style\": \"light\"}, \"paper_bgcolor\": \"white\", \"plot_bgcolor\": \"#E5ECF6\", \"polar\": {\"angularaxis\": {\"gridcolor\": \"white\", \"linecolor\": \"white\", \"ticks\": \"\"}, \"bgcolor\": \"#E5ECF6\", \"radialaxis\": {\"gridcolor\": \"white\", \"linecolor\": \"white\", \"ticks\": \"\"}}, \"scene\": {\"xaxis\": {\"backgroundcolor\": \"#E5ECF6\", \"gridcolor\": \"white\", \"gridwidth\": 2, \"linecolor\": \"white\", \"showbackground\": true, \"ticks\": \"\", \"zerolinecolor\": \"white\"}, \"yaxis\": {\"backgroundcolor\": \"#E5ECF6\", \"gridcolor\": \"white\", \"gridwidth\": 2, \"linecolor\": \"white\", \"showbackground\": true, \"ticks\": \"\", \"zerolinecolor\": \"white\"}, \"zaxis\": {\"backgroundcolor\": \"#E5ECF6\", \"gridcolor\": \"white\", \"gridwidth\": 2, \"linecolor\": \"white\", \"showbackground\": true, \"ticks\": \"\", \"zerolinecolor\": \"white\"}}, \"shapedefaults\": {\"line\": {\"color\": \"#2a3f5f\"}}, \"ternary\": {\"aaxis\": {\"gridcolor\": \"white\", \"linecolor\": \"white\", \"ticks\": \"\"}, \"baxis\": {\"gridcolor\": \"white\", \"linecolor\": \"white\", \"ticks\": \"\"}, \"bgcolor\": \"#E5ECF6\", \"caxis\": {\"gridcolor\": \"white\", \"linecolor\": \"white\", \"ticks\": \"\"}}, \"title\": {\"x\": 0.05}, \"xaxis\": {\"automargin\": true, \"gridcolor\": \"white\", \"linecolor\": \"white\", \"ticks\": \"\", \"title\": {\"standoff\": 15}, \"zerolinecolor\": \"white\", \"zerolinewidth\": 2}, \"yaxis\": {\"automargin\": true, \"gridcolor\": \"white\", \"linecolor\": \"white\", \"ticks\": \"\", \"title\": {\"standoff\": 15}, \"zerolinecolor\": \"white\", \"zerolinewidth\": 2}}}, \"xaxis\": {\"anchor\": \"y\", \"domain\": [0.0, 1.0], \"title\": {\"text\": \"country\"}}, \"yaxis\": {\"anchor\": \"x\", \"domain\": [0.0, 1.0], \"title\": {\"text\": \"lvl_of_democracy\"}}},\n",
       "                        {\"responsive\": true}\n",
       "                    ).then(function(){\n",
       "                            \n",
       "var gd = document.getElementById('e43d4231-0e1a-40f8-94e5-02fdc43cd55a');\n",
       "var x = new MutationObserver(function (mutations, observer) {{\n",
       "        var display = window.getComputedStyle(gd).display;\n",
       "        if (!display || display === 'none') {{\n",
       "            console.log([gd, 'removed!']);\n",
       "            Plotly.purge(gd);\n",
       "            observer.disconnect();\n",
       "        }}\n",
       "}});\n",
       "\n",
       "// Listen for the removal of the full notebook cells\n",
       "var notebookContainer = gd.closest('#notebook-container');\n",
       "if (notebookContainer) {{\n",
       "    x.observe(notebookContainer, {childList: true});\n",
       "}}\n",
       "\n",
       "// Listen for the clearing of the current output cell\n",
       "var outputEl = gd.closest('.output');\n",
       "if (outputEl) {{\n",
       "    x.observe(outputEl, {childList: true});\n",
       "}}\n",
       "\n",
       "                        })\n",
       "                };\n",
       "                });\n",
       "            </script>\n",
       "        </div>"
      ]
     },
     "metadata": {},
     "output_type": "display_data"
    }
   ],
   "source": [
    "px.scatter(data, x=\"country\", y=\"lvl_of_democracy\").show()"
   ]
  },
  {
   "cell_type": "code",
   "execution_count": 16,
   "metadata": {},
   "outputs": [
    {
     "data": {
      "application/vnd.plotly.v1+json": {
       "config": {
        "plotlyServerURL": "https://plot.ly"
       },
       "data": [
        {
         "alignmentgroup": "True",
         "bingroup": "x",
         "hoverlabel": {
          "namelength": 0
         },
         "hovertemplate": "lvl_of_democracy=%{x}<br>count=%{y}",
         "legendgroup": "",
         "marker": {
          "color": "#636efa"
         },
         "name": "",
         "offsetgroup": "",
         "orientation": "v",
         "showlegend": false,
         "type": "histogram",
         "x": [
          -9,
          -9,
          -9,
          10,
          10,
          -9,
          -9,
          10,
          -10,
          -4,
          5,
          -7,
          10,
          2,
          -8,
          -5,
          10,
          -7,
          0,
          -7,
          10,
          -9,
          2,
          -7,
          -6,
          -9,
          -9,
          10,
          10,
          -9,
          10,
          4,
          2,
          -5,
          -3,
          -7,
          9,
          0,
          -1,
          -4,
          10,
          10,
          10,
          10,
          -1,
          -9,
          -7,
          -4,
          -9,
          -9,
          2,
          -6,
          -7,
          -9,
          -7,
          -6,
          -9,
          -7,
          -7,
          8,
          -7,
          10,
          10,
          -8,
          10,
          -6,
          5,
          -1,
          -5,
          -2,
          5,
          -7,
          -9,
          -7,
          -9,
          -10,
          -7,
          -7,
          -7,
          4,
          -7,
          7,
          10,
          10,
          -7,
          -8,
          -9,
          -6,
          7,
          -9,
          -9,
          10,
          10,
          8,
          -9,
          -3,
          -9,
          -1,
          -7,
          10,
          10,
          -7,
          -7,
          10,
          -10,
          -3,
          5,
          -7,
          10,
          5,
          -8,
          7,
          10,
          -7,
          -9,
          -7,
          10,
          -9,
          2,
          -7,
          -5,
          -7,
          -9,
          10,
          10,
          -7,
          10,
          4,
          -6,
          -5,
          -1,
          -7,
          9,
          -1,
          -10,
          -4,
          10,
          10,
          10,
          10,
          -9,
          -7,
          -8,
          -4,
          -7,
          -7,
          2,
          -6,
          -7,
          -7,
          -7,
          -6,
          -7,
          -7,
          -7,
          8,
          -4,
          10,
          10,
          -8,
          10,
          -10,
          8,
          4,
          -9,
          5,
          5,
          -7,
          -9,
          -7,
          -7,
          -10,
          -7,
          -7,
          -7,
          4,
          -7,
          7,
          10,
          10,
          7,
          -8,
          -7,
          -3,
          4,
          -7,
          -7,
          10,
          10,
          8,
          -7,
          -3,
          -9,
          -1,
          -7,
          10,
          10,
          -7,
          -7,
          10,
          -10,
          -3,
          5,
          -7,
          10,
          5,
          -8,
          7,
          10,
          -7,
          -7,
          -7,
          10,
          8,
          -1,
          -7,
          -3,
          -7,
          -9,
          10,
          5,
          -7,
          10,
          4,
          -5,
          -9,
          -1,
          -7,
          9,
          -5,
          -10,
          -5,
          10,
          10,
          10,
          10,
          -9,
          -7,
          -8,
          -7,
          -7,
          -7,
          2,
          -6,
          -7,
          -7,
          -7,
          -6,
          -7,
          -7,
          -7,
          -6,
          -9,
          10,
          10,
          -8,
          10,
          -10,
          1,
          4,
          -9,
          -6,
          5,
          -7,
          -9,
          -7,
          -7,
          -10,
          -7,
          -7,
          -7,
          4,
          -7,
          7,
          10,
          10,
          -2,
          -8,
          -7,
          -7,
          9,
          -7,
          -7,
          10,
          10,
          8,
          -7,
          6,
          -9,
          -9,
          -7,
          10,
          10,
          -7,
          -7,
          10,
          -10,
          -4,
          -9,
          -7,
          10,
          6,
          -9,
          7,
          10,
          -7,
          -7,
          -7,
          10,
          -3,
          -1,
          -7,
          0,
          -7,
          -9,
          10,
          5,
          -7,
          10,
          -7,
          3,
          -9,
          -1,
          -7,
          9,
          -7,
          -10,
          -5,
          10,
          9,
          10,
          10,
          -9,
          -7,
          -9,
          3,
          -7,
          -7,
          2,
          -6,
          -7,
          -7,
          -7,
          -6,
          -7,
          -7,
          -7,
          -7,
          -9,
          10,
          10,
          -8,
          10,
          -10,
          1,
          4,
          -8,
          5,
          5,
          -7,
          -9,
          -7,
          -7,
          -10,
          -7,
          -7,
          -7,
          4,
          -7,
          7,
          10,
          10,
          -7,
          -8,
          -7,
          -7,
          8,
          -7,
          -7,
          10,
          10,
          8,
          -7,
          6,
          -9,
          -9,
          -7,
          10,
          10,
          -7,
          -7,
          10,
          -10,
          -7,
          -9,
          -7,
          10,
          6,
          -8,
          7,
          10,
          -7,
          -7,
          -7,
          10,
          -3,
          -5,
          -7,
          -1,
          -7,
          -9,
          10,
          8,
          -7,
          10,
          -7,
          1,
          -10,
          -1,
          -7,
          9,
          -7,
          -10,
          -7,
          10,
          9,
          10,
          10,
          -9,
          -7,
          -9,
          -9,
          -7,
          -7,
          5,
          -6,
          -7,
          -7,
          -7,
          -6,
          -7,
          -7,
          -7,
          -7,
          -9,
          10,
          10,
          -8,
          10,
          -10,
          4,
          -7,
          -8,
          -7,
          -9,
          -7,
          -9,
          -7,
          -7,
          -10,
          -7,
          -7,
          -7,
          4,
          -7,
          8,
          10,
          10,
          -9,
          -8,
          -7,
          -7,
          -2,
          -7,
          -7,
          10,
          10,
          -3,
          -7,
          9,
          -9,
          -9,
          -7,
          10,
          10,
          -7,
          -7,
          10,
          -10,
          -7,
          -4,
          -7,
          10,
          -7,
          -7,
          8,
          10,
          -7,
          -7,
          -7,
          10,
          -3,
          -5,
          -6,
          -6,
          -7,
          -7,
          10,
          8,
          -7,
          10,
          8,
          -3,
          -9,
          -1,
          -7,
          8,
          -7,
          -10,
          -7,
          10,
          9,
          10,
          10,
          -10,
          -7,
          -9,
          -8,
          -7,
          -7,
          0,
          -6,
          -7,
          -7,
          -7,
          -3,
          -7,
          -7,
          -7,
          -6,
          -9,
          10,
          10,
          -8,
          10,
          -10,
          -7,
          -7,
          -8,
          -7,
          -9,
          -7,
          9,
          -8,
          -7,
          -10,
          -7,
          -7,
          -7,
          4,
          5,
          8,
          10,
          10,
          -9,
          -7,
          -7,
          -2,
          9,
          -7,
          -7,
          10,
          10,
          -8,
          -7,
          9,
          -9,
          -8,
          -7,
          10,
          10,
          -7,
          -7,
          10,
          -10,
          8,
          -3,
          -7,
          10,
          -7,
          -7,
          8,
          10,
          -5,
          -7,
          -7,
          10,
          6,
          9,
          -6,
          2,
          -7,
          -7,
          10,
          8,
          -7,
          10,
          8,
          -7,
          -9,
          6,
          -7,
          8,
          -7,
          -6,
          -9,
          10,
          9,
          10,
          10,
          -10,
          -7,
          -9,
          -5,
          -7,
          -7,
          0,
          -7,
          -7,
          -7,
          -5,
          -3,
          -7,
          -7,
          -5,
          -8,
          -2,
          10,
          10,
          -5,
          10,
          -10,
          -7,
          -5,
          -8,
          7,
          -7,
          -8,
          10,
          -8,
          -7,
          -10,
          -5,
          -7,
          -5,
          4,
          10,
          5,
          10,
          10,
          -9,
          -7,
          -7,
          2,
          -5,
          -7,
          -7,
          10,
          10,
          -7,
          -7,
          9,
          -9,
          8,
          -7,
          10,
          10,
          -7,
          -7,
          10,
          -10,
          9,
          7,
          -7,
          10,
          -6,
          -7,
          8,
          10,
          -5,
          -7,
          -7,
          10,
          6,
          8,
          -6,
          6,
          -7,
          -8,
          10,
          9,
          -7,
          10,
          10,
          3,
          -8,
          5,
          -7,
          8,
          -7,
          -6,
          -9,
          10,
          9,
          10,
          10,
          -9,
          -7,
          -9,
          1,
          -7,
          -7,
          0,
          -6,
          -7,
          -7,
          -5,
          -3,
          -7,
          -7,
          -5,
          -8,
          -2,
          10,
          10,
          -1,
          10,
          -10,
          -4,
          -8,
          -8,
          7,
          8,
          -6,
          10,
          -8,
          -7,
          -10,
          -5,
          -7,
          -5,
          4,
          10,
          5,
          10,
          10,
          -9,
          -1,
          -7,
          2,
          7,
          -7,
          -7,
          10,
          10,
          9,
          -7,
          9,
          5,
          7,
          7,
          10,
          10,
          1,
          7,
          10,
          -10,
          9,
          8,
          8,
          10,
          8,
          -7,
          9,
          10,
          -3,
          -7,
          8,
          10,
          6,
          9,
          -6,
          7,
          6,
          0,
          10,
          9,
          4,
          10,
          10,
          3,
          -7,
          6,
          10,
          8,
          -7,
          -6,
          -9,
          10,
          9,
          10,
          10,
          -2,
          -3,
          -9,
          6,
          -3,
          8,
          0,
          0,
          -7,
          10,
          6,
          0,
          5,
          9,
          -5,
          -7,
          5,
          10,
          10,
          6,
          10,
          -9,
          8,
          8,
          7,
          -3,
          8,
          8,
          10,
          5,
          5,
          -10,
          -5,
          8,
          10,
          6,
          10,
          5,
          10,
          10,
          -9,
          7,
          -6,
          9,
          9,
          -9,
          6,
          10,
          10,
          10,
          -9,
          8
         ],
         "xaxis": "x",
         "yaxis": "y"
        }
       ],
       "layout": {
        "barmode": "relative",
        "height": 600,
        "legend": {
         "tracegroupgap": 0
        },
        "margin": {
         "t": 60
        },
        "template": {
         "data": {
          "bar": [
           {
            "error_x": {
             "color": "#2a3f5f"
            },
            "error_y": {
             "color": "#2a3f5f"
            },
            "marker": {
             "line": {
              "color": "#E5ECF6",
              "width": 0.5
             }
            },
            "type": "bar"
           }
          ],
          "barpolar": [
           {
            "marker": {
             "line": {
              "color": "#E5ECF6",
              "width": 0.5
             }
            },
            "type": "barpolar"
           }
          ],
          "carpet": [
           {
            "aaxis": {
             "endlinecolor": "#2a3f5f",
             "gridcolor": "white",
             "linecolor": "white",
             "minorgridcolor": "white",
             "startlinecolor": "#2a3f5f"
            },
            "baxis": {
             "endlinecolor": "#2a3f5f",
             "gridcolor": "white",
             "linecolor": "white",
             "minorgridcolor": "white",
             "startlinecolor": "#2a3f5f"
            },
            "type": "carpet"
           }
          ],
          "choropleth": [
           {
            "colorbar": {
             "outlinewidth": 0,
             "ticks": ""
            },
            "type": "choropleth"
           }
          ],
          "contour": [
           {
            "colorbar": {
             "outlinewidth": 0,
             "ticks": ""
            },
            "colorscale": [
             [
              0,
              "#0d0887"
             ],
             [
              0.1111111111111111,
              "#46039f"
             ],
             [
              0.2222222222222222,
              "#7201a8"
             ],
             [
              0.3333333333333333,
              "#9c179e"
             ],
             [
              0.4444444444444444,
              "#bd3786"
             ],
             [
              0.5555555555555556,
              "#d8576b"
             ],
             [
              0.6666666666666666,
              "#ed7953"
             ],
             [
              0.7777777777777778,
              "#fb9f3a"
             ],
             [
              0.8888888888888888,
              "#fdca26"
             ],
             [
              1,
              "#f0f921"
             ]
            ],
            "type": "contour"
           }
          ],
          "contourcarpet": [
           {
            "colorbar": {
             "outlinewidth": 0,
             "ticks": ""
            },
            "type": "contourcarpet"
           }
          ],
          "heatmap": [
           {
            "colorbar": {
             "outlinewidth": 0,
             "ticks": ""
            },
            "colorscale": [
             [
              0,
              "#0d0887"
             ],
             [
              0.1111111111111111,
              "#46039f"
             ],
             [
              0.2222222222222222,
              "#7201a8"
             ],
             [
              0.3333333333333333,
              "#9c179e"
             ],
             [
              0.4444444444444444,
              "#bd3786"
             ],
             [
              0.5555555555555556,
              "#d8576b"
             ],
             [
              0.6666666666666666,
              "#ed7953"
             ],
             [
              0.7777777777777778,
              "#fb9f3a"
             ],
             [
              0.8888888888888888,
              "#fdca26"
             ],
             [
              1,
              "#f0f921"
             ]
            ],
            "type": "heatmap"
           }
          ],
          "heatmapgl": [
           {
            "colorbar": {
             "outlinewidth": 0,
             "ticks": ""
            },
            "colorscale": [
             [
              0,
              "#0d0887"
             ],
             [
              0.1111111111111111,
              "#46039f"
             ],
             [
              0.2222222222222222,
              "#7201a8"
             ],
             [
              0.3333333333333333,
              "#9c179e"
             ],
             [
              0.4444444444444444,
              "#bd3786"
             ],
             [
              0.5555555555555556,
              "#d8576b"
             ],
             [
              0.6666666666666666,
              "#ed7953"
             ],
             [
              0.7777777777777778,
              "#fb9f3a"
             ],
             [
              0.8888888888888888,
              "#fdca26"
             ],
             [
              1,
              "#f0f921"
             ]
            ],
            "type": "heatmapgl"
           }
          ],
          "histogram": [
           {
            "marker": {
             "colorbar": {
              "outlinewidth": 0,
              "ticks": ""
             }
            },
            "type": "histogram"
           }
          ],
          "histogram2d": [
           {
            "colorbar": {
             "outlinewidth": 0,
             "ticks": ""
            },
            "colorscale": [
             [
              0,
              "#0d0887"
             ],
             [
              0.1111111111111111,
              "#46039f"
             ],
             [
              0.2222222222222222,
              "#7201a8"
             ],
             [
              0.3333333333333333,
              "#9c179e"
             ],
             [
              0.4444444444444444,
              "#bd3786"
             ],
             [
              0.5555555555555556,
              "#d8576b"
             ],
             [
              0.6666666666666666,
              "#ed7953"
             ],
             [
              0.7777777777777778,
              "#fb9f3a"
             ],
             [
              0.8888888888888888,
              "#fdca26"
             ],
             [
              1,
              "#f0f921"
             ]
            ],
            "type": "histogram2d"
           }
          ],
          "histogram2dcontour": [
           {
            "colorbar": {
             "outlinewidth": 0,
             "ticks": ""
            },
            "colorscale": [
             [
              0,
              "#0d0887"
             ],
             [
              0.1111111111111111,
              "#46039f"
             ],
             [
              0.2222222222222222,
              "#7201a8"
             ],
             [
              0.3333333333333333,
              "#9c179e"
             ],
             [
              0.4444444444444444,
              "#bd3786"
             ],
             [
              0.5555555555555556,
              "#d8576b"
             ],
             [
              0.6666666666666666,
              "#ed7953"
             ],
             [
              0.7777777777777778,
              "#fb9f3a"
             ],
             [
              0.8888888888888888,
              "#fdca26"
             ],
             [
              1,
              "#f0f921"
             ]
            ],
            "type": "histogram2dcontour"
           }
          ],
          "mesh3d": [
           {
            "colorbar": {
             "outlinewidth": 0,
             "ticks": ""
            },
            "type": "mesh3d"
           }
          ],
          "parcoords": [
           {
            "line": {
             "colorbar": {
              "outlinewidth": 0,
              "ticks": ""
             }
            },
            "type": "parcoords"
           }
          ],
          "pie": [
           {
            "automargin": true,
            "type": "pie"
           }
          ],
          "scatter": [
           {
            "marker": {
             "colorbar": {
              "outlinewidth": 0,
              "ticks": ""
             }
            },
            "type": "scatter"
           }
          ],
          "scatter3d": [
           {
            "line": {
             "colorbar": {
              "outlinewidth": 0,
              "ticks": ""
             }
            },
            "marker": {
             "colorbar": {
              "outlinewidth": 0,
              "ticks": ""
             }
            },
            "type": "scatter3d"
           }
          ],
          "scattercarpet": [
           {
            "marker": {
             "colorbar": {
              "outlinewidth": 0,
              "ticks": ""
             }
            },
            "type": "scattercarpet"
           }
          ],
          "scattergeo": [
           {
            "marker": {
             "colorbar": {
              "outlinewidth": 0,
              "ticks": ""
             }
            },
            "type": "scattergeo"
           }
          ],
          "scattergl": [
           {
            "marker": {
             "colorbar": {
              "outlinewidth": 0,
              "ticks": ""
             }
            },
            "type": "scattergl"
           }
          ],
          "scattermapbox": [
           {
            "marker": {
             "colorbar": {
              "outlinewidth": 0,
              "ticks": ""
             }
            },
            "type": "scattermapbox"
           }
          ],
          "scatterpolar": [
           {
            "marker": {
             "colorbar": {
              "outlinewidth": 0,
              "ticks": ""
             }
            },
            "type": "scatterpolar"
           }
          ],
          "scatterpolargl": [
           {
            "marker": {
             "colorbar": {
              "outlinewidth": 0,
              "ticks": ""
             }
            },
            "type": "scatterpolargl"
           }
          ],
          "scatterternary": [
           {
            "marker": {
             "colorbar": {
              "outlinewidth": 0,
              "ticks": ""
             }
            },
            "type": "scatterternary"
           }
          ],
          "surface": [
           {
            "colorbar": {
             "outlinewidth": 0,
             "ticks": ""
            },
            "colorscale": [
             [
              0,
              "#0d0887"
             ],
             [
              0.1111111111111111,
              "#46039f"
             ],
             [
              0.2222222222222222,
              "#7201a8"
             ],
             [
              0.3333333333333333,
              "#9c179e"
             ],
             [
              0.4444444444444444,
              "#bd3786"
             ],
             [
              0.5555555555555556,
              "#d8576b"
             ],
             [
              0.6666666666666666,
              "#ed7953"
             ],
             [
              0.7777777777777778,
              "#fb9f3a"
             ],
             [
              0.8888888888888888,
              "#fdca26"
             ],
             [
              1,
              "#f0f921"
             ]
            ],
            "type": "surface"
           }
          ],
          "table": [
           {
            "cells": {
             "fill": {
              "color": "#EBF0F8"
             },
             "line": {
              "color": "white"
             }
            },
            "header": {
             "fill": {
              "color": "#C8D4E3"
             },
             "line": {
              "color": "white"
             }
            },
            "type": "table"
           }
          ]
         },
         "layout": {
          "annotationdefaults": {
           "arrowcolor": "#2a3f5f",
           "arrowhead": 0,
           "arrowwidth": 1
          },
          "coloraxis": {
           "colorbar": {
            "outlinewidth": 0,
            "ticks": ""
           }
          },
          "colorscale": {
           "diverging": [
            [
             0,
             "#8e0152"
            ],
            [
             0.1,
             "#c51b7d"
            ],
            [
             0.2,
             "#de77ae"
            ],
            [
             0.3,
             "#f1b6da"
            ],
            [
             0.4,
             "#fde0ef"
            ],
            [
             0.5,
             "#f7f7f7"
            ],
            [
             0.6,
             "#e6f5d0"
            ],
            [
             0.7,
             "#b8e186"
            ],
            [
             0.8,
             "#7fbc41"
            ],
            [
             0.9,
             "#4d9221"
            ],
            [
             1,
             "#276419"
            ]
           ],
           "sequential": [
            [
             0,
             "#0d0887"
            ],
            [
             0.1111111111111111,
             "#46039f"
            ],
            [
             0.2222222222222222,
             "#7201a8"
            ],
            [
             0.3333333333333333,
             "#9c179e"
            ],
            [
             0.4444444444444444,
             "#bd3786"
            ],
            [
             0.5555555555555556,
             "#d8576b"
            ],
            [
             0.6666666666666666,
             "#ed7953"
            ],
            [
             0.7777777777777778,
             "#fb9f3a"
            ],
            [
             0.8888888888888888,
             "#fdca26"
            ],
            [
             1,
             "#f0f921"
            ]
           ],
           "sequentialminus": [
            [
             0,
             "#0d0887"
            ],
            [
             0.1111111111111111,
             "#46039f"
            ],
            [
             0.2222222222222222,
             "#7201a8"
            ],
            [
             0.3333333333333333,
             "#9c179e"
            ],
            [
             0.4444444444444444,
             "#bd3786"
            ],
            [
             0.5555555555555556,
             "#d8576b"
            ],
            [
             0.6666666666666666,
             "#ed7953"
            ],
            [
             0.7777777777777778,
             "#fb9f3a"
            ],
            [
             0.8888888888888888,
             "#fdca26"
            ],
            [
             1,
             "#f0f921"
            ]
           ]
          },
          "colorway": [
           "#636efa",
           "#EF553B",
           "#00cc96",
           "#ab63fa",
           "#FFA15A",
           "#19d3f3",
           "#FF6692",
           "#B6E880",
           "#FF97FF",
           "#FECB52"
          ],
          "font": {
           "color": "#2a3f5f"
          },
          "geo": {
           "bgcolor": "white",
           "lakecolor": "white",
           "landcolor": "#E5ECF6",
           "showlakes": true,
           "showland": true,
           "subunitcolor": "white"
          },
          "hoverlabel": {
           "align": "left"
          },
          "hovermode": "closest",
          "mapbox": {
           "style": "light"
          },
          "paper_bgcolor": "white",
          "plot_bgcolor": "#E5ECF6",
          "polar": {
           "angularaxis": {
            "gridcolor": "white",
            "linecolor": "white",
            "ticks": ""
           },
           "bgcolor": "#E5ECF6",
           "radialaxis": {
            "gridcolor": "white",
            "linecolor": "white",
            "ticks": ""
           }
          },
          "scene": {
           "xaxis": {
            "backgroundcolor": "#E5ECF6",
            "gridcolor": "white",
            "gridwidth": 2,
            "linecolor": "white",
            "showbackground": true,
            "ticks": "",
            "zerolinecolor": "white"
           },
           "yaxis": {
            "backgroundcolor": "#E5ECF6",
            "gridcolor": "white",
            "gridwidth": 2,
            "linecolor": "white",
            "showbackground": true,
            "ticks": "",
            "zerolinecolor": "white"
           },
           "zaxis": {
            "backgroundcolor": "#E5ECF6",
            "gridcolor": "white",
            "gridwidth": 2,
            "linecolor": "white",
            "showbackground": true,
            "ticks": "",
            "zerolinecolor": "white"
           }
          },
          "shapedefaults": {
           "line": {
            "color": "#2a3f5f"
           }
          },
          "ternary": {
           "aaxis": {
            "gridcolor": "white",
            "linecolor": "white",
            "ticks": ""
           },
           "baxis": {
            "gridcolor": "white",
            "linecolor": "white",
            "ticks": ""
           },
           "bgcolor": "#E5ECF6",
           "caxis": {
            "gridcolor": "white",
            "linecolor": "white",
            "ticks": ""
           }
          },
          "title": {
           "x": 0.05
          },
          "xaxis": {
           "automargin": true,
           "gridcolor": "white",
           "linecolor": "white",
           "ticks": "",
           "title": {
            "standoff": 15
           },
           "zerolinecolor": "white",
           "zerolinewidth": 2
          },
          "yaxis": {
           "automargin": true,
           "gridcolor": "white",
           "linecolor": "white",
           "ticks": "",
           "title": {
            "standoff": 15
           },
           "zerolinecolor": "white",
           "zerolinewidth": 2
          }
         }
        },
        "xaxis": {
         "anchor": "y",
         "domain": [
          0,
          1
         ],
         "title": {
          "text": "lvl_of_democracy"
         }
        },
        "yaxis": {
         "anchor": "x",
         "domain": [
          0,
          1
         ],
         "title": {
          "text": "count"
         }
        }
       }
      },
      "text/html": [
       "<div>\n",
       "        \n",
       "        \n",
       "            <div id=\"b00b542a-4b70-4b7d-827d-02866b380d7e\" class=\"plotly-graph-div\" style=\"height:600px; width:100%;\"></div>\n",
       "            <script type=\"text/javascript\">\n",
       "                require([\"plotly\"], function(Plotly) {\n",
       "                    window.PLOTLYENV=window.PLOTLYENV || {};\n",
       "                    \n",
       "                if (document.getElementById(\"b00b542a-4b70-4b7d-827d-02866b380d7e\")) {\n",
       "                    Plotly.newPlot(\n",
       "                        'b00b542a-4b70-4b7d-827d-02866b380d7e',\n",
       "                        [{\"alignmentgroup\": \"True\", \"bingroup\": \"x\", \"hoverlabel\": {\"namelength\": 0}, \"hovertemplate\": \"lvl_of_democracy=%{x}<br>count=%{y}\", \"legendgroup\": \"\", \"marker\": {\"color\": \"#636efa\"}, \"name\": \"\", \"offsetgroup\": \"\", \"orientation\": \"v\", \"showlegend\": false, \"type\": \"histogram\", \"x\": [-9, -9, -9, 10, 10, -9, -9, 10, -10, -4, 5, -7, 10, 2, -8, -5, 10, -7, 0, -7, 10, -9, 2, -7, -6, -9, -9, 10, 10, -9, 10, 4, 2, -5, -3, -7, 9, 0, -1, -4, 10, 10, 10, 10, -1, -9, -7, -4, -9, -9, 2, -6, -7, -9, -7, -6, -9, -7, -7, 8, -7, 10, 10, -8, 10, -6, 5, -1, -5, -2, 5, -7, -9, -7, -9, -10, -7, -7, -7, 4, -7, 7, 10, 10, -7, -8, -9, -6, 7, -9, -9, 10, 10, 8, -9, -3, -9, -1, -7, 10, 10, -7, -7, 10, -10, -3, 5, -7, 10, 5, -8, 7, 10, -7, -9, -7, 10, -9, 2, -7, -5, -7, -9, 10, 10, -7, 10, 4, -6, -5, -1, -7, 9, -1, -10, -4, 10, 10, 10, 10, -9, -7, -8, -4, -7, -7, 2, -6, -7, -7, -7, -6, -7, -7, -7, 8, -4, 10, 10, -8, 10, -10, 8, 4, -9, 5, 5, -7, -9, -7, -7, -10, -7, -7, -7, 4, -7, 7, 10, 10, 7, -8, -7, -3, 4, -7, -7, 10, 10, 8, -7, -3, -9, -1, -7, 10, 10, -7, -7, 10, -10, -3, 5, -7, 10, 5, -8, 7, 10, -7, -7, -7, 10, 8, -1, -7, -3, -7, -9, 10, 5, -7, 10, 4, -5, -9, -1, -7, 9, -5, -10, -5, 10, 10, 10, 10, -9, -7, -8, -7, -7, -7, 2, -6, -7, -7, -7, -6, -7, -7, -7, -6, -9, 10, 10, -8, 10, -10, 1, 4, -9, -6, 5, -7, -9, -7, -7, -10, -7, -7, -7, 4, -7, 7, 10, 10, -2, -8, -7, -7, 9, -7, -7, 10, 10, 8, -7, 6, -9, -9, -7, 10, 10, -7, -7, 10, -10, -4, -9, -7, 10, 6, -9, 7, 10, -7, -7, -7, 10, -3, -1, -7, 0, -7, -9, 10, 5, -7, 10, -7, 3, -9, -1, -7, 9, -7, -10, -5, 10, 9, 10, 10, -9, -7, -9, 3, -7, -7, 2, -6, -7, -7, -7, -6, -7, -7, -7, -7, -9, 10, 10, -8, 10, -10, 1, 4, -8, 5, 5, -7, -9, -7, -7, -10, -7, -7, -7, 4, -7, 7, 10, 10, -7, -8, -7, -7, 8, -7, -7, 10, 10, 8, -7, 6, -9, -9, -7, 10, 10, -7, -7, 10, -10, -7, -9, -7, 10, 6, -8, 7, 10, -7, -7, -7, 10, -3, -5, -7, -1, -7, -9, 10, 8, -7, 10, -7, 1, -10, -1, -7, 9, -7, -10, -7, 10, 9, 10, 10, -9, -7, -9, -9, -7, -7, 5, -6, -7, -7, -7, -6, -7, -7, -7, -7, -9, 10, 10, -8, 10, -10, 4, -7, -8, -7, -9, -7, -9, -7, -7, -10, -7, -7, -7, 4, -7, 8, 10, 10, -9, -8, -7, -7, -2, -7, -7, 10, 10, -3, -7, 9, -9, -9, -7, 10, 10, -7, -7, 10, -10, -7, -4, -7, 10, -7, -7, 8, 10, -7, -7, -7, 10, -3, -5, -6, -6, -7, -7, 10, 8, -7, 10, 8, -3, -9, -1, -7, 8, -7, -10, -7, 10, 9, 10, 10, -10, -7, -9, -8, -7, -7, 0, -6, -7, -7, -7, -3, -7, -7, -7, -6, -9, 10, 10, -8, 10, -10, -7, -7, -8, -7, -9, -7, 9, -8, -7, -10, -7, -7, -7, 4, 5, 8, 10, 10, -9, -7, -7, -2, 9, -7, -7, 10, 10, -8, -7, 9, -9, -8, -7, 10, 10, -7, -7, 10, -10, 8, -3, -7, 10, -7, -7, 8, 10, -5, -7, -7, 10, 6, 9, -6, 2, -7, -7, 10, 8, -7, 10, 8, -7, -9, 6, -7, 8, -7, -6, -9, 10, 9, 10, 10, -10, -7, -9, -5, -7, -7, 0, -7, -7, -7, -5, -3, -7, -7, -5, -8, -2, 10, 10, -5, 10, -10, -7, -5, -8, 7, -7, -8, 10, -8, -7, -10, -5, -7, -5, 4, 10, 5, 10, 10, -9, -7, -7, 2, -5, -7, -7, 10, 10, -7, -7, 9, -9, 8, -7, 10, 10, -7, -7, 10, -10, 9, 7, -7, 10, -6, -7, 8, 10, -5, -7, -7, 10, 6, 8, -6, 6, -7, -8, 10, 9, -7, 10, 10, 3, -8, 5, -7, 8, -7, -6, -9, 10, 9, 10, 10, -9, -7, -9, 1, -7, -7, 0, -6, -7, -7, -5, -3, -7, -7, -5, -8, -2, 10, 10, -1, 10, -10, -4, -8, -8, 7, 8, -6, 10, -8, -7, -10, -5, -7, -5, 4, 10, 5, 10, 10, -9, -1, -7, 2, 7, -7, -7, 10, 10, 9, -7, 9, 5, 7, 7, 10, 10, 1, 7, 10, -10, 9, 8, 8, 10, 8, -7, 9, 10, -3, -7, 8, 10, 6, 9, -6, 7, 6, 0, 10, 9, 4, 10, 10, 3, -7, 6, 10, 8, -7, -6, -9, 10, 9, 10, 10, -2, -3, -9, 6, -3, 8, 0, 0, -7, 10, 6, 0, 5, 9, -5, -7, 5, 10, 10, 6, 10, -9, 8, 8, 7, -3, 8, 8, 10, 5, 5, -10, -5, 8, 10, 6, 10, 5, 10, 10, -9, 7, -6, 9, 9, -9, 6, 10, 10, 10, -9, 8], \"xaxis\": \"x\", \"yaxis\": \"y\"}],\n",
       "                        {\"barmode\": \"relative\", \"height\": 600, \"legend\": {\"tracegroupgap\": 0}, \"margin\": {\"t\": 60}, \"template\": {\"data\": {\"bar\": [{\"error_x\": {\"color\": \"#2a3f5f\"}, \"error_y\": {\"color\": \"#2a3f5f\"}, \"marker\": {\"line\": {\"color\": \"#E5ECF6\", \"width\": 0.5}}, \"type\": \"bar\"}], \"barpolar\": [{\"marker\": {\"line\": {\"color\": \"#E5ECF6\", \"width\": 0.5}}, \"type\": \"barpolar\"}], \"carpet\": [{\"aaxis\": {\"endlinecolor\": \"#2a3f5f\", \"gridcolor\": \"white\", \"linecolor\": \"white\", \"minorgridcolor\": \"white\", \"startlinecolor\": \"#2a3f5f\"}, \"baxis\": {\"endlinecolor\": \"#2a3f5f\", \"gridcolor\": \"white\", \"linecolor\": \"white\", \"minorgridcolor\": \"white\", \"startlinecolor\": \"#2a3f5f\"}, \"type\": \"carpet\"}], \"choropleth\": [{\"colorbar\": {\"outlinewidth\": 0, \"ticks\": \"\"}, \"type\": \"choropleth\"}], \"contour\": [{\"colorbar\": {\"outlinewidth\": 0, \"ticks\": \"\"}, \"colorscale\": [[0.0, \"#0d0887\"], [0.1111111111111111, \"#46039f\"], [0.2222222222222222, \"#7201a8\"], [0.3333333333333333, \"#9c179e\"], [0.4444444444444444, \"#bd3786\"], [0.5555555555555556, \"#d8576b\"], [0.6666666666666666, \"#ed7953\"], [0.7777777777777778, \"#fb9f3a\"], [0.8888888888888888, \"#fdca26\"], [1.0, \"#f0f921\"]], \"type\": \"contour\"}], \"contourcarpet\": [{\"colorbar\": {\"outlinewidth\": 0, \"ticks\": \"\"}, \"type\": \"contourcarpet\"}], \"heatmap\": [{\"colorbar\": {\"outlinewidth\": 0, \"ticks\": \"\"}, \"colorscale\": [[0.0, \"#0d0887\"], [0.1111111111111111, \"#46039f\"], [0.2222222222222222, \"#7201a8\"], [0.3333333333333333, \"#9c179e\"], [0.4444444444444444, \"#bd3786\"], [0.5555555555555556, \"#d8576b\"], [0.6666666666666666, \"#ed7953\"], [0.7777777777777778, \"#fb9f3a\"], [0.8888888888888888, \"#fdca26\"], [1.0, \"#f0f921\"]], \"type\": \"heatmap\"}], \"heatmapgl\": [{\"colorbar\": {\"outlinewidth\": 0, \"ticks\": \"\"}, \"colorscale\": [[0.0, \"#0d0887\"], [0.1111111111111111, \"#46039f\"], [0.2222222222222222, \"#7201a8\"], [0.3333333333333333, \"#9c179e\"], [0.4444444444444444, \"#bd3786\"], [0.5555555555555556, \"#d8576b\"], [0.6666666666666666, \"#ed7953\"], [0.7777777777777778, \"#fb9f3a\"], [0.8888888888888888, \"#fdca26\"], [1.0, \"#f0f921\"]], \"type\": \"heatmapgl\"}], \"histogram\": [{\"marker\": {\"colorbar\": {\"outlinewidth\": 0, \"ticks\": \"\"}}, \"type\": \"histogram\"}], \"histogram2d\": [{\"colorbar\": {\"outlinewidth\": 0, \"ticks\": \"\"}, \"colorscale\": [[0.0, \"#0d0887\"], [0.1111111111111111, \"#46039f\"], [0.2222222222222222, \"#7201a8\"], [0.3333333333333333, \"#9c179e\"], [0.4444444444444444, \"#bd3786\"], [0.5555555555555556, \"#d8576b\"], [0.6666666666666666, \"#ed7953\"], [0.7777777777777778, \"#fb9f3a\"], [0.8888888888888888, \"#fdca26\"], [1.0, \"#f0f921\"]], \"type\": \"histogram2d\"}], \"histogram2dcontour\": [{\"colorbar\": {\"outlinewidth\": 0, \"ticks\": \"\"}, \"colorscale\": [[0.0, \"#0d0887\"], [0.1111111111111111, \"#46039f\"], [0.2222222222222222, \"#7201a8\"], [0.3333333333333333, \"#9c179e\"], [0.4444444444444444, \"#bd3786\"], [0.5555555555555556, \"#d8576b\"], [0.6666666666666666, \"#ed7953\"], [0.7777777777777778, \"#fb9f3a\"], [0.8888888888888888, \"#fdca26\"], [1.0, \"#f0f921\"]], \"type\": \"histogram2dcontour\"}], \"mesh3d\": [{\"colorbar\": {\"outlinewidth\": 0, \"ticks\": \"\"}, \"type\": \"mesh3d\"}], \"parcoords\": [{\"line\": {\"colorbar\": {\"outlinewidth\": 0, \"ticks\": \"\"}}, \"type\": \"parcoords\"}], \"pie\": [{\"automargin\": true, \"type\": \"pie\"}], \"scatter\": [{\"marker\": {\"colorbar\": {\"outlinewidth\": 0, \"ticks\": \"\"}}, \"type\": \"scatter\"}], \"scatter3d\": [{\"line\": {\"colorbar\": {\"outlinewidth\": 0, \"ticks\": \"\"}}, \"marker\": {\"colorbar\": {\"outlinewidth\": 0, \"ticks\": \"\"}}, \"type\": \"scatter3d\"}], \"scattercarpet\": [{\"marker\": {\"colorbar\": {\"outlinewidth\": 0, \"ticks\": \"\"}}, \"type\": \"scattercarpet\"}], \"scattergeo\": [{\"marker\": {\"colorbar\": {\"outlinewidth\": 0, \"ticks\": \"\"}}, \"type\": \"scattergeo\"}], \"scattergl\": [{\"marker\": {\"colorbar\": {\"outlinewidth\": 0, \"ticks\": \"\"}}, \"type\": \"scattergl\"}], \"scattermapbox\": [{\"marker\": {\"colorbar\": {\"outlinewidth\": 0, \"ticks\": \"\"}}, \"type\": \"scattermapbox\"}], \"scatterpolar\": [{\"marker\": {\"colorbar\": {\"outlinewidth\": 0, \"ticks\": \"\"}}, \"type\": \"scatterpolar\"}], \"scatterpolargl\": [{\"marker\": {\"colorbar\": {\"outlinewidth\": 0, \"ticks\": \"\"}}, \"type\": \"scatterpolargl\"}], \"scatterternary\": [{\"marker\": {\"colorbar\": {\"outlinewidth\": 0, \"ticks\": \"\"}}, \"type\": \"scatterternary\"}], \"surface\": [{\"colorbar\": {\"outlinewidth\": 0, \"ticks\": \"\"}, \"colorscale\": [[0.0, \"#0d0887\"], [0.1111111111111111, \"#46039f\"], [0.2222222222222222, \"#7201a8\"], [0.3333333333333333, \"#9c179e\"], [0.4444444444444444, \"#bd3786\"], [0.5555555555555556, \"#d8576b\"], [0.6666666666666666, \"#ed7953\"], [0.7777777777777778, \"#fb9f3a\"], [0.8888888888888888, \"#fdca26\"], [1.0, \"#f0f921\"]], \"type\": \"surface\"}], \"table\": [{\"cells\": {\"fill\": {\"color\": \"#EBF0F8\"}, \"line\": {\"color\": \"white\"}}, \"header\": {\"fill\": {\"color\": \"#C8D4E3\"}, \"line\": {\"color\": \"white\"}}, \"type\": \"table\"}]}, \"layout\": {\"annotationdefaults\": {\"arrowcolor\": \"#2a3f5f\", \"arrowhead\": 0, \"arrowwidth\": 1}, \"coloraxis\": {\"colorbar\": {\"outlinewidth\": 0, \"ticks\": \"\"}}, \"colorscale\": {\"diverging\": [[0, \"#8e0152\"], [0.1, \"#c51b7d\"], [0.2, \"#de77ae\"], [0.3, \"#f1b6da\"], [0.4, \"#fde0ef\"], [0.5, \"#f7f7f7\"], [0.6, \"#e6f5d0\"], [0.7, \"#b8e186\"], [0.8, \"#7fbc41\"], [0.9, \"#4d9221\"], [1, \"#276419\"]], \"sequential\": [[0.0, \"#0d0887\"], [0.1111111111111111, \"#46039f\"], [0.2222222222222222, \"#7201a8\"], [0.3333333333333333, \"#9c179e\"], [0.4444444444444444, \"#bd3786\"], [0.5555555555555556, \"#d8576b\"], [0.6666666666666666, \"#ed7953\"], [0.7777777777777778, \"#fb9f3a\"], [0.8888888888888888, \"#fdca26\"], [1.0, \"#f0f921\"]], \"sequentialminus\": [[0.0, \"#0d0887\"], [0.1111111111111111, \"#46039f\"], [0.2222222222222222, \"#7201a8\"], [0.3333333333333333, \"#9c179e\"], [0.4444444444444444, \"#bd3786\"], [0.5555555555555556, \"#d8576b\"], [0.6666666666666666, \"#ed7953\"], [0.7777777777777778, \"#fb9f3a\"], [0.8888888888888888, \"#fdca26\"], [1.0, \"#f0f921\"]]}, \"colorway\": [\"#636efa\", \"#EF553B\", \"#00cc96\", \"#ab63fa\", \"#FFA15A\", \"#19d3f3\", \"#FF6692\", \"#B6E880\", \"#FF97FF\", \"#FECB52\"], \"font\": {\"color\": \"#2a3f5f\"}, \"geo\": {\"bgcolor\": \"white\", \"lakecolor\": \"white\", \"landcolor\": \"#E5ECF6\", \"showlakes\": true, \"showland\": true, \"subunitcolor\": \"white\"}, \"hoverlabel\": {\"align\": \"left\"}, \"hovermode\": \"closest\", \"mapbox\": {\"style\": \"light\"}, \"paper_bgcolor\": \"white\", \"plot_bgcolor\": \"#E5ECF6\", \"polar\": {\"angularaxis\": {\"gridcolor\": \"white\", \"linecolor\": \"white\", \"ticks\": \"\"}, \"bgcolor\": \"#E5ECF6\", \"radialaxis\": {\"gridcolor\": \"white\", \"linecolor\": \"white\", \"ticks\": \"\"}}, \"scene\": {\"xaxis\": {\"backgroundcolor\": \"#E5ECF6\", \"gridcolor\": \"white\", \"gridwidth\": 2, \"linecolor\": \"white\", \"showbackground\": true, \"ticks\": \"\", \"zerolinecolor\": \"white\"}, \"yaxis\": {\"backgroundcolor\": \"#E5ECF6\", \"gridcolor\": \"white\", \"gridwidth\": 2, \"linecolor\": \"white\", \"showbackground\": true, \"ticks\": \"\", \"zerolinecolor\": \"white\"}, \"zaxis\": {\"backgroundcolor\": \"#E5ECF6\", \"gridcolor\": \"white\", \"gridwidth\": 2, \"linecolor\": \"white\", \"showbackground\": true, \"ticks\": \"\", \"zerolinecolor\": \"white\"}}, \"shapedefaults\": {\"line\": {\"color\": \"#2a3f5f\"}}, \"ternary\": {\"aaxis\": {\"gridcolor\": \"white\", \"linecolor\": \"white\", \"ticks\": \"\"}, \"baxis\": {\"gridcolor\": \"white\", \"linecolor\": \"white\", \"ticks\": \"\"}, \"bgcolor\": \"#E5ECF6\", \"caxis\": {\"gridcolor\": \"white\", \"linecolor\": \"white\", \"ticks\": \"\"}}, \"title\": {\"x\": 0.05}, \"xaxis\": {\"automargin\": true, \"gridcolor\": \"white\", \"linecolor\": \"white\", \"ticks\": \"\", \"title\": {\"standoff\": 15}, \"zerolinecolor\": \"white\", \"zerolinewidth\": 2}, \"yaxis\": {\"automargin\": true, \"gridcolor\": \"white\", \"linecolor\": \"white\", \"ticks\": \"\", \"title\": {\"standoff\": 15}, \"zerolinecolor\": \"white\", \"zerolinewidth\": 2}}}, \"xaxis\": {\"anchor\": \"y\", \"domain\": [0.0, 1.0], \"title\": {\"text\": \"lvl_of_democracy\"}}, \"yaxis\": {\"anchor\": \"x\", \"domain\": [0.0, 1.0], \"title\": {\"text\": \"count\"}}},\n",
       "                        {\"responsive\": true}\n",
       "                    ).then(function(){\n",
       "                            \n",
       "var gd = document.getElementById('b00b542a-4b70-4b7d-827d-02866b380d7e');\n",
       "var x = new MutationObserver(function (mutations, observer) {{\n",
       "        var display = window.getComputedStyle(gd).display;\n",
       "        if (!display || display === 'none') {{\n",
       "            console.log([gd, 'removed!']);\n",
       "            Plotly.purge(gd);\n",
       "            observer.disconnect();\n",
       "        }}\n",
       "}});\n",
       "\n",
       "// Listen for the removal of the full notebook cells\n",
       "var notebookContainer = gd.closest('#notebook-container');\n",
       "if (notebookContainer) {{\n",
       "    x.observe(notebookContainer, {childList: true});\n",
       "}}\n",
       "\n",
       "// Listen for the clearing of the current output cell\n",
       "var outputEl = gd.closest('.output');\n",
       "if (outputEl) {{\n",
       "    x.observe(outputEl, {childList: true});\n",
       "}}\n",
       "\n",
       "                        })\n",
       "                };\n",
       "                });\n",
       "            </script>\n",
       "        </div>"
      ]
     },
     "metadata": {},
     "output_type": "display_data"
    }
   ],
   "source": [
    "px.histogram(data, x='lvl_of_democracy').show()"
   ]
  },
  {
   "cell_type": "code",
   "execution_count": null,
   "metadata": {},
   "outputs": [],
   "source": []
  }
 ],
 "metadata": {
  "kernelspec": {
   "display_name": "Python 3",
   "language": "python",
   "name": "python3"
  },
  "language_info": {
   "codemirror_mode": {
    "name": "ipython",
    "version": 3
   },
   "file_extension": ".py",
   "mimetype": "text/x-python",
   "name": "python",
   "nbconvert_exporter": "python",
   "pygments_lexer": "ipython3",
   "version": "3.7.1"
  }
 },
 "nbformat": 4,
 "nbformat_minor": 2
}
